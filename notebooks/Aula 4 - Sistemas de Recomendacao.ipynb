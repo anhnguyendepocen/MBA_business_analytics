{
 "cells": [
  {
   "cell_type": "markdown",
   "metadata": {},
   "source": [
    "![alt text](FGV_logo.png)\n",
    "\n",
    "# Sistemas de Recomendação\n",
    "\n",
    "\n",
    "Referencias:\n",
    "* [Slides Machine Learning Summer School 2014 @ CMU](https://www.slideshare.net/xamat/recommender-systems-machine-learning-summer-school-2014-cmu)\n",
    "* [Video Machine Learning Summer School 2014 @ CMU](https://www.youtube.com/watch?v=bLhq63ygoU8&t=3207s)\n",
    "<br>\n",
    "\n"
   ]
  },
  {
   "cell_type": "code",
   "execution_count": 1,
   "metadata": {},
   "outputs": [],
   "source": [
    "import pandas as pd\n",
    "import numpy as np\n",
    "\n",
    "a = np.array((1,3))\n",
    "b = np.array((4,4))"
   ]
  },
  {
   "cell_type": "markdown",
   "metadata": {},
   "source": [
    "#### distancia euclideana"
   ]
  },
  {
   "cell_type": "code",
   "execution_count": 2,
   "metadata": {},
   "outputs": [
    {
     "data": {
      "text/plain": [
       "3.1622776601683795"
      ]
     },
     "execution_count": 2,
     "metadata": {},
     "output_type": "execute_result"
    }
   ],
   "source": [
    "# a distancia euclideana será dada por:\n",
    "np.sqrt((b[1] - a[1]) ** 2 + (b[0] - a[0]) ** 2)"
   ]
  },
  {
   "cell_type": "code",
   "execution_count": 3,
   "metadata": {},
   "outputs": [
    {
     "data": {
      "text/plain": [
       "3.1622776601683795"
      ]
     },
     "execution_count": 3,
     "metadata": {},
     "output_type": "execute_result"
    }
   ],
   "source": [
    "# alternativa\n",
    "np.linalg.norm(a-b)"
   ]
  },
  {
   "cell_type": "markdown",
   "metadata": {},
   "source": [
    "#### similaridade cosseno"
   ]
  },
  {
   "cell_type": "code",
   "execution_count": 4,
   "metadata": {},
   "outputs": [
    {
     "data": {
      "text/plain": [
       "0.89442719099991586"
      ]
     },
     "execution_count": 4,
     "metadata": {},
     "output_type": "execute_result"
    }
   ],
   "source": [
    "# primeiro, as normas de cada vetor\n",
    "l_a = np.sqrt(a[0]**2 + a[1]**2)\n",
    "l_b = np.sqrt(b[0]**2 + b[1]**2)\n",
    "# a similaridade cosseno será dada por:\n",
    "(a[0] * b[0] + a[1] * b[1])/(l_a * l_b)"
   ]
  },
  {
   "cell_type": "code",
   "execution_count": 5,
   "metadata": {},
   "outputs": [
    {
     "data": {
      "text/plain": [
       "0.89442719099991586"
      ]
     },
     "execution_count": 5,
     "metadata": {},
     "output_type": "execute_result"
    }
   ],
   "source": [
    "# alternativa 1\n",
    "from scipy import spatial\n",
    "1 - spatial.distance.cosine(a, b)"
   ]
  },
  {
   "cell_type": "code",
   "execution_count": 6,
   "metadata": {},
   "outputs": [
    {
     "data": {
      "text/plain": [
       "array([[ 0.89442719]])"
      ]
     },
     "execution_count": 6,
     "metadata": {},
     "output_type": "execute_result"
    }
   ],
   "source": [
    "# alternativa 2\n",
    "from sklearn.metrics.pairwise import cosine_similarity\n",
    "cosine_similarity([a], [b])"
   ]
  },
  {
   "cell_type": "markdown",
   "metadata": {},
   "source": [
    "#### pearson's r\n",
    "para verificar a similaridade entre colunas"
   ]
  },
  {
   "cell_type": "code",
   "execution_count": 7,
   "metadata": {},
   "outputs": [],
   "source": [
    "a = np.array((1,3))\n",
    "b = np.array((4,4))\n",
    "c = np.array((4,7))"
   ]
  },
  {
   "cell_type": "code",
   "execution_count": 8,
   "metadata": {},
   "outputs": [],
   "source": [
    "# primeiro as medias de cada dimensão\n",
    "m_0 = (a[0] + b[0] + c[0])/3\n",
    "m_1 = (a[1] + b[1] + c[1])/3"
   ]
  },
  {
   "cell_type": "code",
   "execution_count": 9,
   "metadata": {},
   "outputs": [],
   "source": [
    "# removendo as medias de cada vetor\n",
    "a_nm = a - (m_0, m_1) \n",
    "b_nm = b - (m_0, m_1) \n",
    "c_nm = c - (m_0, m_1)"
   ]
  },
  {
   "cell_type": "code",
   "execution_count": 10,
   "metadata": {},
   "outputs": [],
   "source": [
    "l_x = np.sqrt(a_nm[0]**2 + b_nm[0]**2 + c_nm[0]**2)\n",
    "l_y = np.sqrt(a_nm[1]**2 + b_nm[1]**2 + c_nm[1]**2)"
   ]
  },
  {
   "cell_type": "code",
   "execution_count": 11,
   "metadata": {},
   "outputs": [
    {
     "data": {
      "text/plain": [
       "0.69337524528153649"
      ]
     },
     "execution_count": 11,
     "metadata": {},
     "output_type": "execute_result"
    }
   ],
   "source": [
    "(a_nm[0] * a_nm[1] + b_nm[0] * b_nm[1] + c_nm[0] * c_nm[1])/(l_x * l_y)"
   ]
  },
  {
   "cell_type": "code",
   "execution_count": 12,
   "metadata": {},
   "outputs": [
    {
     "data": {
      "text/html": [
       "<div>\n",
       "<style>\n",
       "    .dataframe thead tr:only-child th {\n",
       "        text-align: right;\n",
       "    }\n",
       "\n",
       "    .dataframe thead th {\n",
       "        text-align: left;\n",
       "    }\n",
       "\n",
       "    .dataframe tbody tr th {\n",
       "        vertical-align: top;\n",
       "    }\n",
       "</style>\n",
       "<table border=\"1\" class=\"dataframe\">\n",
       "  <thead>\n",
       "    <tr style=\"text-align: right;\">\n",
       "      <th></th>\n",
       "      <th>0</th>\n",
       "      <th>1</th>\n",
       "    </tr>\n",
       "  </thead>\n",
       "  <tbody>\n",
       "    <tr>\n",
       "      <th>0</th>\n",
       "      <td>1.000000</td>\n",
       "      <td>0.693375</td>\n",
       "    </tr>\n",
       "    <tr>\n",
       "      <th>1</th>\n",
       "      <td>0.693375</td>\n",
       "      <td>1.000000</td>\n",
       "    </tr>\n",
       "  </tbody>\n",
       "</table>\n",
       "</div>"
      ],
      "text/plain": [
       "          0         1\n",
       "0  1.000000  0.693375\n",
       "1  0.693375  1.000000"
      ]
     },
     "execution_count": 12,
     "metadata": {},
     "output_type": "execute_result"
    }
   ],
   "source": [
    "pd.DataFrame([a, b, c]).corr()"
   ]
  },
  {
   "cell_type": "code",
   "execution_count": null,
   "metadata": {},
   "outputs": [],
   "source": []
  },
  {
   "cell_type": "markdown",
   "metadata": {},
   "source": [
    "### Exemplo - Netflix"
   ]
  },
  {
   "cell_type": "code",
   "execution_count": 13,
   "metadata": {},
   "outputs": [],
   "source": [
    "df = pd.DataFrame([[2, np.nan, 2, 4, 5, np.nan],\n",
    " [5, np.nan, 4, np.nan, np.nan, 1],\n",
    " [np.nan, np.nan, 5, np.nan, 2, np.nan],\n",
    " [np.nan, 1, np.nan, 5, np.nan, 4], \n",
    " [np.nan, np.nan, 4, np.nan, np.nan, 2],\n",
    " [4, 5, np.nan, 1, np.nan, np.nan]])"
   ]
  },
  {
   "cell_type": "code",
   "execution_count": 14,
   "metadata": {},
   "outputs": [],
   "source": [
    "df.columns = ['s', 'hc', 'a', 'ad', 'bb', 'wd']"
   ]
  },
  {
   "cell_type": "code",
   "execution_count": 15,
   "metadata": {},
   "outputs": [
    {
     "data": {
      "text/html": [
       "<div>\n",
       "<style>\n",
       "    .dataframe thead tr:only-child th {\n",
       "        text-align: right;\n",
       "    }\n",
       "\n",
       "    .dataframe thead th {\n",
       "        text-align: left;\n",
       "    }\n",
       "\n",
       "    .dataframe tbody tr th {\n",
       "        vertical-align: top;\n",
       "    }\n",
       "</style>\n",
       "<table border=\"1\" class=\"dataframe\">\n",
       "  <thead>\n",
       "    <tr style=\"text-align: right;\">\n",
       "      <th></th>\n",
       "      <th>s</th>\n",
       "      <th>hc</th>\n",
       "      <th>a</th>\n",
       "      <th>ad</th>\n",
       "      <th>bb</th>\n",
       "      <th>wd</th>\n",
       "    </tr>\n",
       "  </thead>\n",
       "  <tbody>\n",
       "    <tr>\n",
       "      <th>0</th>\n",
       "      <td>2.0</td>\n",
       "      <td>NaN</td>\n",
       "      <td>2.0</td>\n",
       "      <td>4.0</td>\n",
       "      <td>5.0</td>\n",
       "      <td>NaN</td>\n",
       "    </tr>\n",
       "    <tr>\n",
       "      <th>1</th>\n",
       "      <td>5.0</td>\n",
       "      <td>NaN</td>\n",
       "      <td>4.0</td>\n",
       "      <td>NaN</td>\n",
       "      <td>NaN</td>\n",
       "      <td>1.0</td>\n",
       "    </tr>\n",
       "    <tr>\n",
       "      <th>2</th>\n",
       "      <td>NaN</td>\n",
       "      <td>NaN</td>\n",
       "      <td>5.0</td>\n",
       "      <td>NaN</td>\n",
       "      <td>2.0</td>\n",
       "      <td>NaN</td>\n",
       "    </tr>\n",
       "    <tr>\n",
       "      <th>3</th>\n",
       "      <td>NaN</td>\n",
       "      <td>1.0</td>\n",
       "      <td>NaN</td>\n",
       "      <td>5.0</td>\n",
       "      <td>NaN</td>\n",
       "      <td>4.0</td>\n",
       "    </tr>\n",
       "    <tr>\n",
       "      <th>4</th>\n",
       "      <td>NaN</td>\n",
       "      <td>NaN</td>\n",
       "      <td>4.0</td>\n",
       "      <td>NaN</td>\n",
       "      <td>NaN</td>\n",
       "      <td>2.0</td>\n",
       "    </tr>\n",
       "    <tr>\n",
       "      <th>5</th>\n",
       "      <td>4.0</td>\n",
       "      <td>5.0</td>\n",
       "      <td>NaN</td>\n",
       "      <td>1.0</td>\n",
       "      <td>NaN</td>\n",
       "      <td>NaN</td>\n",
       "    </tr>\n",
       "  </tbody>\n",
       "</table>\n",
       "</div>"
      ],
      "text/plain": [
       "     s   hc    a   ad   bb   wd\n",
       "0  2.0  NaN  2.0  4.0  5.0  NaN\n",
       "1  5.0  NaN  4.0  NaN  NaN  1.0\n",
       "2  NaN  NaN  5.0  NaN  2.0  NaN\n",
       "3  NaN  1.0  NaN  5.0  NaN  4.0\n",
       "4  NaN  NaN  4.0  NaN  NaN  2.0\n",
       "5  4.0  5.0  NaN  1.0  NaN  NaN"
      ]
     },
     "execution_count": 15,
     "metadata": {},
     "output_type": "execute_result"
    }
   ],
   "source": [
    "df"
   ]
  },
  {
   "cell_type": "markdown",
   "metadata": {},
   "source": [
    "Ver as questões referentes a que conjunto de produtos utilizar no calculo de Pearson's r. \n",
    "https://grouplens.org/blog/similarity-functions-for-user-user-collaborative-filtering/ \n",
    "\n",
    "Na sequencia a seguir, vamos adotar os seguintes critérios:\n",
    "* media (para remoção dos viéses) sobre todos os filmes avaliados, ou seja $I_i \\cup I_k$\n",
    "* no calculo de Pearson's r, tanto o numerador quanto denominador varrem somente as dimensões em comum, ou seja somente os filmes em $I_i \\cap I_k$"
   ]
  },
  {
   "cell_type": "code",
   "execution_count": null,
   "metadata": {},
   "outputs": [],
   "source": []
  },
  {
   "cell_type": "code",
   "execution_count": 17,
   "metadata": {},
   "outputs": [],
   "source": [
    "# removendo a media por usuario para todas as dimensões existentes\n",
    "# não levando em conta as interseções\n",
    "\n",
    "# df_nm"
   ]
  },
  {
   "cell_type": "code",
   "execution_count": 18,
   "metadata": {},
   "outputs": [
    {
     "data": {
      "text/plain": [
       "<matplotlib.axes._subplots.AxesSubplot at 0x10c023a58>"
      ]
     },
     "execution_count": 18,
     "metadata": {},
     "output_type": "execute_result"
    },
    {
     "data": {
      "image/png": "[encoded data removed]",
      "text/plain": [
       "<matplotlib.figure.Figure at 0x10c023080>"
      ]
     },
     "metadata": {},
     "output_type": "display_data"
    }
   ],
   "source": [
    "import seaborn as sns\n",
    "%matplotlib inline\n",
    "sns.heatmap(df.round(0), annot = True)"
   ]
  },
  {
   "cell_type": "markdown",
   "metadata": {},
   "source": [
    "### objetivo: Como o usuário 4 avaliaria os filmes não vistos?"
   ]
  },
  {
   "cell_type": "markdown",
   "metadata": {},
   "source": [
    "#### 1o. passo: calcular similaridades entre usuario 4 e os outros"
   ]
  },
  {
   "cell_type": "code",
   "execution_count": 19,
   "metadata": {},
   "outputs": [
    {
     "name": "stdout",
     "output_type": "stream",
     "text": [
      "medias = 3.3333333333333335 3.0\n",
      "normas = 2.42670329643 1.41421356237\n",
      "\n",
      "similaridade = 0.874157276122\n"
     ]
    }
   ],
   "source": [
    "# similaridade de 1 com 4:\n",
    "\n",
    "# medias para cada usuario\n",
    "v_1 = (5 + 4 + 1)/3\n",
    "v_4 = (4 + 2)/2\n",
    "print('medias =',  v_1, v_4)\n",
    "\n",
    "# normas L2 para cada usuario\n",
    "n_1 = np.sqrt( (4 - v_1)**2 + (1 - v_1)**2 )\n",
    "n_4 = np.sqrt( (4 - v_4)**2 + (2 - v_4)**2 )\n",
    "print('normas =',  n_1, n_4)\n",
    "\n",
    "u_14 = ((4 - v_1) * (4 - v_4) + (1 - v_1) * (2 - v_4)) / (n_1 * n_4)\n",
    "\n",
    "print('\\nsimilaridade =', u_14)"
   ]
  },
  {
   "cell_type": "code",
   "execution_count": 20,
   "metadata": {},
   "outputs": [
    {
     "data": {
      "text/plain": [
       "<matplotlib.axes._subplots.AxesSubplot at 0x10c09a240>"
      ]
     },
     "execution_count": 20,
     "metadata": {},
     "output_type": "execute_result"
    },
    {
     "data": {
      "image/png": "[encoded data removed]",
      "text/plain": [
       "<matplotlib.figure.Figure at 0x10c12de48>"
      ]
     },
     "metadata": {},
     "output_type": "display_data"
    }
   ],
   "source": [
    "# podemos tirar a media de cada linha, para todo o dataframe\n",
    "user_mean = df.mean(axis = 1)\n",
    "df_nm = df.subtract(user_mean, axis = 0)\n",
    "sns.heatmap(df_nm.round(2), annot = True)"
   ]
  },
  {
   "cell_type": "code",
   "execution_count": 21,
   "metadata": {},
   "outputs": [
    {
     "data": {
      "text/plain": [
       "1.0"
      ]
     },
     "execution_count": 21,
     "metadata": {},
     "output_type": "execute_result"
    }
   ],
   "source": [
    "# similaridade de 2 com 4\n",
    "dim_comuns = (df_nm.iloc[2].notnull() & df_nm.iloc[4].notnull()).values\n",
    "\n",
    "n_2 = np.sqrt((df_nm.iloc[2, dim_comuns] ** 2).sum())\n",
    "n_4 = np.sqrt((df_nm.iloc[4, dim_comuns] ** 2).sum())\n",
    "\n",
    "u_24 = np.dot(df_nm.iloc[2, dim_comuns], df_nm.iloc[4, dim_comuns]) / (n_2 * n_4) \n",
    "u_24"
   ]
  },
  {
   "cell_type": "code",
   "execution_count": 22,
   "metadata": {},
   "outputs": [
    {
     "data": {
      "text/plain": [
       "-1.0"
      ]
     },
     "execution_count": 22,
     "metadata": {},
     "output_type": "execute_result"
    }
   ],
   "source": [
    "# similaridade de 3 com 4\n",
    "dim_comuns = (df_nm.iloc[3].notnull() & df_nm.iloc[4].notnull()).values\n",
    "\n",
    "n_3 = np.sqrt((df_nm.iloc[3, dim_comuns] ** 2).sum())\n",
    "n_4 = np.sqrt((df_nm.iloc[4, dim_comuns] ** 2).sum())\n",
    "\n",
    "u_34 = np.dot(df_nm.iloc[3, dim_comuns], df_nm.iloc[4, dim_comuns]) / (n_3 * n_4) \n",
    "u_34"
   ]
  },
  {
   "cell_type": "code",
   "execution_count": 23,
   "metadata": {},
   "outputs": [
    {
     "data": {
      "text/plain": [
       "[nan, 0.8741572761215376, 1.0, -1.0, 1.0, nan]"
      ]
     },
     "execution_count": 23,
     "metadata": {},
     "output_type": "execute_result"
    }
   ],
   "source": [
    "s_4 = [np.nan, u_14, u_24, u_34, 1.0, np.nan]\n",
    "s_4"
   ]
  },
  {
   "cell_type": "markdown",
   "metadata": {},
   "source": [
    "#### 2o. passo: calcular a predição para usuário 4"
   ]
  },
  {
   "cell_type": "code",
   "execution_count": 24,
   "metadata": {},
   "outputs": [
    {
     "data": {
      "text/plain": [
       "3.0"
      ]
     },
     "execution_count": 24,
     "metadata": {},
     "output_type": "execute_result"
    }
   ],
   "source": [
    "# qual a media do usuario 4?\n",
    "v_4 = df.mean(axis = 1)[4]\n",
    "v_4"
   ]
  },
  {
   "cell_type": "code",
   "execution_count": 25,
   "metadata": {},
   "outputs": [],
   "source": [
    "K = 0.35"
   ]
  },
  {
   "cell_type": "code",
   "execution_count": 26,
   "metadata": {},
   "outputs": [
    {
     "data": {
      "text/plain": [
       "3.5099250777375635"
      ]
     },
     "execution_count": 26,
     "metadata": {},
     "output_type": "execute_result"
    }
   ],
   "source": [
    "# qual nota ele daria para 'Sherlock'?\n",
    "v_4_s = v_4 + K * (df_nm['s'] * s_4).sum()\n",
    "v_4_s"
   ]
  },
  {
   "cell_type": "code",
   "execution_count": 27,
   "metadata": {},
   "outputs": [
    {
     "data": {
      "text/plain": [
       "3.8166666666666664"
      ]
     },
     "execution_count": 27,
     "metadata": {},
     "output_type": "execute_result"
    }
   ],
   "source": [
    "# qual nota ele daria para 'House of Cards'?\n",
    "v_4_hc = v_4 + K * (df_nm['hc'] * s_4).sum()\n",
    "v_4_hc"
   ]
  },
  {
   "cell_type": "code",
   "execution_count": 28,
   "metadata": {},
   "outputs": [
    {
     "data": {
      "text/plain": [
       "2.416666666666667"
      ]
     },
     "execution_count": 28,
     "metadata": {},
     "output_type": "execute_result"
    }
   ],
   "source": [
    "# qual nota ele daria para 'Arrested Development'?\n",
    "v_4_ad = v_4 + K * (df_nm['ad'] * s_4).sum()\n",
    "v_4_ad"
   ]
  },
  {
   "cell_type": "code",
   "execution_count": 29,
   "metadata": {},
   "outputs": [
    {
     "data": {
      "text/plain": [
       "2.4750000000000001"
      ]
     },
     "execution_count": 29,
     "metadata": {},
     "output_type": "execute_result"
    }
   ],
   "source": [
    "# qual nota ele daria para 'Breaking Bad'?\n",
    "v_4_bb = v_4 + K * (df_nm['bb'] * s_4).sum()\n",
    "v_4_bb"
   ]
  },
  {
   "cell_type": "markdown",
   "metadata": {},
   "source": [
    "#### 3o. passo: em que ordem devemos recomendar para usuário 4?"
   ]
  },
  {
   "cell_type": "raw",
   "metadata": {},
   "source": [
    "1) House of Cards\n",
    "2) Sherlock\n",
    "3) Breaking Bad\n",
    "4) Arrested Development"
   ]
  },
  {
   "cell_type": "code",
   "execution_count": null,
   "metadata": {},
   "outputs": [],
   "source": []
  }
 ],
 "metadata": {
  "kernelspec": {
   "display_name": "Python 3",
   "language": "python",
   "name": "python3"
  },
  "language_info": {
   "codemirror_mode": {
    "name": "ipython",
    "version": 3
   },
   "file_extension": ".py",
   "mimetype": "text/x-python",
   "name": "python",
   "nbconvert_exporter": "python",
   "pygments_lexer": "ipython3",
   "version": "3.5.2"
  }
 },
 "nbformat": 4,
 "nbformat_minor": 1
}
