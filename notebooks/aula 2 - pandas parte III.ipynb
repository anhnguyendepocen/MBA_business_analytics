{
 "cells": [
  {
   "cell_type": "markdown",
   "metadata": {},
   "source": [
    "![alt text](FGV_logo_novo.jpg)"
   ]
  },
  {
   "cell_type": "markdown",
   "metadata": {},
   "source": [
    "# PANDAS: parte III"
   ]
  },
  {
   "cell_type": "code",
   "execution_count": 1,
   "metadata": {},
   "outputs": [],
   "source": [
    "import pandas as pd\n",
    "import numpy as np\n",
    "\n",
    "df = pd.read_csv('./dados/alunos2017.csv')"
   ]
  },
  {
   "cell_type": "code",
   "execution_count": 2,
   "metadata": {},
   "outputs": [
    {
     "data": {
      "text/html": [
       "<img src=\"http://guiadocorpo.com/wp-content/uploads/2015/08/Formula-do-IMC.png\"/>"
      ],
      "text/plain": [
       "<IPython.core.display.Image object>"
      ]
     },
     "execution_count": 2,
     "metadata": {},
     "output_type": "execute_result"
    }
   ],
   "source": [
    "from IPython.display import Image\n",
    "Image(url='http://guiadocorpo.com/wp-content/uploads/2015/08/Formula-do-IMC.png')"
   ]
  },
  {
   "cell_type": "markdown",
   "metadata": {},
   "source": [
    "#### transformando variaveis numericas em categóricas"
   ]
  },
  {
   "cell_type": "markdown",
   "metadata": {},
   "source": [
    "### Exercicio: \n",
    "\n",
    "calcular IMC"
   ]
  },
  {
   "cell_type": "code",
   "execution_count": 4,
   "metadata": {},
   "outputs": [],
   "source": [
    "df['IMC'] = df.Peso/((df.Altura/100) ** 2)"
   ]
  },
  {
   "cell_type": "code",
   "execution_count": 5,
   "metadata": {},
   "outputs": [
    {
     "data": {
      "text/html": [
       "<img src=\"https://viveresano.files.wordpress.com/2010/07/imc.jpg\"/>"
      ],
      "text/plain": [
       "<IPython.core.display.Image object>"
      ]
     },
     "execution_count": 5,
     "metadata": {},
     "output_type": "execute_result"
    }
   ],
   "source": [
    "Image(url='https://viveresano.files.wordpress.com/2010/07/imc.jpg')"
   ]
  },
  {
   "cell_type": "markdown",
   "metadata": {},
   "source": [
    "vamos transformar o IMC em variavel categorica"
   ]
  },
  {
   "cell_type": "code",
   "execution_count": 6,
   "metadata": {},
   "outputs": [],
   "source": [
    "df['graus_de_obesidade'] = pd.cut(df.IMC, [0, 18.5, 25, 30, 35, 40, np.inf],\n",
    "                                 labels = ['baixo', 'normal', 'pre-obeso',\n",
    "                                          'grau I', 'grau II', 'grau III'])"
   ]
  },
  {
   "cell_type": "code",
   "execution_count": 7,
   "metadata": {},
   "outputs": [
    {
     "data": {
      "text/html": [
       "<div>\n",
       "<style scoped>\n",
       "    .dataframe tbody tr th:only-of-type {\n",
       "        vertical-align: middle;\n",
       "    }\n",
       "\n",
       "    .dataframe tbody tr th {\n",
       "        vertical-align: top;\n",
       "    }\n",
       "\n",
       "    .dataframe thead th {\n",
       "        text-align: right;\n",
       "    }\n",
       "</style>\n",
       "<table border=\"1\" class=\"dataframe\">\n",
       "  <thead>\n",
       "    <tr style=\"text-align: right;\">\n",
       "      <th></th>\n",
       "      <th>Atividade_por_semana</th>\n",
       "      <th>Altura</th>\n",
       "      <th>Peso</th>\n",
       "      <th>Time</th>\n",
       "      <th>IMC</th>\n",
       "      <th>graus_de_obesidade</th>\n",
       "    </tr>\n",
       "  </thead>\n",
       "  <tbody>\n",
       "    <tr>\n",
       "      <th>0</th>\n",
       "      <td>4</td>\n",
       "      <td>173</td>\n",
       "      <td>85</td>\n",
       "      <td>Fluminense</td>\n",
       "      <td>28.400548</td>\n",
       "      <td>pre-obeso</td>\n",
       "    </tr>\n",
       "    <tr>\n",
       "      <th>1</th>\n",
       "      <td>0</td>\n",
       "      <td>170</td>\n",
       "      <td>70</td>\n",
       "      <td>Flamengo</td>\n",
       "      <td>24.221453</td>\n",
       "      <td>normal</td>\n",
       "    </tr>\n",
       "    <tr>\n",
       "      <th>2</th>\n",
       "      <td>2</td>\n",
       "      <td>183</td>\n",
       "      <td>85</td>\n",
       "      <td>NaN</td>\n",
       "      <td>25.381469</td>\n",
       "      <td>pre-obeso</td>\n",
       "    </tr>\n",
       "    <tr>\n",
       "      <th>3</th>\n",
       "      <td>4</td>\n",
       "      <td>176</td>\n",
       "      <td>70</td>\n",
       "      <td>Sao Paulo</td>\n",
       "      <td>22.598140</td>\n",
       "      <td>normal</td>\n",
       "    </tr>\n",
       "    <tr>\n",
       "      <th>4</th>\n",
       "      <td>9</td>\n",
       "      <td>178</td>\n",
       "      <td>73</td>\n",
       "      <td>Palmeiras</td>\n",
       "      <td>23.040020</td>\n",
       "      <td>normal</td>\n",
       "    </tr>\n",
       "  </tbody>\n",
       "</table>\n",
       "</div>"
      ],
      "text/plain": [
       "   Atividade_por_semana  Altura  Peso        Time        IMC  \\\n",
       "0                     4     173    85  Fluminense  28.400548   \n",
       "1                     0     170    70    Flamengo  24.221453   \n",
       "2                     2     183    85         NaN  25.381469   \n",
       "3                     4     176    70   Sao Paulo  22.598140   \n",
       "4                     9     178    73   Palmeiras  23.040020   \n",
       "\n",
       "  graus_de_obesidade  \n",
       "0          pre-obeso  \n",
       "1             normal  \n",
       "2          pre-obeso  \n",
       "3             normal  \n",
       "4             normal  "
      ]
     },
     "execution_count": 7,
     "metadata": {},
     "output_type": "execute_result"
    }
   ],
   "source": [
    "df.head()"
   ]
  },
  {
   "cell_type": "markdown",
   "metadata": {},
   "source": [
    "#### atribuindo uma coluna para cada valor unico\n",
    "OHE - one hot encoding"
   ]
  },
  {
   "cell_type": "code",
   "execution_count": 8,
   "metadata": {},
   "outputs": [
    {
     "data": {
      "text/html": [
       "<div>\n",
       "<style scoped>\n",
       "    .dataframe tbody tr th:only-of-type {\n",
       "        vertical-align: middle;\n",
       "    }\n",
       "\n",
       "    .dataframe tbody tr th {\n",
       "        vertical-align: top;\n",
       "    }\n",
       "\n",
       "    .dataframe thead th {\n",
       "        text-align: right;\n",
       "    }\n",
       "</style>\n",
       "<table border=\"1\" class=\"dataframe\">\n",
       "  <thead>\n",
       "    <tr style=\"text-align: right;\">\n",
       "      <th></th>\n",
       "      <th>Atividade_por_semana</th>\n",
       "      <th>Altura</th>\n",
       "      <th>Peso</th>\n",
       "      <th>Time</th>\n",
       "      <th>IMC</th>\n",
       "      <th>graus_de_obesidade_baixo</th>\n",
       "      <th>graus_de_obesidade_normal</th>\n",
       "      <th>graus_de_obesidade_pre-obeso</th>\n",
       "      <th>graus_de_obesidade_grau I</th>\n",
       "      <th>graus_de_obesidade_grau II</th>\n",
       "      <th>graus_de_obesidade_grau III</th>\n",
       "    </tr>\n",
       "  </thead>\n",
       "  <tbody>\n",
       "    <tr>\n",
       "      <th>0</th>\n",
       "      <td>4</td>\n",
       "      <td>173</td>\n",
       "      <td>85</td>\n",
       "      <td>Fluminense</td>\n",
       "      <td>28.400548</td>\n",
       "      <td>0</td>\n",
       "      <td>0</td>\n",
       "      <td>1</td>\n",
       "      <td>0</td>\n",
       "      <td>0</td>\n",
       "      <td>0</td>\n",
       "    </tr>\n",
       "    <tr>\n",
       "      <th>1</th>\n",
       "      <td>0</td>\n",
       "      <td>170</td>\n",
       "      <td>70</td>\n",
       "      <td>Flamengo</td>\n",
       "      <td>24.221453</td>\n",
       "      <td>0</td>\n",
       "      <td>1</td>\n",
       "      <td>0</td>\n",
       "      <td>0</td>\n",
       "      <td>0</td>\n",
       "      <td>0</td>\n",
       "    </tr>\n",
       "    <tr>\n",
       "      <th>2</th>\n",
       "      <td>2</td>\n",
       "      <td>183</td>\n",
       "      <td>85</td>\n",
       "      <td>NaN</td>\n",
       "      <td>25.381469</td>\n",
       "      <td>0</td>\n",
       "      <td>0</td>\n",
       "      <td>1</td>\n",
       "      <td>0</td>\n",
       "      <td>0</td>\n",
       "      <td>0</td>\n",
       "    </tr>\n",
       "    <tr>\n",
       "      <th>3</th>\n",
       "      <td>4</td>\n",
       "      <td>176</td>\n",
       "      <td>70</td>\n",
       "      <td>Sao Paulo</td>\n",
       "      <td>22.598140</td>\n",
       "      <td>0</td>\n",
       "      <td>1</td>\n",
       "      <td>0</td>\n",
       "      <td>0</td>\n",
       "      <td>0</td>\n",
       "      <td>0</td>\n",
       "    </tr>\n",
       "    <tr>\n",
       "      <th>4</th>\n",
       "      <td>9</td>\n",
       "      <td>178</td>\n",
       "      <td>73</td>\n",
       "      <td>Palmeiras</td>\n",
       "      <td>23.040020</td>\n",
       "      <td>0</td>\n",
       "      <td>1</td>\n",
       "      <td>0</td>\n",
       "      <td>0</td>\n",
       "      <td>0</td>\n",
       "      <td>0</td>\n",
       "    </tr>\n",
       "  </tbody>\n",
       "</table>\n",
       "</div>"
      ],
      "text/plain": [
       "   Atividade_por_semana  Altura  Peso        Time        IMC  \\\n",
       "0                     4     173    85  Fluminense  28.400548   \n",
       "1                     0     170    70    Flamengo  24.221453   \n",
       "2                     2     183    85         NaN  25.381469   \n",
       "3                     4     176    70   Sao Paulo  22.598140   \n",
       "4                     9     178    73   Palmeiras  23.040020   \n",
       "\n",
       "   graus_de_obesidade_baixo  graus_de_obesidade_normal  \\\n",
       "0                         0                          0   \n",
       "1                         0                          1   \n",
       "2                         0                          0   \n",
       "3                         0                          1   \n",
       "4                         0                          1   \n",
       "\n",
       "   graus_de_obesidade_pre-obeso  graus_de_obesidade_grau I  \\\n",
       "0                             1                          0   \n",
       "1                             0                          0   \n",
       "2                             1                          0   \n",
       "3                             0                          0   \n",
       "4                             0                          0   \n",
       "\n",
       "   graus_de_obesidade_grau II  graus_de_obesidade_grau III  \n",
       "0                           0                            0  \n",
       "1                           0                            0  \n",
       "2                           0                            0  \n",
       "3                           0                            0  \n",
       "4                           0                            0  "
      ]
     },
     "execution_count": 8,
     "metadata": {},
     "output_type": "execute_result"
    }
   ],
   "source": [
    "pd.get_dummies(df, columns=['graus_de_obesidade']).head()"
   ]
  },
  {
   "cell_type": "code",
   "execution_count": null,
   "metadata": {},
   "outputs": [],
   "source": []
  },
  {
   "cell_type": "code",
   "execution_count": null,
   "metadata": {},
   "outputs": [],
   "source": []
  },
  {
   "cell_type": "markdown",
   "metadata": {},
   "source": [
    "______"
   ]
  },
  {
   "cell_type": "markdown",
   "metadata": {},
   "source": [
    "### Séries temporais\n",
    "... infelizmente yahoo, google tem bloqueado sistematicamente ou aleatoriamente esse acesso"
   ]
  },
  {
   "cell_type": "code",
   "execution_count": 9,
   "metadata": {},
   "outputs": [],
   "source": [
    "# import pandas as pd\n",
    "import pandas_datareader as web \n",
    "from datetime import datetime\n",
    "\n",
    "# import matplotlib.pyplot as plt\n",
    "# %matplotlib inline\n",
    " \n",
    "start = datetime(2016,1,1)\n",
    "end   = datetime(2016,12,31)\n",
    "end   = datetime.now()\n",
    "\n",
    "bz = web.DataReader('DEXBZUS', 'fred', start, end)"
   ]
  },
  {
   "cell_type": "markdown",
   "metadata": {},
   "source": [
    "vamos utilizar esse... Alpha Vantage. por enquanto, gratuito e aberto"
   ]
  },
  {
   "cell_type": "code",
   "execution_count": 10,
   "metadata": {},
   "outputs": [],
   "source": [
    "import os\n",
    "import pandas as pd\n",
    "%matplotlib inline\n",
    "\n",
    "from alpha_vantage.timeseries import TimeSeries\n",
    "\n",
    "ts = TimeSeries(key=os.environ['ALPHA_VANTAGE_KEY'], output_format='pandas')\n",
    "\n",
    "ativo = 'PETR4.SA'\n",
    "petr, petr_meta = ts.get_daily(ativo)\n",
    "petr.index = pd.to_datetime(petr.index)\n",
    "petr.name = ativo\n",
    "\n",
    "ativo = 'VALE3.SA'\n",
    "vale, vale_meta = ts.get_daily(ativo)\n",
    "vale.index = pd.to_datetime(vale.index)\n",
    "vale.name = ativo\n",
    "\n",
    "ativo = '^BVSP'\n",
    "ibov, ibov_meta = ts.get_daily(ativo)\n",
    "ibov.index = pd.to_datetime(ibov.index)\n",
    "ibov.name = ativo"
   ]
  },
  {
   "cell_type": "code",
   "execution_count": 11,
   "metadata": {},
   "outputs": [],
   "source": [
    "ativos = [df['4. close'].rename(df.name) for df in [petr, vale, ibov]]\n",
    "ativos = pd.concat(ativos, axis = 1)\n",
    "\n",
    "ativos = pd.concat([ativos,bz], axis = 1, join = 'inner')"
   ]
  },
  {
   "cell_type": "code",
   "execution_count": 12,
   "metadata": {},
   "outputs": [
    {
     "data": {
      "text/html": [
       "<div>\n",
       "<style scoped>\n",
       "    .dataframe tbody tr th:only-of-type {\n",
       "        vertical-align: middle;\n",
       "    }\n",
       "\n",
       "    .dataframe tbody tr th {\n",
       "        vertical-align: top;\n",
       "    }\n",
       "\n",
       "    .dataframe thead th {\n",
       "        text-align: right;\n",
       "    }\n",
       "</style>\n",
       "<table border=\"1\" class=\"dataframe\">\n",
       "  <thead>\n",
       "    <tr style=\"text-align: right;\">\n",
       "      <th></th>\n",
       "      <th>PETR4.SA</th>\n",
       "      <th>VALE3.SA</th>\n",
       "      <th>^BVSP</th>\n",
       "      <th>DEXBZUS</th>\n",
       "    </tr>\n",
       "  </thead>\n",
       "  <tbody>\n",
       "    <tr>\n",
       "      <th>2018-01-31</th>\n",
       "      <td>19.70</td>\n",
       "      <td>41.45</td>\n",
       "      <td>84913.0</td>\n",
       "      <td>3.1782</td>\n",
       "    </tr>\n",
       "    <tr>\n",
       "      <th>2018-02-01</th>\n",
       "      <td>20.52</td>\n",
       "      <td>41.79</td>\n",
       "      <td>85495.0</td>\n",
       "      <td>3.1718</td>\n",
       "    </tr>\n",
       "    <tr>\n",
       "      <th>2018-02-02</th>\n",
       "      <td>19.97</td>\n",
       "      <td>40.80</td>\n",
       "      <td>84041.0</td>\n",
       "      <td>3.2205</td>\n",
       "    </tr>\n",
       "    <tr>\n",
       "      <th>2018-02-05</th>\n",
       "      <td>19.04</td>\n",
       "      <td>40.35</td>\n",
       "      <td>81861.0</td>\n",
       "      <td>3.2365</td>\n",
       "    </tr>\n",
       "    <tr>\n",
       "      <th>2018-02-06</th>\n",
       "      <td>19.99</td>\n",
       "      <td>42.47</td>\n",
       "      <td>83894.0</td>\n",
       "      <td>3.2535</td>\n",
       "    </tr>\n",
       "  </tbody>\n",
       "</table>\n",
       "</div>"
      ],
      "text/plain": [
       "            PETR4.SA  VALE3.SA    ^BVSP  DEXBZUS\n",
       "2018-01-31     19.70     41.45  84913.0   3.1782\n",
       "2018-02-01     20.52     41.79  85495.0   3.1718\n",
       "2018-02-02     19.97     40.80  84041.0   3.2205\n",
       "2018-02-05     19.04     40.35  81861.0   3.2365\n",
       "2018-02-06     19.99     42.47  83894.0   3.2535"
      ]
     },
     "execution_count": 12,
     "metadata": {},
     "output_type": "execute_result"
    }
   ],
   "source": [
    "ativos.head()"
   ]
  },
  {
   "cell_type": "markdown",
   "metadata": {},
   "source": [
    "repare que os índices referem-se a datas (checar com `ativos.index`)."
   ]
  },
  {
   "cell_type": "markdown",
   "metadata": {},
   "source": [
    "pandas é bastante flexível na indexação e fatiamento de seus objetos, quando os indices referem-se a eventos no tempo.<br>\n",
    "por exemplo:\n",
    "\n",
    "* podemos passar um objeto datetime\n",
    "* podemos passar um string"
   ]
  },
  {
   "cell_type": "code",
   "execution_count": 13,
   "metadata": {},
   "outputs": [
    {
     "data": {
      "text/plain": [
       "PETR4.SA       21.5200\n",
       "VALE3.SA       47.4000\n",
       "^BVSP       87653.0000\n",
       "DEXBZUS         3.2381\n",
       "Name: 2018-02-26 00:00:00, dtype: float64"
      ]
     },
     "execution_count": 13,
     "metadata": {},
     "output_type": "execute_result"
    }
   ],
   "source": [
    "ativos.loc[datetime(2018,2,26)]"
   ]
  },
  {
   "cell_type": "code",
   "execution_count": 14,
   "metadata": {},
   "outputs": [
    {
     "data": {
      "text/plain": [
       "PETR4.SA       21.5200\n",
       "VALE3.SA       47.4000\n",
       "^BVSP       87653.0000\n",
       "DEXBZUS         3.2381\n",
       "Name: 2018-02-26 00:00:00, dtype: float64"
      ]
     },
     "execution_count": 14,
     "metadata": {},
     "output_type": "execute_result"
    }
   ],
   "source": [
    "ativos.loc['2018-02-26']"
   ]
  },
  {
   "cell_type": "markdown",
   "metadata": {},
   "source": [
    "* podemos passar um string incompleto. ex: somente ano/mes"
   ]
  },
  {
   "cell_type": "code",
   "execution_count": 15,
   "metadata": {},
   "outputs": [
    {
     "data": {
      "text/html": [
       "<div>\n",
       "<style scoped>\n",
       "    .dataframe tbody tr th:only-of-type {\n",
       "        vertical-align: middle;\n",
       "    }\n",
       "\n",
       "    .dataframe tbody tr th {\n",
       "        vertical-align: top;\n",
       "    }\n",
       "\n",
       "    .dataframe thead th {\n",
       "        text-align: right;\n",
       "    }\n",
       "</style>\n",
       "<table border=\"1\" class=\"dataframe\">\n",
       "  <thead>\n",
       "    <tr style=\"text-align: right;\">\n",
       "      <th></th>\n",
       "      <th>PETR4.SA</th>\n",
       "      <th>VALE3.SA</th>\n",
       "      <th>^BVSP</th>\n",
       "      <th>DEXBZUS</th>\n",
       "    </tr>\n",
       "  </thead>\n",
       "  <tbody>\n",
       "    <tr>\n",
       "      <th>2018-02-01</th>\n",
       "      <td>20.52</td>\n",
       "      <td>41.79</td>\n",
       "      <td>85495.0</td>\n",
       "      <td>3.1718</td>\n",
       "    </tr>\n",
       "    <tr>\n",
       "      <th>2018-02-02</th>\n",
       "      <td>19.97</td>\n",
       "      <td>40.80</td>\n",
       "      <td>84041.0</td>\n",
       "      <td>3.2205</td>\n",
       "    </tr>\n",
       "    <tr>\n",
       "      <th>2018-02-05</th>\n",
       "      <td>19.04</td>\n",
       "      <td>40.35</td>\n",
       "      <td>81861.0</td>\n",
       "      <td>3.2365</td>\n",
       "    </tr>\n",
       "    <tr>\n",
       "      <th>2018-02-06</th>\n",
       "      <td>19.99</td>\n",
       "      <td>42.47</td>\n",
       "      <td>83894.0</td>\n",
       "      <td>3.2535</td>\n",
       "    </tr>\n",
       "    <tr>\n",
       "      <th>2018-02-07</th>\n",
       "      <td>19.44</td>\n",
       "      <td>41.71</td>\n",
       "      <td>82767.0</td>\n",
       "      <td>3.2620</td>\n",
       "    </tr>\n",
       "    <tr>\n",
       "      <th>2018-02-08</th>\n",
       "      <td>19.05</td>\n",
       "      <td>41.59</td>\n",
       "      <td>81533.0</td>\n",
       "      <td>3.2895</td>\n",
       "    </tr>\n",
       "    <tr>\n",
       "      <th>2018-02-09</th>\n",
       "      <td>18.77</td>\n",
       "      <td>42.00</td>\n",
       "      <td>80899.0</td>\n",
       "      <td>3.3083</td>\n",
       "    </tr>\n",
       "    <tr>\n",
       "      <th>2018-02-14</th>\n",
       "      <td>19.25</td>\n",
       "      <td>44.51</td>\n",
       "      <td>83543.0</td>\n",
       "      <td>3.2551</td>\n",
       "    </tr>\n",
       "    <tr>\n",
       "      <th>2018-02-15</th>\n",
       "      <td>19.40</td>\n",
       "      <td>45.95</td>\n",
       "      <td>84291.0</td>\n",
       "      <td>3.2318</td>\n",
       "    </tr>\n",
       "    <tr>\n",
       "      <th>2018-02-16</th>\n",
       "      <td>19.42</td>\n",
       "      <td>46.03</td>\n",
       "      <td>84525.0</td>\n",
       "      <td>3.2219</td>\n",
       "    </tr>\n",
       "    <tr>\n",
       "      <th>2018-02-19</th>\n",
       "      <td>20.05</td>\n",
       "      <td>46.45</td>\n",
       "      <td>84793.0</td>\n",
       "      <td>NaN</td>\n",
       "    </tr>\n",
       "    <tr>\n",
       "      <th>2018-02-20</th>\n",
       "      <td>20.44</td>\n",
       "      <td>45.51</td>\n",
       "      <td>85804.0</td>\n",
       "      <td>3.2434</td>\n",
       "    </tr>\n",
       "    <tr>\n",
       "      <th>2018-02-21</th>\n",
       "      <td>20.25</td>\n",
       "      <td>44.80</td>\n",
       "      <td>86052.0</td>\n",
       "      <td>3.2581</td>\n",
       "    </tr>\n",
       "    <tr>\n",
       "      <th>2018-02-22</th>\n",
       "      <td>20.74</td>\n",
       "      <td>45.67</td>\n",
       "      <td>86686.0</td>\n",
       "      <td>3.2579</td>\n",
       "    </tr>\n",
       "    <tr>\n",
       "      <th>2018-02-23</th>\n",
       "      <td>21.12</td>\n",
       "      <td>46.08</td>\n",
       "      <td>87293.0</td>\n",
       "      <td>3.2344</td>\n",
       "    </tr>\n",
       "    <tr>\n",
       "      <th>2018-02-26</th>\n",
       "      <td>21.52</td>\n",
       "      <td>47.40</td>\n",
       "      <td>87653.0</td>\n",
       "      <td>3.2381</td>\n",
       "    </tr>\n",
       "    <tr>\n",
       "      <th>2018-02-27</th>\n",
       "      <td>21.50</td>\n",
       "      <td>47.33</td>\n",
       "      <td>86935.0</td>\n",
       "      <td>3.2472</td>\n",
       "    </tr>\n",
       "    <tr>\n",
       "      <th>2018-02-28</th>\n",
       "      <td>21.46</td>\n",
       "      <td>45.05</td>\n",
       "      <td>85481.0</td>\n",
       "      <td>3.2428</td>\n",
       "    </tr>\n",
       "  </tbody>\n",
       "</table>\n",
       "</div>"
      ],
      "text/plain": [
       "            PETR4.SA  VALE3.SA    ^BVSP  DEXBZUS\n",
       "2018-02-01     20.52     41.79  85495.0   3.1718\n",
       "2018-02-02     19.97     40.80  84041.0   3.2205\n",
       "2018-02-05     19.04     40.35  81861.0   3.2365\n",
       "2018-02-06     19.99     42.47  83894.0   3.2535\n",
       "2018-02-07     19.44     41.71  82767.0   3.2620\n",
       "2018-02-08     19.05     41.59  81533.0   3.2895\n",
       "2018-02-09     18.77     42.00  80899.0   3.3083\n",
       "2018-02-14     19.25     44.51  83543.0   3.2551\n",
       "2018-02-15     19.40     45.95  84291.0   3.2318\n",
       "2018-02-16     19.42     46.03  84525.0   3.2219\n",
       "2018-02-19     20.05     46.45  84793.0      NaN\n",
       "2018-02-20     20.44     45.51  85804.0   3.2434\n",
       "2018-02-21     20.25     44.80  86052.0   3.2581\n",
       "2018-02-22     20.74     45.67  86686.0   3.2579\n",
       "2018-02-23     21.12     46.08  87293.0   3.2344\n",
       "2018-02-26     21.52     47.40  87653.0   3.2381\n",
       "2018-02-27     21.50     47.33  86935.0   3.2472\n",
       "2018-02-28     21.46     45.05  85481.0   3.2428"
      ]
     },
     "execution_count": 15,
     "metadata": {},
     "output_type": "execute_result"
    }
   ],
   "source": [
    "ativos['2018-02']"
   ]
  },
  {
   "cell_type": "code",
   "execution_count": 16,
   "metadata": {},
   "outputs": [
    {
     "data": {
      "text/html": [
       "<div>\n",
       "<style scoped>\n",
       "    .dataframe tbody tr th:only-of-type {\n",
       "        vertical-align: middle;\n",
       "    }\n",
       "\n",
       "    .dataframe tbody tr th {\n",
       "        vertical-align: top;\n",
       "    }\n",
       "\n",
       "    .dataframe thead th {\n",
       "        text-align: right;\n",
       "    }\n",
       "</style>\n",
       "<table border=\"1\" class=\"dataframe\">\n",
       "  <thead>\n",
       "    <tr style=\"text-align: right;\">\n",
       "      <th></th>\n",
       "      <th>PETR4.SA</th>\n",
       "      <th>VALE3.SA</th>\n",
       "      <th>^BVSP</th>\n",
       "      <th>DEXBZUS</th>\n",
       "    </tr>\n",
       "  </thead>\n",
       "  <tbody>\n",
       "    <tr>\n",
       "      <th>2018-01-31</th>\n",
       "      <td>19.70</td>\n",
       "      <td>41.45</td>\n",
       "      <td>84913.0</td>\n",
       "      <td>3.1782</td>\n",
       "    </tr>\n",
       "    <tr>\n",
       "      <th>2018-02-01</th>\n",
       "      <td>20.52</td>\n",
       "      <td>41.79</td>\n",
       "      <td>85495.0</td>\n",
       "      <td>3.1718</td>\n",
       "    </tr>\n",
       "    <tr>\n",
       "      <th>2018-02-02</th>\n",
       "      <td>19.97</td>\n",
       "      <td>40.80</td>\n",
       "      <td>84041.0</td>\n",
       "      <td>3.2205</td>\n",
       "    </tr>\n",
       "    <tr>\n",
       "      <th>2018-02-05</th>\n",
       "      <td>19.04</td>\n",
       "      <td>40.35</td>\n",
       "      <td>81861.0</td>\n",
       "      <td>3.2365</td>\n",
       "    </tr>\n",
       "    <tr>\n",
       "      <th>2018-02-06</th>\n",
       "      <td>19.99</td>\n",
       "      <td>42.47</td>\n",
       "      <td>83894.0</td>\n",
       "      <td>3.2535</td>\n",
       "    </tr>\n",
       "  </tbody>\n",
       "</table>\n",
       "</div>"
      ],
      "text/plain": [
       "            PETR4.SA  VALE3.SA    ^BVSP  DEXBZUS\n",
       "2018-01-31     19.70     41.45  84913.0   3.1782\n",
       "2018-02-01     20.52     41.79  85495.0   3.1718\n",
       "2018-02-02     19.97     40.80  84041.0   3.2205\n",
       "2018-02-05     19.04     40.35  81861.0   3.2365\n",
       "2018-02-06     19.99     42.47  83894.0   3.2535"
      ]
     },
     "execution_count": 16,
     "metadata": {},
     "output_type": "execute_result"
    }
   ],
   "source": [
    "ativos['2018'].head()"
   ]
  },
  {
   "cell_type": "markdown",
   "metadata": {},
   "source": [
    "* podemos passar uma faixa de dias (ou meses)"
   ]
  },
  {
   "cell_type": "code",
   "execution_count": 17,
   "metadata": {},
   "outputs": [
    {
     "data": {
      "text/html": [
       "<div>\n",
       "<style scoped>\n",
       "    .dataframe tbody tr th:only-of-type {\n",
       "        vertical-align: middle;\n",
       "    }\n",
       "\n",
       "    .dataframe tbody tr th {\n",
       "        vertical-align: top;\n",
       "    }\n",
       "\n",
       "    .dataframe thead th {\n",
       "        text-align: right;\n",
       "    }\n",
       "</style>\n",
       "<table border=\"1\" class=\"dataframe\">\n",
       "  <thead>\n",
       "    <tr style=\"text-align: right;\">\n",
       "      <th></th>\n",
       "      <th>PETR4.SA</th>\n",
       "      <th>VALE3.SA</th>\n",
       "      <th>^BVSP</th>\n",
       "      <th>DEXBZUS</th>\n",
       "    </tr>\n",
       "  </thead>\n",
       "  <tbody>\n",
       "    <tr>\n",
       "      <th>2018-02-15</th>\n",
       "      <td>19.40</td>\n",
       "      <td>45.95</td>\n",
       "      <td>84291.0</td>\n",
       "      <td>3.2318</td>\n",
       "    </tr>\n",
       "    <tr>\n",
       "      <th>2018-02-16</th>\n",
       "      <td>19.42</td>\n",
       "      <td>46.03</td>\n",
       "      <td>84525.0</td>\n",
       "      <td>3.2219</td>\n",
       "    </tr>\n",
       "    <tr>\n",
       "      <th>2018-02-19</th>\n",
       "      <td>20.05</td>\n",
       "      <td>46.45</td>\n",
       "      <td>84793.0</td>\n",
       "      <td>NaN</td>\n",
       "    </tr>\n",
       "    <tr>\n",
       "      <th>2018-02-20</th>\n",
       "      <td>20.44</td>\n",
       "      <td>45.51</td>\n",
       "      <td>85804.0</td>\n",
       "      <td>3.2434</td>\n",
       "    </tr>\n",
       "    <tr>\n",
       "      <th>2018-02-21</th>\n",
       "      <td>20.25</td>\n",
       "      <td>44.80</td>\n",
       "      <td>86052.0</td>\n",
       "      <td>3.2581</td>\n",
       "    </tr>\n",
       "    <tr>\n",
       "      <th>2018-02-22</th>\n",
       "      <td>20.74</td>\n",
       "      <td>45.67</td>\n",
       "      <td>86686.0</td>\n",
       "      <td>3.2579</td>\n",
       "    </tr>\n",
       "    <tr>\n",
       "      <th>2018-02-23</th>\n",
       "      <td>21.12</td>\n",
       "      <td>46.08</td>\n",
       "      <td>87293.0</td>\n",
       "      <td>3.2344</td>\n",
       "    </tr>\n",
       "    <tr>\n",
       "      <th>2018-02-26</th>\n",
       "      <td>21.52</td>\n",
       "      <td>47.40</td>\n",
       "      <td>87653.0</td>\n",
       "      <td>3.2381</td>\n",
       "    </tr>\n",
       "    <tr>\n",
       "      <th>2018-02-27</th>\n",
       "      <td>21.50</td>\n",
       "      <td>47.33</td>\n",
       "      <td>86935.0</td>\n",
       "      <td>3.2472</td>\n",
       "    </tr>\n",
       "    <tr>\n",
       "      <th>2018-02-28</th>\n",
       "      <td>21.46</td>\n",
       "      <td>45.05</td>\n",
       "      <td>85481.0</td>\n",
       "      <td>3.2428</td>\n",
       "    </tr>\n",
       "    <tr>\n",
       "      <th>2018-03-01</th>\n",
       "      <td>21.03</td>\n",
       "      <td>44.45</td>\n",
       "      <td>85378.0</td>\n",
       "      <td>3.2421</td>\n",
       "    </tr>\n",
       "    <tr>\n",
       "      <th>2018-03-02</th>\n",
       "      <td>21.51</td>\n",
       "      <td>43.75</td>\n",
       "      <td>85761.0</td>\n",
       "      <td>3.2513</td>\n",
       "    </tr>\n",
       "    <tr>\n",
       "      <th>2018-03-05</th>\n",
       "      <td>22.12</td>\n",
       "      <td>43.70</td>\n",
       "      <td>86023.0</td>\n",
       "      <td>3.2527</td>\n",
       "    </tr>\n",
       "    <tr>\n",
       "      <th>2018-03-06</th>\n",
       "      <td>21.90</td>\n",
       "      <td>43.49</td>\n",
       "      <td>85653.0</td>\n",
       "      <td>3.2191</td>\n",
       "    </tr>\n",
       "    <tr>\n",
       "      <th>2018-03-07</th>\n",
       "      <td>21.67</td>\n",
       "      <td>42.85</td>\n",
       "      <td>85484.0</td>\n",
       "      <td>3.2364</td>\n",
       "    </tr>\n",
       "    <tr>\n",
       "      <th>2018-03-08</th>\n",
       "      <td>21.70</td>\n",
       "      <td>41.46</td>\n",
       "      <td>84985.0</td>\n",
       "      <td>3.2620</td>\n",
       "    </tr>\n",
       "    <tr>\n",
       "      <th>2018-03-09</th>\n",
       "      <td>22.39</td>\n",
       "      <td>42.10</td>\n",
       "      <td>86371.0</td>\n",
       "      <td>3.2469</td>\n",
       "    </tr>\n",
       "    <tr>\n",
       "      <th>2018-03-12</th>\n",
       "      <td>22.33</td>\n",
       "      <td>42.46</td>\n",
       "      <td>86900.0</td>\n",
       "      <td>3.2609</td>\n",
       "    </tr>\n",
       "    <tr>\n",
       "      <th>2018-03-13</th>\n",
       "      <td>22.11</td>\n",
       "      <td>42.13</td>\n",
       "      <td>86384.0</td>\n",
       "      <td>3.2483</td>\n",
       "    </tr>\n",
       "    <tr>\n",
       "      <th>2018-03-14</th>\n",
       "      <td>22.38</td>\n",
       "      <td>42.60</td>\n",
       "      <td>86051.0</td>\n",
       "      <td>3.2641</td>\n",
       "    </tr>\n",
       "    <tr>\n",
       "      <th>2018-03-15</th>\n",
       "      <td>21.31</td>\n",
       "      <td>42.40</td>\n",
       "      <td>84928.0</td>\n",
       "      <td>3.2841</td>\n",
       "    </tr>\n",
       "  </tbody>\n",
       "</table>\n",
       "</div>"
      ],
      "text/plain": [
       "            PETR4.SA  VALE3.SA    ^BVSP  DEXBZUS\n",
       "2018-02-15     19.40     45.95  84291.0   3.2318\n",
       "2018-02-16     19.42     46.03  84525.0   3.2219\n",
       "2018-02-19     20.05     46.45  84793.0      NaN\n",
       "2018-02-20     20.44     45.51  85804.0   3.2434\n",
       "2018-02-21     20.25     44.80  86052.0   3.2581\n",
       "2018-02-22     20.74     45.67  86686.0   3.2579\n",
       "2018-02-23     21.12     46.08  87293.0   3.2344\n",
       "2018-02-26     21.52     47.40  87653.0   3.2381\n",
       "2018-02-27     21.50     47.33  86935.0   3.2472\n",
       "2018-02-28     21.46     45.05  85481.0   3.2428\n",
       "2018-03-01     21.03     44.45  85378.0   3.2421\n",
       "2018-03-02     21.51     43.75  85761.0   3.2513\n",
       "2018-03-05     22.12     43.70  86023.0   3.2527\n",
       "2018-03-06     21.90     43.49  85653.0   3.2191\n",
       "2018-03-07     21.67     42.85  85484.0   3.2364\n",
       "2018-03-08     21.70     41.46  84985.0   3.2620\n",
       "2018-03-09     22.39     42.10  86371.0   3.2469\n",
       "2018-03-12     22.33     42.46  86900.0   3.2609\n",
       "2018-03-13     22.11     42.13  86384.0   3.2483\n",
       "2018-03-14     22.38     42.60  86051.0   3.2641\n",
       "2018-03-15     21.31     42.40  84928.0   3.2841"
      ]
     },
     "execution_count": 17,
     "metadata": {},
     "output_type": "execute_result"
    }
   ],
   "source": [
    "ativos['2018-02-15': '2018-03-15']"
   ]
  },
  {
   "cell_type": "markdown",
   "metadata": {},
   "source": [
    "#### resample()\n",
    "`.resample()` permite criar objetos agrupados baseados em períodos. Pense como um groupby, mas ao invés de grupos montados sobre valores únicos, aqui são grupos montados a partir de datas contidas em períodos sem sobreposição.<br>\n",
    "Por exemplo, se quisermos checar os valores médios semanais, basta utilizar:"
   ]
  },
  {
   "cell_type": "code",
   "execution_count": 18,
   "metadata": {},
   "outputs": [
    {
     "data": {
      "text/html": [
       "<div>\n",
       "<style scoped>\n",
       "    .dataframe tbody tr th:only-of-type {\n",
       "        vertical-align: middle;\n",
       "    }\n",
       "\n",
       "    .dataframe tbody tr th {\n",
       "        vertical-align: top;\n",
       "    }\n",
       "\n",
       "    .dataframe thead th {\n",
       "        text-align: right;\n",
       "    }\n",
       "</style>\n",
       "<table border=\"1\" class=\"dataframe\">\n",
       "  <thead>\n",
       "    <tr style=\"text-align: right;\">\n",
       "      <th></th>\n",
       "      <th>PETR4.SA</th>\n",
       "      <th>VALE3.SA</th>\n",
       "      <th>^BVSP</th>\n",
       "      <th>DEXBZUS</th>\n",
       "    </tr>\n",
       "  </thead>\n",
       "  <tbody>\n",
       "    <tr>\n",
       "      <th>2018-02-04</th>\n",
       "      <td>20.245000</td>\n",
       "      <td>41.295000</td>\n",
       "      <td>84768.000000</td>\n",
       "      <td>3.196150</td>\n",
       "    </tr>\n",
       "    <tr>\n",
       "      <th>2018-02-11</th>\n",
       "      <td>19.258000</td>\n",
       "      <td>41.624000</td>\n",
       "      <td>82190.800000</td>\n",
       "      <td>3.269960</td>\n",
       "    </tr>\n",
       "    <tr>\n",
       "      <th>2018-02-18</th>\n",
       "      <td>19.356667</td>\n",
       "      <td>45.496667</td>\n",
       "      <td>84119.666667</td>\n",
       "      <td>3.236267</td>\n",
       "    </tr>\n",
       "    <tr>\n",
       "      <th>2018-02-25</th>\n",
       "      <td>20.520000</td>\n",
       "      <td>45.702000</td>\n",
       "      <td>86125.600000</td>\n",
       "      <td>3.248450</td>\n",
       "    </tr>\n",
       "    <tr>\n",
       "      <th>2018-03-04</th>\n",
       "      <td>21.493333</td>\n",
       "      <td>46.593333</td>\n",
       "      <td>86689.666667</td>\n",
       "      <td>3.242700</td>\n",
       "    </tr>\n",
       "  </tbody>\n",
       "</table>\n",
       "</div>"
      ],
      "text/plain": [
       "             PETR4.SA   VALE3.SA         ^BVSP   DEXBZUS\n",
       "2018-02-04  20.245000  41.295000  84768.000000  3.196150\n",
       "2018-02-11  19.258000  41.624000  82190.800000  3.269960\n",
       "2018-02-18  19.356667  45.496667  84119.666667  3.236267\n",
       "2018-02-25  20.520000  45.702000  86125.600000  3.248450\n",
       "2018-03-04  21.493333  46.593333  86689.666667  3.242700"
      ]
     },
     "execution_count": 18,
     "metadata": {},
     "output_type": "execute_result"
    }
   ],
   "source": [
    "ativos['2018-02'].resample('W').mean()"
   ]
  },
  {
   "cell_type": "markdown",
   "metadata": {},
   "source": [
    "se quisermos os valores médios mensais:"
   ]
  },
  {
   "cell_type": "code",
   "execution_count": 19,
   "metadata": {},
   "outputs": [
    {
     "data": {
      "text/html": [
       "<div>\n",
       "<style scoped>\n",
       "    .dataframe tbody tr th:only-of-type {\n",
       "        vertical-align: middle;\n",
       "    }\n",
       "\n",
       "    .dataframe tbody tr th {\n",
       "        vertical-align: top;\n",
       "    }\n",
       "\n",
       "    .dataframe thead th {\n",
       "        text-align: right;\n",
       "    }\n",
       "</style>\n",
       "<table border=\"1\" class=\"dataframe\">\n",
       "  <thead>\n",
       "    <tr style=\"text-align: right;\">\n",
       "      <th></th>\n",
       "      <th>PETR4.SA</th>\n",
       "      <th>VALE3.SA</th>\n",
       "      <th>^BVSP</th>\n",
       "      <th>DEXBZUS</th>\n",
       "    </tr>\n",
       "  </thead>\n",
       "  <tbody>\n",
       "    <tr>\n",
       "      <th>2018-01-31</th>\n",
       "      <td>19.700000</td>\n",
       "      <td>41.450000</td>\n",
       "      <td>84913.000000</td>\n",
       "      <td>3.178200</td>\n",
       "    </tr>\n",
       "    <tr>\n",
       "      <th>2018-02-28</th>\n",
       "      <td>20.107222</td>\n",
       "      <td>44.193889</td>\n",
       "      <td>84641.444444</td>\n",
       "      <td>3.245459</td>\n",
       "    </tr>\n",
       "    <tr>\n",
       "      <th>2018-03-31</th>\n",
       "      <td>21.693810</td>\n",
       "      <td>42.334762</td>\n",
       "      <td>85197.095238</td>\n",
       "      <td>3.277752</td>\n",
       "    </tr>\n",
       "    <tr>\n",
       "      <th>2018-04-30</th>\n",
       "      <td>21.617143</td>\n",
       "      <td>45.691429</td>\n",
       "      <td>85032.190476</td>\n",
       "      <td>3.408886</td>\n",
       "    </tr>\n",
       "    <tr>\n",
       "      <th>2018-05-31</th>\n",
       "      <td>23.284286</td>\n",
       "      <td>51.821905</td>\n",
       "      <td>82295.000000</td>\n",
       "      <td>3.633100</td>\n",
       "    </tr>\n",
       "    <tr>\n",
       "      <th>2018-06-30</th>\n",
       "      <td>15.629375</td>\n",
       "      <td>51.051250</td>\n",
       "      <td>73049.937500</td>\n",
       "      <td>3.754988</td>\n",
       "    </tr>\n",
       "  </tbody>\n",
       "</table>\n",
       "</div>"
      ],
      "text/plain": [
       "             PETR4.SA   VALE3.SA         ^BVSP   DEXBZUS\n",
       "2018-01-31  19.700000  41.450000  84913.000000  3.178200\n",
       "2018-02-28  20.107222  44.193889  84641.444444  3.245459\n",
       "2018-03-31  21.693810  42.334762  85197.095238  3.277752\n",
       "2018-04-30  21.617143  45.691429  85032.190476  3.408886\n",
       "2018-05-31  23.284286  51.821905  82295.000000  3.633100\n",
       "2018-06-30  15.629375  51.051250  73049.937500  3.754988"
      ]
     },
     "execution_count": 19,
     "metadata": {},
     "output_type": "execute_result"
    }
   ],
   "source": [
    "ativos['2018'].resample('M').mean()"
   ]
  },
  {
   "cell_type": "markdown",
   "metadata": {},
   "source": [
    "### exercicios"
   ]
  },
  {
   "cell_type": "markdown",
   "metadata": {},
   "source": [
    "criar um grafico do ativo `^BVSP` com os valores diários, as médias mensais e as médias móveis de 7 dias"
   ]
  },
  {
   "cell_type": "code",
   "execution_count": 20,
   "metadata": {},
   "outputs": [
    {
     "data": {
      "text/plain": [
       "<matplotlib.axes._subplots.AxesSubplot at 0x10f11be10>"
      ]
     },
     "execution_count": 20,
     "metadata": {},
     "output_type": "execute_result"
    },
    {
     "data": {
      "image/png": "[encoded data removed]",
      "text/plain": [
       "<Figure size 1440x432 with 1 Axes>"
      ]
     },
     "metadata": {},
     "output_type": "display_data"
    }
   ],
   "source": [
    "pd.concat([ativos, ativos.resample('M').mean(), \n",
    "           ativos.rolling(window = 30).mean()], axis = 1).fillna(method = 'bfill')['^BVSP'].plot(figsize = (20,6))"
   ]
  },
  {
   "cell_type": "markdown",
   "metadata": {},
   "source": [
    "______\n",
    "______\n",
    "______"
   ]
  },
  {
   "cell_type": "code",
   "execution_count": null,
   "metadata": {},
   "outputs": [],
   "source": []
  }
 ],
 "metadata": {
  "kernelspec": {
   "display_name": "Python 3",
   "language": "python",
   "name": "python3"
  },
  "language_info": {
   "codemirror_mode": {
    "name": "ipython",
    "version": 3
   },
   "file_extension": ".py",
   "mimetype": "text/x-python",
   "name": "python",
   "nbconvert_exporter": "python",
   "pygments_lexer": "ipython3",
   "version": "3.6.4"
  },
  "toc": {
   "colors": {
    "hover_highlight": "#DAA520",
    "navigate_num": "#000000",
    "navigate_text": "#333333",
    "running_highlight": "#FF0000",
    "selected_highlight": "#FFD700",
    "sidebar_border": "#EEEEEE",
    "wrapper_background": "#FFFFFF"
   },
   "moveMenuLeft": true,
   "nav_menu": {
    "height": "258px",
    "width": "253px"
   },
   "navigate_menu": true,
   "number_sections": false,
   "sideBar": true,
   "threshold": 4,
   "toc_cell": false,
   "toc_section_display": "block",
   "toc_window_display": false,
   "widenNotebook": false
  }
 },
 "nbformat": 4,
 "nbformat_minor": 2
}
