{
 "cells": [
  {
   "cell_type": "markdown",
   "metadata": {},
   "source": [
    "### Medindo tempo"
   ]
  },
  {
   "cell_type": "code",
   "execution_count": 1,
   "metadata": {
    "collapsed": false
   },
   "outputs": [
    {
     "name": "stdout",
     "output_type": "stream",
     "text": [
      "CPU times: user 917 µs, sys: 12 µs, total: 929 µs\n",
      "Wall time: 1.03 ms\n"
     ]
    }
   ],
   "source": [
    "%%time\n",
    "for _ in range(10000):\n",
    "    True"
   ]
  },
  {
   "cell_type": "markdown",
   "metadata": {},
   "source": [
    "### Funções"
   ]
  },
  {
   "cell_type": "code",
   "execution_count": 2,
   "metadata": {
    "collapsed": true
   },
   "outputs": [],
   "source": [
    "def media_aritmetica (a,b):\n",
    "    return (a+b)/2"
   ]
  },
  {
   "cell_type": "code",
   "execution_count": 3,
   "metadata": {
    "collapsed": false
   },
   "outputs": [
    {
     "data": {
      "text/plain": [
       "2.5"
      ]
     },
     "execution_count": 3,
     "metadata": {},
     "output_type": "execute_result"
    }
   ],
   "source": [
    "media_aritmetica (1,4)"
   ]
  },
  {
   "cell_type": "code",
   "execution_count": 4,
   "metadata": {
    "collapsed": true
   },
   "outputs": [],
   "source": [
    "def media_geometrica (a,b):\n",
    "    return (a*b)**0.5"
   ]
  },
  {
   "cell_type": "code",
   "execution_count": 5,
   "metadata": {
    "collapsed": false
   },
   "outputs": [
    {
     "data": {
      "text/plain": [
       "2.0"
      ]
     },
     "execution_count": 5,
     "metadata": {},
     "output_type": "execute_result"
    }
   ],
   "source": [
    "media_geometrica (1,4)"
   ]
  },
  {
   "cell_type": "code",
   "execution_count": 6,
   "metadata": {
    "collapsed": true
   },
   "outputs": [],
   "source": [
    "def media_harmonica (a,b):\n",
    "    return (2/(1/a + 1/b))"
   ]
  },
  {
   "cell_type": "code",
   "execution_count": 7,
   "metadata": {
    "collapsed": false
   },
   "outputs": [
    {
     "data": {
      "text/plain": [
       "1.6"
      ]
     },
     "execution_count": 7,
     "metadata": {},
     "output_type": "execute_result"
    }
   ],
   "source": [
    "media_harmonica (1,4)"
   ]
  },
  {
   "cell_type": "markdown",
   "metadata": {},
   "source": [
    "### Classes"
   ]
  },
  {
   "cell_type": "code",
   "execution_count": 8,
   "metadata": {
    "collapsed": true
   },
   "outputs": [],
   "source": [
    "class media (object):\n",
    "    def _int_(self):\n",
    "        self.name = 'media'\n",
    "        \n",
    "    def  aritmetica(self, a, b):\n",
    "        return (a+b)/2\n",
    "    \n",
    "    def  harmonica(self, a, b):\n",
    "        return (2/(1/a + 1/b))\n",
    "    \n",
    "    def  geometrica(self, a, b):\n",
    "        return (a*b)**0.5"
   ]
  },
  {
   "cell_type": "code",
   "execution_count": 9,
   "metadata": {
    "collapsed": true
   },
   "outputs": [],
   "source": [
    "m = media()"
   ]
  },
  {
   "cell_type": "code",
   "execution_count": 10,
   "metadata": {
    "collapsed": false
   },
   "outputs": [
    {
     "data": {
      "text/plain": [
       "1.5"
      ]
     },
     "execution_count": 10,
     "metadata": {},
     "output_type": "execute_result"
    }
   ],
   "source": [
    "m.aritmetica(1,2)"
   ]
  },
  {
   "cell_type": "markdown",
   "metadata": {},
   "source": [
    "### generator"
   ]
  },
  {
   "cell_type": "code",
   "execution_count": 11,
   "metadata": {
    "collapsed": true
   },
   "outputs": [],
   "source": [
    "def remove_negativos (l):\n",
    "    lista_retorno = []\n",
    "    for i in l:\n",
    "        if i >= 0:\n",
    "            lista_retorno.append(i)\n",
    "    return lista_retorno"
   ]
  },
  {
   "cell_type": "code",
   "execution_count": 12,
   "metadata": {
    "collapsed": false
   },
   "outputs": [
    {
     "data": {
      "text/plain": [
       "[1, 10, 50]"
      ]
     },
     "execution_count": 12,
     "metadata": {},
     "output_type": "execute_result"
    }
   ],
   "source": [
    "lst = [1, -2, 10, -12, 50]\n",
    "remove_negativos(lst)"
   ]
  },
  {
   "cell_type": "code",
   "execution_count": 13,
   "metadata": {
    "collapsed": true
   },
   "outputs": [],
   "source": [
    "def remove_negativos(l):\n",
    "    for i in l:\n",
    "        if i >= 0 :\n",
    "            yield i"
   ]
  },
  {
   "cell_type": "code",
   "execution_count": 14,
   "metadata": {
    "collapsed": false
   },
   "outputs": [
    {
     "data": {
      "text/plain": [
       "<generator object remove_negativos at 0x105e070f8>"
      ]
     },
     "execution_count": 14,
     "metadata": {},
     "output_type": "execute_result"
    }
   ],
   "source": [
    "remove_negativos(lst)"
   ]
  },
  {
   "cell_type": "code",
   "execution_count": 15,
   "metadata": {
    "collapsed": false
   },
   "outputs": [
    {
     "data": {
      "text/plain": [
       "[1, 10, 50]"
      ]
     },
     "execution_count": 15,
     "metadata": {},
     "output_type": "execute_result"
    }
   ],
   "source": [
    "list(remove_negativos(lst))"
   ]
  },
  {
   "cell_type": "code",
   "execution_count": 16,
   "metadata": {
    "collapsed": true
   },
   "outputs": [],
   "source": [
    "i = remove_negativos(lst)"
   ]
  },
  {
   "cell_type": "code",
   "execution_count": 17,
   "metadata": {
    "collapsed": false
   },
   "outputs": [
    {
     "data": {
      "text/plain": [
       "1"
      ]
     },
     "execution_count": 17,
     "metadata": {},
     "output_type": "execute_result"
    }
   ],
   "source": [
    "next(i)"
   ]
  },
  {
   "cell_type": "code",
   "execution_count": 18,
   "metadata": {
    "collapsed": false
   },
   "outputs": [
    {
     "data": {
      "text/plain": [
       "10"
      ]
     },
     "execution_count": 18,
     "metadata": {},
     "output_type": "execute_result"
    }
   ],
   "source": [
    "next(i)"
   ]
  },
  {
   "cell_type": "code",
   "execution_count": 19,
   "metadata": {
    "collapsed": false
   },
   "outputs": [
    {
     "data": {
      "text/plain": [
       "50"
      ]
     },
     "execution_count": 19,
     "metadata": {},
     "output_type": "execute_result"
    }
   ],
   "source": [
    "next(i)"
   ]
  },
  {
   "cell_type": "code",
   "execution_count": 20,
   "metadata": {
    "collapsed": false
   },
   "outputs": [],
   "source": [
    "# next(i)"
   ]
  },
  {
   "cell_type": "code",
   "execution_count": null,
   "metadata": {
    "collapsed": true
   },
   "outputs": [],
   "source": []
  },
  {
   "cell_type": "markdown",
   "metadata": {},
   "source": [
    "### Exercicio"
   ]
  },
  {
   "cell_type": "code",
   "execution_count": 21,
   "metadata": {
    "collapsed": false
   },
   "outputs": [
    {
     "data": {
      "text/plain": [
       "[[0, 1, 2], [1, 2, 3], [2, 3, 4]]"
      ]
     },
     "execution_count": 21,
     "metadata": {},
     "output_type": "execute_result"
    }
   ],
   "source": [
    "# criar a lista abaixo usando list comprehension\n",
    "[[0, 1, 2], [1, 2, 3], [2, 3, 4]]"
   ]
  },
  {
   "cell_type": "code",
   "execution_count": null,
   "metadata": {
    "collapsed": true
   },
   "outputs": [],
   "source": []
  },
  {
   "cell_type": "code",
   "execution_count": null,
   "metadata": {
    "collapsed": true
   },
   "outputs": [],
   "source": []
  },
  {
   "cell_type": "markdown",
   "metadata": {},
   "source": [
    "## PANDAS"
   ]
  },
  {
   "cell_type": "code",
   "execution_count": 22,
   "metadata": {
    "collapsed": true
   },
   "outputs": [],
   "source": [
    "import pandas as pd\n",
    "%matplotlib inline"
   ]
  },
  {
   "cell_type": "code",
   "execution_count": 23,
   "metadata": {
    "collapsed": false
   },
   "outputs": [
    {
     "data": {
      "text/plain": [
       "'0.20.3'"
      ]
     },
     "execution_count": 23,
     "metadata": {},
     "output_type": "execute_result"
    }
   ],
   "source": [
    "pd.__version__"
   ]
  },
  {
   "cell_type": "code",
   "execution_count": 24,
   "metadata": {
    "collapsed": false
   },
   "outputs": [
    {
     "data": {
      "text/plain": [
       "True"
      ]
     },
     "execution_count": 24,
     "metadata": {},
     "output_type": "execute_result"
    }
   ],
   "source": [
    "import webbrowser\n",
    "\n",
    "url = 'https://www.terra.com.br/esportes/futebol/brasileiro-serie-a/tabela/'\n",
    "webbrowser.open(url)"
   ]
  },
  {
   "cell_type": "code",
   "execution_count": 43,
   "metadata": {
    "collapsed": false
   },
   "outputs": [],
   "source": [
    "df = pd.read_clipboard(error_bad_lines=False, header = None)\n",
    "\n",
    "df.columns = ['idx','TIMES','TIMES.1', 'subiu_desceu', 'P', 'J', 'V', 'E', 'D', 'GP', 'GC', 'SG', '%']"
   ]
  },
  {
   "cell_type": "code",
   "execution_count": 44,
   "metadata": {
    "collapsed": true
   },
   "outputs": [],
   "source": [
    "# df.to_csv('brasileirao.csv', index=None)"
   ]
  },
  {
   "cell_type": "code",
   "execution_count": 47,
   "metadata": {
    "collapsed": true
   },
   "outputs": [],
   "source": [
    "df = pd.read_csv('brasileirao.csv')"
   ]
  },
  {
   "cell_type": "code",
   "execution_count": 48,
   "metadata": {
    "collapsed": false
   },
   "outputs": [
    {
     "data": {
      "text/html": [
       "<div>\n",
       "<style>\n",
       "    .dataframe thead tr:only-child th {\n",
       "        text-align: right;\n",
       "    }\n",
       "\n",
       "    .dataframe thead th {\n",
       "        text-align: left;\n",
       "    }\n",
       "\n",
       "    .dataframe tbody tr th {\n",
       "        vertical-align: top;\n",
       "    }\n",
       "</style>\n",
       "<table border=\"1\" class=\"dataframe\">\n",
       "  <thead>\n",
       "    <tr style=\"text-align: right;\">\n",
       "      <th></th>\n",
       "      <th>idx</th>\n",
       "      <th>TIMES</th>\n",
       "      <th>TIMES.1</th>\n",
       "      <th>subiu_desceu</th>\n",
       "      <th>P</th>\n",
       "      <th>J</th>\n",
       "      <th>V</th>\n",
       "      <th>E</th>\n",
       "      <th>D</th>\n",
       "      <th>GP</th>\n",
       "      <th>GC</th>\n",
       "      <th>SG</th>\n",
       "      <th>%</th>\n",
       "    </tr>\n",
       "  </thead>\n",
       "  <tbody>\n",
       "    <tr>\n",
       "      <th>0</th>\n",
       "      <td>1</td>\n",
       "      <td>Corinthians</td>\n",
       "      <td>Corinthians</td>\n",
       "      <td>NaN</td>\n",
       "      <td>47</td>\n",
       "      <td>19</td>\n",
       "      <td>14</td>\n",
       "      <td>5</td>\n",
       "      <td>0</td>\n",
       "      <td>32</td>\n",
       "      <td>9</td>\n",
       "      <td>23</td>\n",
       "      <td>82</td>\n",
       "    </tr>\n",
       "    <tr>\n",
       "      <th>1</th>\n",
       "      <td>2</td>\n",
       "      <td>Grêmio</td>\n",
       "      <td>Grêmio</td>\n",
       "      <td>NaN</td>\n",
       "      <td>39</td>\n",
       "      <td>19</td>\n",
       "      <td>12</td>\n",
       "      <td>3</td>\n",
       "      <td>4</td>\n",
       "      <td>35</td>\n",
       "      <td>18</td>\n",
       "      <td>17</td>\n",
       "      <td>68</td>\n",
       "    </tr>\n",
       "    <tr>\n",
       "      <th>2</th>\n",
       "      <td>3</td>\n",
       "      <td>Santos</td>\n",
       "      <td>Santos</td>\n",
       "      <td>NaN</td>\n",
       "      <td>35</td>\n",
       "      <td>19</td>\n",
       "      <td>10</td>\n",
       "      <td>5</td>\n",
       "      <td>4</td>\n",
       "      <td>22</td>\n",
       "      <td>13</td>\n",
       "      <td>9</td>\n",
       "      <td>61</td>\n",
       "    </tr>\n",
       "    <tr>\n",
       "      <th>3</th>\n",
       "      <td>4</td>\n",
       "      <td>Palmeiras</td>\n",
       "      <td>Palmeiras</td>\n",
       "      <td>NaN</td>\n",
       "      <td>32</td>\n",
       "      <td>19</td>\n",
       "      <td>10</td>\n",
       "      <td>2</td>\n",
       "      <td>7</td>\n",
       "      <td>28</td>\n",
       "      <td>20</td>\n",
       "      <td>8</td>\n",
       "      <td>56</td>\n",
       "    </tr>\n",
       "    <tr>\n",
       "      <th>4</th>\n",
       "      <td>5</td>\n",
       "      <td>Flamengo</td>\n",
       "      <td>Flamengo</td>\n",
       "      <td>NaN</td>\n",
       "      <td>29</td>\n",
       "      <td>19</td>\n",
       "      <td>7</td>\n",
       "      <td>8</td>\n",
       "      <td>4</td>\n",
       "      <td>27</td>\n",
       "      <td>19</td>\n",
       "      <td>8</td>\n",
       "      <td>50</td>\n",
       "    </tr>\n",
       "    <tr>\n",
       "      <th>5</th>\n",
       "      <td>6</td>\n",
       "      <td>Sport</td>\n",
       "      <td>Sport</td>\n",
       "      <td>NaN</td>\n",
       "      <td>28</td>\n",
       "      <td>19</td>\n",
       "      <td>8</td>\n",
       "      <td>4</td>\n",
       "      <td>7</td>\n",
       "      <td>30</td>\n",
       "      <td>26</td>\n",
       "      <td>4</td>\n",
       "      <td>49</td>\n",
       "    </tr>\n",
       "    <tr>\n",
       "      <th>6</th>\n",
       "      <td>7</td>\n",
       "      <td>Cruzeiro</td>\n",
       "      <td>Cruzeiro</td>\n",
       "      <td>NaN</td>\n",
       "      <td>27</td>\n",
       "      <td>19</td>\n",
       "      <td>7</td>\n",
       "      <td>6</td>\n",
       "      <td>6</td>\n",
       "      <td>21</td>\n",
       "      <td>16</td>\n",
       "      <td>5</td>\n",
       "      <td>47</td>\n",
       "    </tr>\n",
       "    <tr>\n",
       "      <th>7</th>\n",
       "      <td>8</td>\n",
       "      <td>Atlético-PR</td>\n",
       "      <td>Atlético-PR</td>\n",
       "      <td>Subiu2</td>\n",
       "      <td>26</td>\n",
       "      <td>19</td>\n",
       "      <td>7</td>\n",
       "      <td>5</td>\n",
       "      <td>7</td>\n",
       "      <td>21</td>\n",
       "      <td>22</td>\n",
       "      <td>-1</td>\n",
       "      <td>45</td>\n",
       "    </tr>\n",
       "    <tr>\n",
       "      <th>8</th>\n",
       "      <td>9</td>\n",
       "      <td>Fluminense</td>\n",
       "      <td>Fluminense</td>\n",
       "      <td>Subiu5</td>\n",
       "      <td>26</td>\n",
       "      <td>19</td>\n",
       "      <td>6</td>\n",
       "      <td>8</td>\n",
       "      <td>5</td>\n",
       "      <td>29</td>\n",
       "      <td>27</td>\n",
       "      <td>2</td>\n",
       "      <td>45</td>\n",
       "    </tr>\n",
       "    <tr>\n",
       "      <th>9</th>\n",
       "      <td>10</td>\n",
       "      <td>Coritiba</td>\n",
       "      <td>Coritiba</td>\n",
       "      <td>Subiu2</td>\n",
       "      <td>25</td>\n",
       "      <td>19</td>\n",
       "      <td>7</td>\n",
       "      <td>4</td>\n",
       "      <td>8</td>\n",
       "      <td>21</td>\n",
       "      <td>25</td>\n",
       "      <td>-4</td>\n",
       "      <td>43</td>\n",
       "    </tr>\n",
       "    <tr>\n",
       "      <th>10</th>\n",
       "      <td>11</td>\n",
       "      <td>Botafogo</td>\n",
       "      <td>Botafogo</td>\n",
       "      <td>Desceu3</td>\n",
       "      <td>25</td>\n",
       "      <td>19</td>\n",
       "      <td>6</td>\n",
       "      <td>7</td>\n",
       "      <td>6</td>\n",
       "      <td>21</td>\n",
       "      <td>20</td>\n",
       "      <td>1</td>\n",
       "      <td>43</td>\n",
       "    </tr>\n",
       "    <tr>\n",
       "      <th>11</th>\n",
       "      <td>12</td>\n",
       "      <td>Vasco da Gama</td>\n",
       "      <td>Vasco da Gama</td>\n",
       "      <td>Desceu3</td>\n",
       "      <td>24</td>\n",
       "      <td>19</td>\n",
       "      <td>7</td>\n",
       "      <td>3</td>\n",
       "      <td>9</td>\n",
       "      <td>21</td>\n",
       "      <td>30</td>\n",
       "      <td>-9</td>\n",
       "      <td>42</td>\n",
       "    </tr>\n",
       "    <tr>\n",
       "      <th>12</th>\n",
       "      <td>13</td>\n",
       "      <td>Bahia</td>\n",
       "      <td>Bahia</td>\n",
       "      <td>Subiu3</td>\n",
       "      <td>23</td>\n",
       "      <td>19</td>\n",
       "      <td>6</td>\n",
       "      <td>5</td>\n",
       "      <td>8</td>\n",
       "      <td>24</td>\n",
       "      <td>24</td>\n",
       "      <td>0</td>\n",
       "      <td>40</td>\n",
       "    </tr>\n",
       "    <tr>\n",
       "      <th>13</th>\n",
       "      <td>14</td>\n",
       "      <td>Ponte Preta</td>\n",
       "      <td>Ponte Preta</td>\n",
       "      <td>Subiu1</td>\n",
       "      <td>23</td>\n",
       "      <td>19</td>\n",
       "      <td>6</td>\n",
       "      <td>5</td>\n",
       "      <td>8</td>\n",
       "      <td>20</td>\n",
       "      <td>24</td>\n",
       "      <td>-4</td>\n",
       "      <td>40</td>\n",
       "    </tr>\n",
       "    <tr>\n",
       "      <th>14</th>\n",
       "      <td>15</td>\n",
       "      <td>Atlético-MG</td>\n",
       "      <td>Atlético-MG</td>\n",
       "      <td>Desceu4</td>\n",
       "      <td>23</td>\n",
       "      <td>19</td>\n",
       "      <td>6</td>\n",
       "      <td>5</td>\n",
       "      <td>8</td>\n",
       "      <td>19</td>\n",
       "      <td>23</td>\n",
       "      <td>-4</td>\n",
       "      <td>40</td>\n",
       "    </tr>\n",
       "    <tr>\n",
       "      <th>15</th>\n",
       "      <td>16</td>\n",
       "      <td>Chapecoense</td>\n",
       "      <td>Chapecoense</td>\n",
       "      <td>Desceu3</td>\n",
       "      <td>22</td>\n",
       "      <td>19</td>\n",
       "      <td>6</td>\n",
       "      <td>4</td>\n",
       "      <td>9</td>\n",
       "      <td>24</td>\n",
       "      <td>33</td>\n",
       "      <td>-9</td>\n",
       "      <td>38</td>\n",
       "    </tr>\n",
       "    <tr>\n",
       "      <th>16</th>\n",
       "      <td>17</td>\n",
       "      <td>São Paulo</td>\n",
       "      <td>São Paulo</td>\n",
       "      <td>NaN</td>\n",
       "      <td>19</td>\n",
       "      <td>19</td>\n",
       "      <td>5</td>\n",
       "      <td>4</td>\n",
       "      <td>10</td>\n",
       "      <td>22</td>\n",
       "      <td>26</td>\n",
       "      <td>-4</td>\n",
       "      <td>33</td>\n",
       "    </tr>\n",
       "    <tr>\n",
       "      <th>17</th>\n",
       "      <td>18</td>\n",
       "      <td>Vitória</td>\n",
       "      <td>Vitória</td>\n",
       "      <td>Subiu1</td>\n",
       "      <td>19</td>\n",
       "      <td>19</td>\n",
       "      <td>5</td>\n",
       "      <td>4</td>\n",
       "      <td>10</td>\n",
       "      <td>21</td>\n",
       "      <td>30</td>\n",
       "      <td>-9</td>\n",
       "      <td>33</td>\n",
       "    </tr>\n",
       "    <tr>\n",
       "      <th>18</th>\n",
       "      <td>19</td>\n",
       "      <td>Avaí</td>\n",
       "      <td>Avaí</td>\n",
       "      <td>Desceu1</td>\n",
       "      <td>18</td>\n",
       "      <td>19</td>\n",
       "      <td>4</td>\n",
       "      <td>6</td>\n",
       "      <td>9</td>\n",
       "      <td>10</td>\n",
       "      <td>25</td>\n",
       "      <td>-15</td>\n",
       "      <td>31</td>\n",
       "    </tr>\n",
       "    <tr>\n",
       "      <th>19</th>\n",
       "      <td>20</td>\n",
       "      <td>Atlético-GO</td>\n",
       "      <td>Atlético-GO</td>\n",
       "      <td>NaN</td>\n",
       "      <td>12</td>\n",
       "      <td>19</td>\n",
       "      <td>3</td>\n",
       "      <td>3</td>\n",
       "      <td>13</td>\n",
       "      <td>16</td>\n",
       "      <td>34</td>\n",
       "      <td>-18</td>\n",
       "      <td>21</td>\n",
       "    </tr>\n",
       "  </tbody>\n",
       "</table>\n",
       "</div>"
      ],
      "text/plain": [
       "    idx          TIMES        TIMES.1 subiu_desceu   P   J   V  E   D  GP  GC  \\\n",
       "0     1    Corinthians    Corinthians          NaN  47  19  14  5   0  32   9   \n",
       "1     2         Grêmio         Grêmio          NaN  39  19  12  3   4  35  18   \n",
       "2     3         Santos         Santos          NaN  35  19  10  5   4  22  13   \n",
       "3     4      Palmeiras      Palmeiras          NaN  32  19  10  2   7  28  20   \n",
       "4     5       Flamengo       Flamengo          NaN  29  19   7  8   4  27  19   \n",
       "5     6          Sport          Sport          NaN  28  19   8  4   7  30  26   \n",
       "6     7       Cruzeiro       Cruzeiro          NaN  27  19   7  6   6  21  16   \n",
       "7     8    Atlético-PR    Atlético-PR       Subiu2  26  19   7  5   7  21  22   \n",
       "8     9     Fluminense     Fluminense       Subiu5  26  19   6  8   5  29  27   \n",
       "9    10       Coritiba       Coritiba       Subiu2  25  19   7  4   8  21  25   \n",
       "10   11       Botafogo       Botafogo      Desceu3  25  19   6  7   6  21  20   \n",
       "11   12  Vasco da Gama  Vasco da Gama      Desceu3  24  19   7  3   9  21  30   \n",
       "12   13          Bahia          Bahia       Subiu3  23  19   6  5   8  24  24   \n",
       "13   14    Ponte Preta    Ponte Preta       Subiu1  23  19   6  5   8  20  24   \n",
       "14   15    Atlético-MG    Atlético-MG      Desceu4  23  19   6  5   8  19  23   \n",
       "15   16    Chapecoense    Chapecoense      Desceu3  22  19   6  4   9  24  33   \n",
       "16   17      São Paulo      São Paulo          NaN  19  19   5  4  10  22  26   \n",
       "17   18        Vitória        Vitória       Subiu1  19  19   5  4  10  21  30   \n",
       "18   19           Avaí           Avaí      Desceu1  18  19   4  6   9  10  25   \n",
       "19   20    Atlético-GO    Atlético-GO          NaN  12  19   3  3  13  16  34   \n",
       "\n",
       "    SG   %  \n",
       "0   23  82  \n",
       "1   17  68  \n",
       "2    9  61  \n",
       "3    8  56  \n",
       "4    8  50  \n",
       "5    4  49  \n",
       "6    5  47  \n",
       "7   -1  45  \n",
       "8    2  45  \n",
       "9   -4  43  \n",
       "10   1  43  \n",
       "11  -9  42  \n",
       "12   0  40  \n",
       "13  -4  40  \n",
       "14  -4  40  \n",
       "15  -9  38  \n",
       "16  -4  33  \n",
       "17  -9  33  \n",
       "18 -15  31  \n",
       "19 -18  21  "
      ]
     },
     "execution_count": 48,
     "metadata": {},
     "output_type": "execute_result"
    }
   ],
   "source": [
    "df"
   ]
  },
  {
   "cell_type": "code",
   "execution_count": 49,
   "metadata": {
    "collapsed": false
   },
   "outputs": [
    {
     "data": {
      "text/plain": [
       "Index(['idx', 'TIMES', 'TIMES.1', 'subiu_desceu', 'P', 'J', 'V', 'E', 'D',\n",
       "       'GP', 'GC', 'SG', '%'],\n",
       "      dtype='object')"
      ]
     },
     "execution_count": 49,
     "metadata": {},
     "output_type": "execute_result"
    }
   ],
   "source": [
    "# checando as colunas\n",
    "df.columns"
   ]
  },
  {
   "cell_type": "code",
   "execution_count": 50,
   "metadata": {
    "collapsed": false
   },
   "outputs": [],
   "source": [
    "# limpando do dataset\n",
    "# apagar colunas\n",
    "df.drop(['idx', 'TIMES.1', '%'], axis = 1, inplace = True)"
   ]
  },
  {
   "cell_type": "code",
   "execution_count": 51,
   "metadata": {
    "collapsed": false
   },
   "outputs": [],
   "source": [
    "# definindo a coluna TIMES como indice\n",
    "df.set_index('TIMES', inplace = True)"
   ]
  },
  {
   "cell_type": "markdown",
   "metadata": {},
   "source": [
    "#### indexing e slicing\n",
    "* pelo nome da coluna\n",
    "* .loc\n",
    "* .iloc"
   ]
  },
  {
   "cell_type": "code",
   "execution_count": 52,
   "metadata": {
    "collapsed": false
   },
   "outputs": [
    {
     "data": {
      "text/plain": [
       "TIMES\n",
       "Corinthians      47\n",
       "Grêmio           39\n",
       "Santos           35\n",
       "Palmeiras        32\n",
       "Flamengo         29\n",
       "Sport            28\n",
       "Cruzeiro         27\n",
       "Atlético-PR      26\n",
       "Fluminense       26\n",
       "Coritiba         25\n",
       "Botafogo         25\n",
       "Vasco da Gama    24\n",
       "Bahia            23\n",
       "Ponte Preta      23\n",
       "Atlético-MG      23\n",
       "Chapecoense      22\n",
       "São Paulo        19\n",
       "Vitória          19\n",
       "Avaí             18\n",
       "Atlético-GO      12\n",
       "Name: P, dtype: int64"
      ]
     },
     "execution_count": 52,
     "metadata": {},
     "output_type": "execute_result"
    }
   ],
   "source": [
    "# coluna - metodo 1\n",
    "df['P']"
   ]
  },
  {
   "cell_type": "code",
   "execution_count": 53,
   "metadata": {
    "collapsed": false
   },
   "outputs": [
    {
     "data": {
      "text/plain": [
       "TIMES\n",
       "Corinthians      47\n",
       "Grêmio           39\n",
       "Santos           35\n",
       "Palmeiras        32\n",
       "Flamengo         29\n",
       "Sport            28\n",
       "Cruzeiro         27\n",
       "Atlético-PR      26\n",
       "Fluminense       26\n",
       "Coritiba         25\n",
       "Botafogo         25\n",
       "Vasco da Gama    24\n",
       "Bahia            23\n",
       "Ponte Preta      23\n",
       "Atlético-MG      23\n",
       "Chapecoense      22\n",
       "São Paulo        19\n",
       "Vitória          19\n",
       "Avaí             18\n",
       "Atlético-GO      12\n",
       "Name: P, dtype: int64"
      ]
     },
     "execution_count": 53,
     "metadata": {},
     "output_type": "execute_result"
    }
   ],
   "source": [
    "# coluna - metodo 2\n",
    "df.P"
   ]
  },
  {
   "cell_type": "code",
   "execution_count": 54,
   "metadata": {
    "collapsed": false
   },
   "outputs": [
    {
     "data": {
      "text/plain": [
       "subiu_desceu    NaN\n",
       "P                47\n",
       "J                19\n",
       "V                14\n",
       "E                 5\n",
       "D                 0\n",
       "GP               32\n",
       "GC                9\n",
       "SG               23\n",
       "Name: Corinthians, dtype: object"
      ]
     },
     "execution_count": 54,
     "metadata": {},
     "output_type": "execute_result"
    }
   ],
   "source": [
    "# usando .loc : retorna a linha\n",
    "df.loc['Corinthians']"
   ]
  },
  {
   "cell_type": "code",
   "execution_count": 55,
   "metadata": {
    "collapsed": false
   },
   "outputs": [
    {
     "data": {
      "text/plain": [
       "14"
      ]
     },
     "execution_count": 55,
     "metadata": {},
     "output_type": "execute_result"
    }
   ],
   "source": [
    "# usando .loc : retorna linha e coluna\n",
    "df.loc['Corinthians', 'V']"
   ]
  },
  {
   "cell_type": "code",
   "execution_count": 56,
   "metadata": {
    "collapsed": false
   },
   "outputs": [
    {
     "data": {
      "text/html": [
       "<div>\n",
       "<style>\n",
       "    .dataframe thead tr:only-child th {\n",
       "        text-align: right;\n",
       "    }\n",
       "\n",
       "    .dataframe thead th {\n",
       "        text-align: left;\n",
       "    }\n",
       "\n",
       "    .dataframe tbody tr th {\n",
       "        vertical-align: top;\n",
       "    }\n",
       "</style>\n",
       "<table border=\"1\" class=\"dataframe\">\n",
       "  <thead>\n",
       "    <tr style=\"text-align: right;\">\n",
       "      <th></th>\n",
       "      <th>subiu_desceu</th>\n",
       "      <th>P</th>\n",
       "      <th>J</th>\n",
       "      <th>V</th>\n",
       "      <th>E</th>\n",
       "      <th>D</th>\n",
       "      <th>GP</th>\n",
       "      <th>GC</th>\n",
       "      <th>SG</th>\n",
       "    </tr>\n",
       "    <tr>\n",
       "      <th>TIMES</th>\n",
       "      <th></th>\n",
       "      <th></th>\n",
       "      <th></th>\n",
       "      <th></th>\n",
       "      <th></th>\n",
       "      <th></th>\n",
       "      <th></th>\n",
       "      <th></th>\n",
       "      <th></th>\n",
       "    </tr>\n",
       "  </thead>\n",
       "  <tbody>\n",
       "    <tr>\n",
       "      <th>Grêmio</th>\n",
       "      <td>NaN</td>\n",
       "      <td>39</td>\n",
       "      <td>19</td>\n",
       "      <td>12</td>\n",
       "      <td>3</td>\n",
       "      <td>4</td>\n",
       "      <td>35</td>\n",
       "      <td>18</td>\n",
       "      <td>17</td>\n",
       "    </tr>\n",
       "    <tr>\n",
       "      <th>Santos</th>\n",
       "      <td>NaN</td>\n",
       "      <td>35</td>\n",
       "      <td>19</td>\n",
       "      <td>10</td>\n",
       "      <td>5</td>\n",
       "      <td>4</td>\n",
       "      <td>22</td>\n",
       "      <td>13</td>\n",
       "      <td>9</td>\n",
       "    </tr>\n",
       "    <tr>\n",
       "      <th>Palmeiras</th>\n",
       "      <td>NaN</td>\n",
       "      <td>32</td>\n",
       "      <td>19</td>\n",
       "      <td>10</td>\n",
       "      <td>2</td>\n",
       "      <td>7</td>\n",
       "      <td>28</td>\n",
       "      <td>20</td>\n",
       "      <td>8</td>\n",
       "    </tr>\n",
       "  </tbody>\n",
       "</table>\n",
       "</div>"
      ],
      "text/plain": [
       "          subiu_desceu   P   J   V  E  D  GP  GC  SG\n",
       "TIMES                                               \n",
       "Grêmio             NaN  39  19  12  3  4  35  18  17\n",
       "Santos             NaN  35  19  10  5  4  22  13   9\n",
       "Palmeiras          NaN  32  19  10  2  7  28  20   8"
      ]
     },
     "execution_count": 56,
     "metadata": {},
     "output_type": "execute_result"
    }
   ],
   "source": [
    "# usando .iloc\n",
    "df.iloc[1:4,]"
   ]
  },
  {
   "cell_type": "markdown",
   "metadata": {},
   "source": [
    "#### checando metadados do dataframe:\n",
    "* .info() : tipos e quantidades em cada coluna\n",
    "* .shape  : formato"
   ]
  },
  {
   "cell_type": "code",
   "execution_count": 58,
   "metadata": {
    "collapsed": false
   },
   "outputs": [
    {
     "data": {
      "text/plain": [
       "(20, 9)"
      ]
     },
     "execution_count": 58,
     "metadata": {},
     "output_type": "execute_result"
    }
   ],
   "source": [
    "df.shape"
   ]
  },
  {
   "cell_type": "code",
   "execution_count": 57,
   "metadata": {
    "collapsed": false
   },
   "outputs": [
    {
     "name": "stdout",
     "output_type": "stream",
     "text": [
      "<class 'pandas.core.frame.DataFrame'>\n",
      "Index: 20 entries, Corinthians to Atlético-GO\n",
      "Data columns (total 9 columns):\n",
      "subiu_desceu    11 non-null object\n",
      "P               20 non-null int64\n",
      "J               20 non-null int64\n",
      "V               20 non-null int64\n",
      "E               20 non-null int64\n",
      "D               20 non-null int64\n",
      "GP              20 non-null int64\n",
      "GC              20 non-null int64\n",
      "SG              20 non-null int64\n",
      "dtypes: int64(8), object(1)\n",
      "memory usage: 2.2+ KB\n"
     ]
    }
   ],
   "source": [
    "df.info()"
   ]
  },
  {
   "cell_type": "code",
   "execution_count": 65,
   "metadata": {
    "collapsed": false
   },
   "outputs": [
    {
     "name": "stdout",
     "output_type": "stream",
     "text": [
      "<class 'pandas.core.series.Series'>\n",
      "int64\n"
     ]
    }
   ],
   "source": [
    "# diferença entre type() e .dtype\n",
    "print(type(df.P))\n",
    "print(df.P.dtype)"
   ]
  },
  {
   "cell_type": "markdown",
   "metadata": {},
   "source": [
    "#### operações sobre as colunas"
   ]
  },
  {
   "cell_type": "code",
   "execution_count": 69,
   "metadata": {
    "collapsed": false
   },
   "outputs": [
    {
     "data": {
      "text/plain": [
       "TIMES\n",
       "Corinthians      19\n",
       "Grêmio           19\n",
       "Santos           19\n",
       "Palmeiras        19\n",
       "Flamengo         19\n",
       "Sport            19\n",
       "Cruzeiro         19\n",
       "Atlético-PR      19\n",
       "Fluminense       19\n",
       "Coritiba         19\n",
       "Botafogo         19\n",
       "Vasco da Gama    19\n",
       "Bahia            19\n",
       "Ponte Preta      19\n",
       "Atlético-MG      19\n",
       "Chapecoense      19\n",
       "São Paulo        19\n",
       "Vitória          19\n",
       "Avaí             19\n",
       "Atlético-GO      19\n",
       "dtype: int64"
      ]
     },
     "execution_count": 69,
     "metadata": {},
     "output_type": "execute_result"
    }
   ],
   "source": [
    "# o + sobre colunas soma termo a termo\n",
    "df.V + df.E + df.D"
   ]
  },
  {
   "cell_type": "code",
   "execution_count": 71,
   "metadata": {
    "collapsed": false
   },
   "outputs": [
    {
     "data": {
      "text/plain": [
       "P     522\n",
       "J     380\n",
       "V     142\n",
       "E      96\n",
       "D     142\n",
       "GP    464\n",
       "GC    464\n",
       "SG      0\n",
       "dtype: int64"
      ]
     },
     "execution_count": 71,
     "metadata": {},
     "output_type": "execute_result"
    }
   ],
   "source": [
    "df.sum()"
   ]
  },
  {
   "cell_type": "code",
   "execution_count": 72,
   "metadata": {
    "collapsed": false
   },
   "outputs": [
    {
     "data": {
      "text/plain": [
       "TIMES\n",
       "Corinthians      149\n",
       "Grêmio           147\n",
       "Santos           117\n",
       "Palmeiras        126\n",
       "Flamengo         121\n",
       "Sport            126\n",
       "Cruzeiro         107\n",
       "Atlético-PR      106\n",
       "Fluminense       122\n",
       "Coritiba         105\n",
       "Botafogo         105\n",
       "Vasco da Gama    104\n",
       "Bahia            109\n",
       "Ponte Preta      101\n",
       "Atlético-MG       99\n",
       "Chapecoense      108\n",
       "São Paulo        101\n",
       "Vitória           99\n",
       "Avaí              76\n",
       "Atlético-GO       82\n",
       "dtype: int64"
      ]
     },
     "execution_count": 72,
     "metadata": {},
     "output_type": "execute_result"
    }
   ],
   "source": [
    "df.sum(axis = 1)"
   ]
  },
  {
   "cell_type": "code",
   "execution_count": 73,
   "metadata": {
    "collapsed": false
   },
   "outputs": [
    {
     "data": {
      "text/plain": [
       "P     26.1\n",
       "J     19.0\n",
       "V      7.1\n",
       "E      4.8\n",
       "D      7.1\n",
       "GP    23.2\n",
       "GC    23.2\n",
       "SG     0.0\n",
       "dtype: float64"
      ]
     },
     "execution_count": 73,
     "metadata": {},
     "output_type": "execute_result"
    }
   ],
   "source": [
    "df.mean()"
   ]
  },
  {
   "cell_type": "code",
   "execution_count": 74,
   "metadata": {
    "collapsed": false
   },
   "outputs": [
    {
     "data": {
      "text/plain": [
       "TIMES\n",
       "Corinthians      18.625\n",
       "Grêmio           18.375\n",
       "Santos           14.625\n",
       "Palmeiras        15.750\n",
       "Flamengo         15.125\n",
       "Sport            15.750\n",
       "Cruzeiro         13.375\n",
       "Atlético-PR      13.250\n",
       "Fluminense       15.250\n",
       "Coritiba         13.125\n",
       "Botafogo         13.125\n",
       "Vasco da Gama    13.000\n",
       "Bahia            13.625\n",
       "Ponte Preta      12.625\n",
       "Atlético-MG      12.375\n",
       "Chapecoense      13.500\n",
       "São Paulo        12.625\n",
       "Vitória          12.375\n",
       "Avaí              9.500\n",
       "Atlético-GO      10.250\n",
       "dtype: float64"
      ]
     },
     "execution_count": 74,
     "metadata": {},
     "output_type": "execute_result"
    }
   ],
   "source": [
    "df.mean(axis = 1)"
   ]
  },
  {
   "cell_type": "markdown",
   "metadata": {},
   "source": [
    "#### Estatísticas"
   ]
  },
  {
   "cell_type": "code",
   "execution_count": 76,
   "metadata": {
    "collapsed": false
   },
   "outputs": [
    {
     "data": {
      "text/html": [
       "<div>\n",
       "<style>\n",
       "    .dataframe thead tr:only-child th {\n",
       "        text-align: right;\n",
       "    }\n",
       "\n",
       "    .dataframe thead th {\n",
       "        text-align: left;\n",
       "    }\n",
       "\n",
       "    .dataframe tbody tr th {\n",
       "        vertical-align: top;\n",
       "    }\n",
       "</style>\n",
       "<table border=\"1\" class=\"dataframe\">\n",
       "  <thead>\n",
       "    <tr style=\"text-align: right;\">\n",
       "      <th></th>\n",
       "      <th>P</th>\n",
       "      <th>J</th>\n",
       "      <th>V</th>\n",
       "      <th>E</th>\n",
       "      <th>D</th>\n",
       "      <th>GP</th>\n",
       "      <th>GC</th>\n",
       "      <th>SG</th>\n",
       "    </tr>\n",
       "  </thead>\n",
       "  <tbody>\n",
       "    <tr>\n",
       "      <th>count</th>\n",
       "      <td>20.000000</td>\n",
       "      <td>20.0</td>\n",
       "      <td>20.000000</td>\n",
       "      <td>20.000000</td>\n",
       "      <td>20.000000</td>\n",
       "      <td>20.000000</td>\n",
       "      <td>20.000000</td>\n",
       "      <td>20.000000</td>\n",
       "    </tr>\n",
       "    <tr>\n",
       "      <th>mean</th>\n",
       "      <td>26.100000</td>\n",
       "      <td>19.0</td>\n",
       "      <td>7.100000</td>\n",
       "      <td>4.800000</td>\n",
       "      <td>7.100000</td>\n",
       "      <td>23.200000</td>\n",
       "      <td>23.200000</td>\n",
       "      <td>0.000000</td>\n",
       "    </tr>\n",
       "    <tr>\n",
       "      <th>std</th>\n",
       "      <td>7.772421</td>\n",
       "      <td>0.0</td>\n",
       "      <td>2.633789</td>\n",
       "      <td>1.609184</td>\n",
       "      <td>2.826566</td>\n",
       "      <td>5.717931</td>\n",
       "      <td>6.354443</td>\n",
       "      <td>10.078638</td>\n",
       "    </tr>\n",
       "    <tr>\n",
       "      <th>min</th>\n",
       "      <td>12.000000</td>\n",
       "      <td>19.0</td>\n",
       "      <td>3.000000</td>\n",
       "      <td>2.000000</td>\n",
       "      <td>0.000000</td>\n",
       "      <td>10.000000</td>\n",
       "      <td>9.000000</td>\n",
       "      <td>-18.000000</td>\n",
       "    </tr>\n",
       "    <tr>\n",
       "      <th>25%</th>\n",
       "      <td>22.750000</td>\n",
       "      <td>19.0</td>\n",
       "      <td>6.000000</td>\n",
       "      <td>4.000000</td>\n",
       "      <td>5.750000</td>\n",
       "      <td>21.000000</td>\n",
       "      <td>19.750000</td>\n",
       "      <td>-5.250000</td>\n",
       "    </tr>\n",
       "    <tr>\n",
       "      <th>50%</th>\n",
       "      <td>25.000000</td>\n",
       "      <td>19.0</td>\n",
       "      <td>6.500000</td>\n",
       "      <td>5.000000</td>\n",
       "      <td>7.500000</td>\n",
       "      <td>21.500000</td>\n",
       "      <td>24.000000</td>\n",
       "      <td>-0.500000</td>\n",
       "    </tr>\n",
       "    <tr>\n",
       "      <th>75%</th>\n",
       "      <td>28.250000</td>\n",
       "      <td>19.0</td>\n",
       "      <td>7.250000</td>\n",
       "      <td>5.250000</td>\n",
       "      <td>9.000000</td>\n",
       "      <td>27.250000</td>\n",
       "      <td>26.250000</td>\n",
       "      <td>5.750000</td>\n",
       "    </tr>\n",
       "    <tr>\n",
       "      <th>max</th>\n",
       "      <td>47.000000</td>\n",
       "      <td>19.0</td>\n",
       "      <td>14.000000</td>\n",
       "      <td>8.000000</td>\n",
       "      <td>13.000000</td>\n",
       "      <td>35.000000</td>\n",
       "      <td>34.000000</td>\n",
       "      <td>23.000000</td>\n",
       "    </tr>\n",
       "  </tbody>\n",
       "</table>\n",
       "</div>"
      ],
      "text/plain": [
       "               P     J          V          E          D         GP         GC  \\\n",
       "count  20.000000  20.0  20.000000  20.000000  20.000000  20.000000  20.000000   \n",
       "mean   26.100000  19.0   7.100000   4.800000   7.100000  23.200000  23.200000   \n",
       "std     7.772421   0.0   2.633789   1.609184   2.826566   5.717931   6.354443   \n",
       "min    12.000000  19.0   3.000000   2.000000   0.000000  10.000000   9.000000   \n",
       "25%    22.750000  19.0   6.000000   4.000000   5.750000  21.000000  19.750000   \n",
       "50%    25.000000  19.0   6.500000   5.000000   7.500000  21.500000  24.000000   \n",
       "75%    28.250000  19.0   7.250000   5.250000   9.000000  27.250000  26.250000   \n",
       "max    47.000000  19.0  14.000000   8.000000  13.000000  35.000000  34.000000   \n",
       "\n",
       "              SG  \n",
       "count  20.000000  \n",
       "mean    0.000000  \n",
       "std    10.078638  \n",
       "min   -18.000000  \n",
       "25%    -5.250000  \n",
       "50%    -0.500000  \n",
       "75%     5.750000  \n",
       "max    23.000000  "
      ]
     },
     "execution_count": 76,
     "metadata": {},
     "output_type": "execute_result"
    }
   ],
   "source": [
    "df.describe()"
   ]
  },
  {
   "cell_type": "code",
   "execution_count": 78,
   "metadata": {
    "collapsed": false
   },
   "outputs": [
    {
     "data": {
      "text/plain": [
       "12    1\n",
       "18    1\n",
       "19    2\n",
       "22    1\n",
       "23    3\n",
       "24    1\n",
       "25    2\n",
       "26    2\n",
       "27    1\n",
       "28    1\n",
       "29    1\n",
       "32    1\n",
       "35    1\n",
       "39    1\n",
       "47    1\n",
       "Name: P, dtype: int64"
      ]
     },
     "execution_count": 78,
     "metadata": {},
     "output_type": "execute_result"
    }
   ],
   "source": [
    "df.P.value_counts().sort_index()"
   ]
  },
  {
   "cell_type": "code",
   "execution_count": 80,
   "metadata": {
    "collapsed": false
   },
   "outputs": [
    {
     "data": {
      "text/plain": [
       "<matplotlib.axes._subplots.AxesSubplot at 0x1091ebe10>"
      ]
     },
     "execution_count": 80,
     "metadata": {},
     "output_type": "execute_result"
    },
    {
     "data": {
      "image/png": "[encoded data removed]",
      "text/plain": [
       "<matplotlib.figure.Figure at 0x1091f3c18>"
      ]
     },
     "metadata": {},
     "output_type": "display_data"
    }
   ],
   "source": [
    "df.P.plot(kind = 'hist', bins = 20)"
   ]
  },
  {
   "cell_type": "code",
   "execution_count": 82,
   "metadata": {
    "collapsed": false
   },
   "outputs": [
    {
     "data": {
      "text/plain": [
       "<matplotlib.axes._subplots.AxesSubplot at 0x109643b38>"
      ]
     },
     "execution_count": 82,
     "metadata": {},
     "output_type": "execute_result"
    },
    {
     "data": {
      "image/png": "[encoded data removed]",
      "text/plain": [
       "<matplotlib.figure.Figure at 0x1096645f8>"
      ]
     },
     "metadata": {},
     "output_type": "display_data"
    }
   ],
   "source": [
    "df.P.value_counts().sort_index().plot(kind = 'bar')"
   ]
  },
  {
   "cell_type": "markdown",
   "metadata": {},
   "source": [
    "#### broadcast"
   ]
  },
  {
   "cell_type": "code",
   "execution_count": 83,
   "metadata": {
    "collapsed": false
   },
   "outputs": [
    {
     "data": {
      "text/plain": [
       "TIMES\n",
       "Corinthians      52\n",
       "Grêmio           44\n",
       "Santos           40\n",
       "Palmeiras        37\n",
       "Flamengo         34\n",
       "Sport            33\n",
       "Cruzeiro         32\n",
       "Atlético-PR      31\n",
       "Fluminense       31\n",
       "Coritiba         30\n",
       "Botafogo         30\n",
       "Vasco da Gama    29\n",
       "Bahia            28\n",
       "Ponte Preta      28\n",
       "Atlético-MG      28\n",
       "Chapecoense      27\n",
       "São Paulo        24\n",
       "Vitória          24\n",
       "Avaí             23\n",
       "Atlético-GO      17\n",
       "Name: P, dtype: int64"
      ]
     },
     "execution_count": 83,
     "metadata": {},
     "output_type": "execute_result"
    }
   ],
   "source": [
    "df.P + 5"
   ]
  },
  {
   "cell_type": "code",
   "execution_count": 104,
   "metadata": {
    "collapsed": false
   },
   "outputs": [],
   "source": [
    "# df[['V', 'E', 'D']].apply(lambda x: x + range(20))"
   ]
  },
  {
   "cell_type": "markdown",
   "metadata": {},
   "source": [
    "#### criando colunas novas"
   ]
  },
  {
   "cell_type": "code",
   "execution_count": 115,
   "metadata": {
    "collapsed": true
   },
   "outputs": [],
   "source": [
    "df['time_pontos'] = [t + str(p) for t, p in zip(df.index, df.P)]"
   ]
  },
  {
   "cell_type": "code",
   "execution_count": 116,
   "metadata": {
    "collapsed": false
   },
   "outputs": [
    {
     "data": {
      "text/html": [
       "<div>\n",
       "<style>\n",
       "    .dataframe thead tr:only-child th {\n",
       "        text-align: right;\n",
       "    }\n",
       "\n",
       "    .dataframe thead th {\n",
       "        text-align: left;\n",
       "    }\n",
       "\n",
       "    .dataframe tbody tr th {\n",
       "        vertical-align: top;\n",
       "    }\n",
       "</style>\n",
       "<table border=\"1\" class=\"dataframe\">\n",
       "  <thead>\n",
       "    <tr style=\"text-align: right;\">\n",
       "      <th></th>\n",
       "      <th>subiu_desceu</th>\n",
       "      <th>P</th>\n",
       "      <th>J</th>\n",
       "      <th>V</th>\n",
       "      <th>E</th>\n",
       "      <th>D</th>\n",
       "      <th>GP</th>\n",
       "      <th>GC</th>\n",
       "      <th>SG</th>\n",
       "      <th>time_pontos</th>\n",
       "    </tr>\n",
       "    <tr>\n",
       "      <th>TIMES</th>\n",
       "      <th></th>\n",
       "      <th></th>\n",
       "      <th></th>\n",
       "      <th></th>\n",
       "      <th></th>\n",
       "      <th></th>\n",
       "      <th></th>\n",
       "      <th></th>\n",
       "      <th></th>\n",
       "      <th></th>\n",
       "    </tr>\n",
       "  </thead>\n",
       "  <tbody>\n",
       "    <tr>\n",
       "      <th>Corinthians</th>\n",
       "      <td>NaN</td>\n",
       "      <td>47</td>\n",
       "      <td>19</td>\n",
       "      <td>14</td>\n",
       "      <td>5</td>\n",
       "      <td>0</td>\n",
       "      <td>32</td>\n",
       "      <td>9</td>\n",
       "      <td>23</td>\n",
       "      <td>Corinthians47</td>\n",
       "    </tr>\n",
       "    <tr>\n",
       "      <th>Grêmio</th>\n",
       "      <td>NaN</td>\n",
       "      <td>39</td>\n",
       "      <td>19</td>\n",
       "      <td>12</td>\n",
       "      <td>3</td>\n",
       "      <td>4</td>\n",
       "      <td>35</td>\n",
       "      <td>18</td>\n",
       "      <td>17</td>\n",
       "      <td>Grêmio39</td>\n",
       "    </tr>\n",
       "    <tr>\n",
       "      <th>Santos</th>\n",
       "      <td>NaN</td>\n",
       "      <td>35</td>\n",
       "      <td>19</td>\n",
       "      <td>10</td>\n",
       "      <td>5</td>\n",
       "      <td>4</td>\n",
       "      <td>22</td>\n",
       "      <td>13</td>\n",
       "      <td>9</td>\n",
       "      <td>Santos35</td>\n",
       "    </tr>\n",
       "    <tr>\n",
       "      <th>Palmeiras</th>\n",
       "      <td>NaN</td>\n",
       "      <td>32</td>\n",
       "      <td>19</td>\n",
       "      <td>10</td>\n",
       "      <td>2</td>\n",
       "      <td>7</td>\n",
       "      <td>28</td>\n",
       "      <td>20</td>\n",
       "      <td>8</td>\n",
       "      <td>Palmeiras32</td>\n",
       "    </tr>\n",
       "    <tr>\n",
       "      <th>Flamengo</th>\n",
       "      <td>NaN</td>\n",
       "      <td>29</td>\n",
       "      <td>19</td>\n",
       "      <td>7</td>\n",
       "      <td>8</td>\n",
       "      <td>4</td>\n",
       "      <td>27</td>\n",
       "      <td>19</td>\n",
       "      <td>8</td>\n",
       "      <td>Flamengo29</td>\n",
       "    </tr>\n",
       "    <tr>\n",
       "      <th>Sport</th>\n",
       "      <td>NaN</td>\n",
       "      <td>28</td>\n",
       "      <td>19</td>\n",
       "      <td>8</td>\n",
       "      <td>4</td>\n",
       "      <td>7</td>\n",
       "      <td>30</td>\n",
       "      <td>26</td>\n",
       "      <td>4</td>\n",
       "      <td>Sport28</td>\n",
       "    </tr>\n",
       "    <tr>\n",
       "      <th>Cruzeiro</th>\n",
       "      <td>NaN</td>\n",
       "      <td>27</td>\n",
       "      <td>19</td>\n",
       "      <td>7</td>\n",
       "      <td>6</td>\n",
       "      <td>6</td>\n",
       "      <td>21</td>\n",
       "      <td>16</td>\n",
       "      <td>5</td>\n",
       "      <td>Cruzeiro27</td>\n",
       "    </tr>\n",
       "    <tr>\n",
       "      <th>Atlético-PR</th>\n",
       "      <td>Subiu2</td>\n",
       "      <td>26</td>\n",
       "      <td>19</td>\n",
       "      <td>7</td>\n",
       "      <td>5</td>\n",
       "      <td>7</td>\n",
       "      <td>21</td>\n",
       "      <td>22</td>\n",
       "      <td>-1</td>\n",
       "      <td>Atlético-PR26</td>\n",
       "    </tr>\n",
       "    <tr>\n",
       "      <th>Fluminense</th>\n",
       "      <td>Subiu5</td>\n",
       "      <td>26</td>\n",
       "      <td>19</td>\n",
       "      <td>6</td>\n",
       "      <td>8</td>\n",
       "      <td>5</td>\n",
       "      <td>29</td>\n",
       "      <td>27</td>\n",
       "      <td>2</td>\n",
       "      <td>Fluminense26</td>\n",
       "    </tr>\n",
       "    <tr>\n",
       "      <th>Coritiba</th>\n",
       "      <td>Subiu2</td>\n",
       "      <td>25</td>\n",
       "      <td>19</td>\n",
       "      <td>7</td>\n",
       "      <td>4</td>\n",
       "      <td>8</td>\n",
       "      <td>21</td>\n",
       "      <td>25</td>\n",
       "      <td>-4</td>\n",
       "      <td>Coritiba25</td>\n",
       "    </tr>\n",
       "    <tr>\n",
       "      <th>Botafogo</th>\n",
       "      <td>Desceu3</td>\n",
       "      <td>25</td>\n",
       "      <td>19</td>\n",
       "      <td>6</td>\n",
       "      <td>7</td>\n",
       "      <td>6</td>\n",
       "      <td>21</td>\n",
       "      <td>20</td>\n",
       "      <td>1</td>\n",
       "      <td>Botafogo25</td>\n",
       "    </tr>\n",
       "    <tr>\n",
       "      <th>Vasco da Gama</th>\n",
       "      <td>Desceu3</td>\n",
       "      <td>24</td>\n",
       "      <td>19</td>\n",
       "      <td>7</td>\n",
       "      <td>3</td>\n",
       "      <td>9</td>\n",
       "      <td>21</td>\n",
       "      <td>30</td>\n",
       "      <td>-9</td>\n",
       "      <td>Vasco da Gama24</td>\n",
       "    </tr>\n",
       "    <tr>\n",
       "      <th>Bahia</th>\n",
       "      <td>Subiu3</td>\n",
       "      <td>23</td>\n",
       "      <td>19</td>\n",
       "      <td>6</td>\n",
       "      <td>5</td>\n",
       "      <td>8</td>\n",
       "      <td>24</td>\n",
       "      <td>24</td>\n",
       "      <td>0</td>\n",
       "      <td>Bahia23</td>\n",
       "    </tr>\n",
       "    <tr>\n",
       "      <th>Ponte Preta</th>\n",
       "      <td>Subiu1</td>\n",
       "      <td>23</td>\n",
       "      <td>19</td>\n",
       "      <td>6</td>\n",
       "      <td>5</td>\n",
       "      <td>8</td>\n",
       "      <td>20</td>\n",
       "      <td>24</td>\n",
       "      <td>-4</td>\n",
       "      <td>Ponte Preta23</td>\n",
       "    </tr>\n",
       "    <tr>\n",
       "      <th>Atlético-MG</th>\n",
       "      <td>Desceu4</td>\n",
       "      <td>23</td>\n",
       "      <td>19</td>\n",
       "      <td>6</td>\n",
       "      <td>5</td>\n",
       "      <td>8</td>\n",
       "      <td>19</td>\n",
       "      <td>23</td>\n",
       "      <td>-4</td>\n",
       "      <td>Atlético-MG23</td>\n",
       "    </tr>\n",
       "    <tr>\n",
       "      <th>Chapecoense</th>\n",
       "      <td>Desceu3</td>\n",
       "      <td>22</td>\n",
       "      <td>19</td>\n",
       "      <td>6</td>\n",
       "      <td>4</td>\n",
       "      <td>9</td>\n",
       "      <td>24</td>\n",
       "      <td>33</td>\n",
       "      <td>-9</td>\n",
       "      <td>Chapecoense22</td>\n",
       "    </tr>\n",
       "    <tr>\n",
       "      <th>São Paulo</th>\n",
       "      <td>NaN</td>\n",
       "      <td>19</td>\n",
       "      <td>19</td>\n",
       "      <td>5</td>\n",
       "      <td>4</td>\n",
       "      <td>10</td>\n",
       "      <td>22</td>\n",
       "      <td>26</td>\n",
       "      <td>-4</td>\n",
       "      <td>São Paulo19</td>\n",
       "    </tr>\n",
       "    <tr>\n",
       "      <th>Vitória</th>\n",
       "      <td>Subiu1</td>\n",
       "      <td>19</td>\n",
       "      <td>19</td>\n",
       "      <td>5</td>\n",
       "      <td>4</td>\n",
       "      <td>10</td>\n",
       "      <td>21</td>\n",
       "      <td>30</td>\n",
       "      <td>-9</td>\n",
       "      <td>Vitória19</td>\n",
       "    </tr>\n",
       "    <tr>\n",
       "      <th>Avaí</th>\n",
       "      <td>Desceu1</td>\n",
       "      <td>18</td>\n",
       "      <td>19</td>\n",
       "      <td>4</td>\n",
       "      <td>6</td>\n",
       "      <td>9</td>\n",
       "      <td>10</td>\n",
       "      <td>25</td>\n",
       "      <td>-15</td>\n",
       "      <td>Avaí18</td>\n",
       "    </tr>\n",
       "    <tr>\n",
       "      <th>Atlético-GO</th>\n",
       "      <td>NaN</td>\n",
       "      <td>12</td>\n",
       "      <td>19</td>\n",
       "      <td>3</td>\n",
       "      <td>3</td>\n",
       "      <td>13</td>\n",
       "      <td>16</td>\n",
       "      <td>34</td>\n",
       "      <td>-18</td>\n",
       "      <td>Atlético-GO12</td>\n",
       "    </tr>\n",
       "  </tbody>\n",
       "</table>\n",
       "</div>"
      ],
      "text/plain": [
       "              subiu_desceu   P   J   V  E   D  GP  GC  SG      time_pontos\n",
       "TIMES                                                                     \n",
       "Corinthians            NaN  47  19  14  5   0  32   9  23    Corinthians47\n",
       "Grêmio                 NaN  39  19  12  3   4  35  18  17         Grêmio39\n",
       "Santos                 NaN  35  19  10  5   4  22  13   9         Santos35\n",
       "Palmeiras              NaN  32  19  10  2   7  28  20   8      Palmeiras32\n",
       "Flamengo               NaN  29  19   7  8   4  27  19   8       Flamengo29\n",
       "Sport                  NaN  28  19   8  4   7  30  26   4          Sport28\n",
       "Cruzeiro               NaN  27  19   7  6   6  21  16   5       Cruzeiro27\n",
       "Atlético-PR         Subiu2  26  19   7  5   7  21  22  -1    Atlético-PR26\n",
       "Fluminense          Subiu5  26  19   6  8   5  29  27   2     Fluminense26\n",
       "Coritiba            Subiu2  25  19   7  4   8  21  25  -4       Coritiba25\n",
       "Botafogo           Desceu3  25  19   6  7   6  21  20   1       Botafogo25\n",
       "Vasco da Gama      Desceu3  24  19   7  3   9  21  30  -9  Vasco da Gama24\n",
       "Bahia               Subiu3  23  19   6  5   8  24  24   0          Bahia23\n",
       "Ponte Preta         Subiu1  23  19   6  5   8  20  24  -4    Ponte Preta23\n",
       "Atlético-MG        Desceu4  23  19   6  5   8  19  23  -4    Atlético-MG23\n",
       "Chapecoense        Desceu3  22  19   6  4   9  24  33  -9    Chapecoense22\n",
       "São Paulo              NaN  19  19   5  4  10  22  26  -4      São Paulo19\n",
       "Vitória             Subiu1  19  19   5  4  10  21  30  -9        Vitória19\n",
       "Avaí               Desceu1  18  19   4  6   9  10  25 -15           Avaí18\n",
       "Atlético-GO            NaN  12  19   3  3  13  16  34 -18    Atlético-GO12"
      ]
     },
     "execution_count": 116,
     "metadata": {},
     "output_type": "execute_result"
    }
   ],
   "source": [
    "df"
   ]
  },
  {
   "cell_type": "markdown",
   "metadata": {},
   "source": [
    "#### redefinindo o indice"
   ]
  },
  {
   "cell_type": "code",
   "execution_count": 117,
   "metadata": {
    "collapsed": false
   },
   "outputs": [
    {
     "data": {
      "text/html": [
       "<div>\n",
       "<style>\n",
       "    .dataframe thead tr:only-child th {\n",
       "        text-align: right;\n",
       "    }\n",
       "\n",
       "    .dataframe thead th {\n",
       "        text-align: left;\n",
       "    }\n",
       "\n",
       "    .dataframe tbody tr th {\n",
       "        vertical-align: top;\n",
       "    }\n",
       "</style>\n",
       "<table border=\"1\" class=\"dataframe\">\n",
       "  <thead>\n",
       "    <tr style=\"text-align: right;\">\n",
       "      <th></th>\n",
       "      <th>TIMES</th>\n",
       "      <th>subiu_desceu</th>\n",
       "      <th>P</th>\n",
       "      <th>J</th>\n",
       "      <th>V</th>\n",
       "      <th>E</th>\n",
       "      <th>D</th>\n",
       "      <th>GP</th>\n",
       "      <th>GC</th>\n",
       "      <th>SG</th>\n",
       "      <th>time_pontos</th>\n",
       "    </tr>\n",
       "  </thead>\n",
       "  <tbody>\n",
       "    <tr>\n",
       "      <th>0</th>\n",
       "      <td>Corinthians</td>\n",
       "      <td>NaN</td>\n",
       "      <td>47</td>\n",
       "      <td>19</td>\n",
       "      <td>14</td>\n",
       "      <td>5</td>\n",
       "      <td>0</td>\n",
       "      <td>32</td>\n",
       "      <td>9</td>\n",
       "      <td>23</td>\n",
       "      <td>Corinthians47</td>\n",
       "    </tr>\n",
       "    <tr>\n",
       "      <th>1</th>\n",
       "      <td>Grêmio</td>\n",
       "      <td>NaN</td>\n",
       "      <td>39</td>\n",
       "      <td>19</td>\n",
       "      <td>12</td>\n",
       "      <td>3</td>\n",
       "      <td>4</td>\n",
       "      <td>35</td>\n",
       "      <td>18</td>\n",
       "      <td>17</td>\n",
       "      <td>Grêmio39</td>\n",
       "    </tr>\n",
       "    <tr>\n",
       "      <th>2</th>\n",
       "      <td>Santos</td>\n",
       "      <td>NaN</td>\n",
       "      <td>35</td>\n",
       "      <td>19</td>\n",
       "      <td>10</td>\n",
       "      <td>5</td>\n",
       "      <td>4</td>\n",
       "      <td>22</td>\n",
       "      <td>13</td>\n",
       "      <td>9</td>\n",
       "      <td>Santos35</td>\n",
       "    </tr>\n",
       "    <tr>\n",
       "      <th>3</th>\n",
       "      <td>Palmeiras</td>\n",
       "      <td>NaN</td>\n",
       "      <td>32</td>\n",
       "      <td>19</td>\n",
       "      <td>10</td>\n",
       "      <td>2</td>\n",
       "      <td>7</td>\n",
       "      <td>28</td>\n",
       "      <td>20</td>\n",
       "      <td>8</td>\n",
       "      <td>Palmeiras32</td>\n",
       "    </tr>\n",
       "    <tr>\n",
       "      <th>4</th>\n",
       "      <td>Flamengo</td>\n",
       "      <td>NaN</td>\n",
       "      <td>29</td>\n",
       "      <td>19</td>\n",
       "      <td>7</td>\n",
       "      <td>8</td>\n",
       "      <td>4</td>\n",
       "      <td>27</td>\n",
       "      <td>19</td>\n",
       "      <td>8</td>\n",
       "      <td>Flamengo29</td>\n",
       "    </tr>\n",
       "    <tr>\n",
       "      <th>5</th>\n",
       "      <td>Sport</td>\n",
       "      <td>NaN</td>\n",
       "      <td>28</td>\n",
       "      <td>19</td>\n",
       "      <td>8</td>\n",
       "      <td>4</td>\n",
       "      <td>7</td>\n",
       "      <td>30</td>\n",
       "      <td>26</td>\n",
       "      <td>4</td>\n",
       "      <td>Sport28</td>\n",
       "    </tr>\n",
       "    <tr>\n",
       "      <th>6</th>\n",
       "      <td>Cruzeiro</td>\n",
       "      <td>NaN</td>\n",
       "      <td>27</td>\n",
       "      <td>19</td>\n",
       "      <td>7</td>\n",
       "      <td>6</td>\n",
       "      <td>6</td>\n",
       "      <td>21</td>\n",
       "      <td>16</td>\n",
       "      <td>5</td>\n",
       "      <td>Cruzeiro27</td>\n",
       "    </tr>\n",
       "    <tr>\n",
       "      <th>7</th>\n",
       "      <td>Atlético-PR</td>\n",
       "      <td>Subiu2</td>\n",
       "      <td>26</td>\n",
       "      <td>19</td>\n",
       "      <td>7</td>\n",
       "      <td>5</td>\n",
       "      <td>7</td>\n",
       "      <td>21</td>\n",
       "      <td>22</td>\n",
       "      <td>-1</td>\n",
       "      <td>Atlético-PR26</td>\n",
       "    </tr>\n",
       "    <tr>\n",
       "      <th>8</th>\n",
       "      <td>Fluminense</td>\n",
       "      <td>Subiu5</td>\n",
       "      <td>26</td>\n",
       "      <td>19</td>\n",
       "      <td>6</td>\n",
       "      <td>8</td>\n",
       "      <td>5</td>\n",
       "      <td>29</td>\n",
       "      <td>27</td>\n",
       "      <td>2</td>\n",
       "      <td>Fluminense26</td>\n",
       "    </tr>\n",
       "    <tr>\n",
       "      <th>9</th>\n",
       "      <td>Coritiba</td>\n",
       "      <td>Subiu2</td>\n",
       "      <td>25</td>\n",
       "      <td>19</td>\n",
       "      <td>7</td>\n",
       "      <td>4</td>\n",
       "      <td>8</td>\n",
       "      <td>21</td>\n",
       "      <td>25</td>\n",
       "      <td>-4</td>\n",
       "      <td>Coritiba25</td>\n",
       "    </tr>\n",
       "    <tr>\n",
       "      <th>10</th>\n",
       "      <td>Botafogo</td>\n",
       "      <td>Desceu3</td>\n",
       "      <td>25</td>\n",
       "      <td>19</td>\n",
       "      <td>6</td>\n",
       "      <td>7</td>\n",
       "      <td>6</td>\n",
       "      <td>21</td>\n",
       "      <td>20</td>\n",
       "      <td>1</td>\n",
       "      <td>Botafogo25</td>\n",
       "    </tr>\n",
       "    <tr>\n",
       "      <th>11</th>\n",
       "      <td>Vasco da Gama</td>\n",
       "      <td>Desceu3</td>\n",
       "      <td>24</td>\n",
       "      <td>19</td>\n",
       "      <td>7</td>\n",
       "      <td>3</td>\n",
       "      <td>9</td>\n",
       "      <td>21</td>\n",
       "      <td>30</td>\n",
       "      <td>-9</td>\n",
       "      <td>Vasco da Gama24</td>\n",
       "    </tr>\n",
       "    <tr>\n",
       "      <th>12</th>\n",
       "      <td>Bahia</td>\n",
       "      <td>Subiu3</td>\n",
       "      <td>23</td>\n",
       "      <td>19</td>\n",
       "      <td>6</td>\n",
       "      <td>5</td>\n",
       "      <td>8</td>\n",
       "      <td>24</td>\n",
       "      <td>24</td>\n",
       "      <td>0</td>\n",
       "      <td>Bahia23</td>\n",
       "    </tr>\n",
       "    <tr>\n",
       "      <th>13</th>\n",
       "      <td>Ponte Preta</td>\n",
       "      <td>Subiu1</td>\n",
       "      <td>23</td>\n",
       "      <td>19</td>\n",
       "      <td>6</td>\n",
       "      <td>5</td>\n",
       "      <td>8</td>\n",
       "      <td>20</td>\n",
       "      <td>24</td>\n",
       "      <td>-4</td>\n",
       "      <td>Ponte Preta23</td>\n",
       "    </tr>\n",
       "    <tr>\n",
       "      <th>14</th>\n",
       "      <td>Atlético-MG</td>\n",
       "      <td>Desceu4</td>\n",
       "      <td>23</td>\n",
       "      <td>19</td>\n",
       "      <td>6</td>\n",
       "      <td>5</td>\n",
       "      <td>8</td>\n",
       "      <td>19</td>\n",
       "      <td>23</td>\n",
       "      <td>-4</td>\n",
       "      <td>Atlético-MG23</td>\n",
       "    </tr>\n",
       "    <tr>\n",
       "      <th>15</th>\n",
       "      <td>Chapecoense</td>\n",
       "      <td>Desceu3</td>\n",
       "      <td>22</td>\n",
       "      <td>19</td>\n",
       "      <td>6</td>\n",
       "      <td>4</td>\n",
       "      <td>9</td>\n",
       "      <td>24</td>\n",
       "      <td>33</td>\n",
       "      <td>-9</td>\n",
       "      <td>Chapecoense22</td>\n",
       "    </tr>\n",
       "    <tr>\n",
       "      <th>16</th>\n",
       "      <td>São Paulo</td>\n",
       "      <td>NaN</td>\n",
       "      <td>19</td>\n",
       "      <td>19</td>\n",
       "      <td>5</td>\n",
       "      <td>4</td>\n",
       "      <td>10</td>\n",
       "      <td>22</td>\n",
       "      <td>26</td>\n",
       "      <td>-4</td>\n",
       "      <td>São Paulo19</td>\n",
       "    </tr>\n",
       "    <tr>\n",
       "      <th>17</th>\n",
       "      <td>Vitória</td>\n",
       "      <td>Subiu1</td>\n",
       "      <td>19</td>\n",
       "      <td>19</td>\n",
       "      <td>5</td>\n",
       "      <td>4</td>\n",
       "      <td>10</td>\n",
       "      <td>21</td>\n",
       "      <td>30</td>\n",
       "      <td>-9</td>\n",
       "      <td>Vitória19</td>\n",
       "    </tr>\n",
       "    <tr>\n",
       "      <th>18</th>\n",
       "      <td>Avaí</td>\n",
       "      <td>Desceu1</td>\n",
       "      <td>18</td>\n",
       "      <td>19</td>\n",
       "      <td>4</td>\n",
       "      <td>6</td>\n",
       "      <td>9</td>\n",
       "      <td>10</td>\n",
       "      <td>25</td>\n",
       "      <td>-15</td>\n",
       "      <td>Avaí18</td>\n",
       "    </tr>\n",
       "    <tr>\n",
       "      <th>19</th>\n",
       "      <td>Atlético-GO</td>\n",
       "      <td>NaN</td>\n",
       "      <td>12</td>\n",
       "      <td>19</td>\n",
       "      <td>3</td>\n",
       "      <td>3</td>\n",
       "      <td>13</td>\n",
       "      <td>16</td>\n",
       "      <td>34</td>\n",
       "      <td>-18</td>\n",
       "      <td>Atlético-GO12</td>\n",
       "    </tr>\n",
       "  </tbody>\n",
       "</table>\n",
       "</div>"
      ],
      "text/plain": [
       "            TIMES subiu_desceu   P   J   V  E   D  GP  GC  SG      time_pontos\n",
       "0     Corinthians          NaN  47  19  14  5   0  32   9  23    Corinthians47\n",
       "1          Grêmio          NaN  39  19  12  3   4  35  18  17         Grêmio39\n",
       "2          Santos          NaN  35  19  10  5   4  22  13   9         Santos35\n",
       "3       Palmeiras          NaN  32  19  10  2   7  28  20   8      Palmeiras32\n",
       "4        Flamengo          NaN  29  19   7  8   4  27  19   8       Flamengo29\n",
       "5           Sport          NaN  28  19   8  4   7  30  26   4          Sport28\n",
       "6        Cruzeiro          NaN  27  19   7  6   6  21  16   5       Cruzeiro27\n",
       "7     Atlético-PR       Subiu2  26  19   7  5   7  21  22  -1    Atlético-PR26\n",
       "8      Fluminense       Subiu5  26  19   6  8   5  29  27   2     Fluminense26\n",
       "9        Coritiba       Subiu2  25  19   7  4   8  21  25  -4       Coritiba25\n",
       "10       Botafogo      Desceu3  25  19   6  7   6  21  20   1       Botafogo25\n",
       "11  Vasco da Gama      Desceu3  24  19   7  3   9  21  30  -9  Vasco da Gama24\n",
       "12          Bahia       Subiu3  23  19   6  5   8  24  24   0          Bahia23\n",
       "13    Ponte Preta       Subiu1  23  19   6  5   8  20  24  -4    Ponte Preta23\n",
       "14    Atlético-MG      Desceu4  23  19   6  5   8  19  23  -4    Atlético-MG23\n",
       "15    Chapecoense      Desceu3  22  19   6  4   9  24  33  -9    Chapecoense22\n",
       "16      São Paulo          NaN  19  19   5  4  10  22  26  -4      São Paulo19\n",
       "17        Vitória       Subiu1  19  19   5  4  10  21  30  -9        Vitória19\n",
       "18           Avaí      Desceu1  18  19   4  6   9  10  25 -15           Avaí18\n",
       "19    Atlético-GO          NaN  12  19   3  3  13  16  34 -18    Atlético-GO12"
      ]
     },
     "execution_count": 117,
     "metadata": {},
     "output_type": "execute_result"
    }
   ],
   "source": [
    "# resetando o indice\n",
    "df.reset_index()"
   ]
  },
  {
   "cell_type": "code",
   "execution_count": 118,
   "metadata": {
    "collapsed": false
   },
   "outputs": [
    {
     "data": {
      "text/html": [
       "<div>\n",
       "<style>\n",
       "    .dataframe thead tr:only-child th {\n",
       "        text-align: right;\n",
       "    }\n",
       "\n",
       "    .dataframe thead th {\n",
       "        text-align: left;\n",
       "    }\n",
       "\n",
       "    .dataframe tbody tr th {\n",
       "        vertical-align: top;\n",
       "    }\n",
       "</style>\n",
       "<table border=\"1\" class=\"dataframe\">\n",
       "  <thead>\n",
       "    <tr style=\"text-align: right;\">\n",
       "      <th></th>\n",
       "      <th>subiu_desceu</th>\n",
       "      <th>P</th>\n",
       "      <th>J</th>\n",
       "      <th>V</th>\n",
       "      <th>E</th>\n",
       "      <th>D</th>\n",
       "      <th>GP</th>\n",
       "      <th>GC</th>\n",
       "      <th>SG</th>\n",
       "    </tr>\n",
       "    <tr>\n",
       "      <th>time_pontos</th>\n",
       "      <th></th>\n",
       "      <th></th>\n",
       "      <th></th>\n",
       "      <th></th>\n",
       "      <th></th>\n",
       "      <th></th>\n",
       "      <th></th>\n",
       "      <th></th>\n",
       "      <th></th>\n",
       "    </tr>\n",
       "  </thead>\n",
       "  <tbody>\n",
       "    <tr>\n",
       "      <th>Corinthians47</th>\n",
       "      <td>NaN</td>\n",
       "      <td>47</td>\n",
       "      <td>19</td>\n",
       "      <td>14</td>\n",
       "      <td>5</td>\n",
       "      <td>0</td>\n",
       "      <td>32</td>\n",
       "      <td>9</td>\n",
       "      <td>23</td>\n",
       "    </tr>\n",
       "    <tr>\n",
       "      <th>Grêmio39</th>\n",
       "      <td>NaN</td>\n",
       "      <td>39</td>\n",
       "      <td>19</td>\n",
       "      <td>12</td>\n",
       "      <td>3</td>\n",
       "      <td>4</td>\n",
       "      <td>35</td>\n",
       "      <td>18</td>\n",
       "      <td>17</td>\n",
       "    </tr>\n",
       "    <tr>\n",
       "      <th>Santos35</th>\n",
       "      <td>NaN</td>\n",
       "      <td>35</td>\n",
       "      <td>19</td>\n",
       "      <td>10</td>\n",
       "      <td>5</td>\n",
       "      <td>4</td>\n",
       "      <td>22</td>\n",
       "      <td>13</td>\n",
       "      <td>9</td>\n",
       "    </tr>\n",
       "    <tr>\n",
       "      <th>Palmeiras32</th>\n",
       "      <td>NaN</td>\n",
       "      <td>32</td>\n",
       "      <td>19</td>\n",
       "      <td>10</td>\n",
       "      <td>2</td>\n",
       "      <td>7</td>\n",
       "      <td>28</td>\n",
       "      <td>20</td>\n",
       "      <td>8</td>\n",
       "    </tr>\n",
       "    <tr>\n",
       "      <th>Flamengo29</th>\n",
       "      <td>NaN</td>\n",
       "      <td>29</td>\n",
       "      <td>19</td>\n",
       "      <td>7</td>\n",
       "      <td>8</td>\n",
       "      <td>4</td>\n",
       "      <td>27</td>\n",
       "      <td>19</td>\n",
       "      <td>8</td>\n",
       "    </tr>\n",
       "    <tr>\n",
       "      <th>Sport28</th>\n",
       "      <td>NaN</td>\n",
       "      <td>28</td>\n",
       "      <td>19</td>\n",
       "      <td>8</td>\n",
       "      <td>4</td>\n",
       "      <td>7</td>\n",
       "      <td>30</td>\n",
       "      <td>26</td>\n",
       "      <td>4</td>\n",
       "    </tr>\n",
       "    <tr>\n",
       "      <th>Cruzeiro27</th>\n",
       "      <td>NaN</td>\n",
       "      <td>27</td>\n",
       "      <td>19</td>\n",
       "      <td>7</td>\n",
       "      <td>6</td>\n",
       "      <td>6</td>\n",
       "      <td>21</td>\n",
       "      <td>16</td>\n",
       "      <td>5</td>\n",
       "    </tr>\n",
       "    <tr>\n",
       "      <th>Atlético-PR26</th>\n",
       "      <td>Subiu2</td>\n",
       "      <td>26</td>\n",
       "      <td>19</td>\n",
       "      <td>7</td>\n",
       "      <td>5</td>\n",
       "      <td>7</td>\n",
       "      <td>21</td>\n",
       "      <td>22</td>\n",
       "      <td>-1</td>\n",
       "    </tr>\n",
       "    <tr>\n",
       "      <th>Fluminense26</th>\n",
       "      <td>Subiu5</td>\n",
       "      <td>26</td>\n",
       "      <td>19</td>\n",
       "      <td>6</td>\n",
       "      <td>8</td>\n",
       "      <td>5</td>\n",
       "      <td>29</td>\n",
       "      <td>27</td>\n",
       "      <td>2</td>\n",
       "    </tr>\n",
       "    <tr>\n",
       "      <th>Coritiba25</th>\n",
       "      <td>Subiu2</td>\n",
       "      <td>25</td>\n",
       "      <td>19</td>\n",
       "      <td>7</td>\n",
       "      <td>4</td>\n",
       "      <td>8</td>\n",
       "      <td>21</td>\n",
       "      <td>25</td>\n",
       "      <td>-4</td>\n",
       "    </tr>\n",
       "    <tr>\n",
       "      <th>Botafogo25</th>\n",
       "      <td>Desceu3</td>\n",
       "      <td>25</td>\n",
       "      <td>19</td>\n",
       "      <td>6</td>\n",
       "      <td>7</td>\n",
       "      <td>6</td>\n",
       "      <td>21</td>\n",
       "      <td>20</td>\n",
       "      <td>1</td>\n",
       "    </tr>\n",
       "    <tr>\n",
       "      <th>Vasco da Gama24</th>\n",
       "      <td>Desceu3</td>\n",
       "      <td>24</td>\n",
       "      <td>19</td>\n",
       "      <td>7</td>\n",
       "      <td>3</td>\n",
       "      <td>9</td>\n",
       "      <td>21</td>\n",
       "      <td>30</td>\n",
       "      <td>-9</td>\n",
       "    </tr>\n",
       "    <tr>\n",
       "      <th>Bahia23</th>\n",
       "      <td>Subiu3</td>\n",
       "      <td>23</td>\n",
       "      <td>19</td>\n",
       "      <td>6</td>\n",
       "      <td>5</td>\n",
       "      <td>8</td>\n",
       "      <td>24</td>\n",
       "      <td>24</td>\n",
       "      <td>0</td>\n",
       "    </tr>\n",
       "    <tr>\n",
       "      <th>Ponte Preta23</th>\n",
       "      <td>Subiu1</td>\n",
       "      <td>23</td>\n",
       "      <td>19</td>\n",
       "      <td>6</td>\n",
       "      <td>5</td>\n",
       "      <td>8</td>\n",
       "      <td>20</td>\n",
       "      <td>24</td>\n",
       "      <td>-4</td>\n",
       "    </tr>\n",
       "    <tr>\n",
       "      <th>Atlético-MG23</th>\n",
       "      <td>Desceu4</td>\n",
       "      <td>23</td>\n",
       "      <td>19</td>\n",
       "      <td>6</td>\n",
       "      <td>5</td>\n",
       "      <td>8</td>\n",
       "      <td>19</td>\n",
       "      <td>23</td>\n",
       "      <td>-4</td>\n",
       "    </tr>\n",
       "    <tr>\n",
       "      <th>Chapecoense22</th>\n",
       "      <td>Desceu3</td>\n",
       "      <td>22</td>\n",
       "      <td>19</td>\n",
       "      <td>6</td>\n",
       "      <td>4</td>\n",
       "      <td>9</td>\n",
       "      <td>24</td>\n",
       "      <td>33</td>\n",
       "      <td>-9</td>\n",
       "    </tr>\n",
       "    <tr>\n",
       "      <th>São Paulo19</th>\n",
       "      <td>NaN</td>\n",
       "      <td>19</td>\n",
       "      <td>19</td>\n",
       "      <td>5</td>\n",
       "      <td>4</td>\n",
       "      <td>10</td>\n",
       "      <td>22</td>\n",
       "      <td>26</td>\n",
       "      <td>-4</td>\n",
       "    </tr>\n",
       "    <tr>\n",
       "      <th>Vitória19</th>\n",
       "      <td>Subiu1</td>\n",
       "      <td>19</td>\n",
       "      <td>19</td>\n",
       "      <td>5</td>\n",
       "      <td>4</td>\n",
       "      <td>10</td>\n",
       "      <td>21</td>\n",
       "      <td>30</td>\n",
       "      <td>-9</td>\n",
       "    </tr>\n",
       "    <tr>\n",
       "      <th>Avaí18</th>\n",
       "      <td>Desceu1</td>\n",
       "      <td>18</td>\n",
       "      <td>19</td>\n",
       "      <td>4</td>\n",
       "      <td>6</td>\n",
       "      <td>9</td>\n",
       "      <td>10</td>\n",
       "      <td>25</td>\n",
       "      <td>-15</td>\n",
       "    </tr>\n",
       "    <tr>\n",
       "      <th>Atlético-GO12</th>\n",
       "      <td>NaN</td>\n",
       "      <td>12</td>\n",
       "      <td>19</td>\n",
       "      <td>3</td>\n",
       "      <td>3</td>\n",
       "      <td>13</td>\n",
       "      <td>16</td>\n",
       "      <td>34</td>\n",
       "      <td>-18</td>\n",
       "    </tr>\n",
       "  </tbody>\n",
       "</table>\n",
       "</div>"
      ],
      "text/plain": [
       "                subiu_desceu   P   J   V  E   D  GP  GC  SG\n",
       "time_pontos                                                \n",
       "Corinthians47            NaN  47  19  14  5   0  32   9  23\n",
       "Grêmio39                 NaN  39  19  12  3   4  35  18  17\n",
       "Santos35                 NaN  35  19  10  5   4  22  13   9\n",
       "Palmeiras32              NaN  32  19  10  2   7  28  20   8\n",
       "Flamengo29               NaN  29  19   7  8   4  27  19   8\n",
       "Sport28                  NaN  28  19   8  4   7  30  26   4\n",
       "Cruzeiro27               NaN  27  19   7  6   6  21  16   5\n",
       "Atlético-PR26         Subiu2  26  19   7  5   7  21  22  -1\n",
       "Fluminense26          Subiu5  26  19   6  8   5  29  27   2\n",
       "Coritiba25            Subiu2  25  19   7  4   8  21  25  -4\n",
       "Botafogo25           Desceu3  25  19   6  7   6  21  20   1\n",
       "Vasco da Gama24      Desceu3  24  19   7  3   9  21  30  -9\n",
       "Bahia23               Subiu3  23  19   6  5   8  24  24   0\n",
       "Ponte Preta23         Subiu1  23  19   6  5   8  20  24  -4\n",
       "Atlético-MG23        Desceu4  23  19   6  5   8  19  23  -4\n",
       "Chapecoense22        Desceu3  22  19   6  4   9  24  33  -9\n",
       "São Paulo19              NaN  19  19   5  4  10  22  26  -4\n",
       "Vitória19             Subiu1  19  19   5  4  10  21  30  -9\n",
       "Avaí18               Desceu1  18  19   4  6   9  10  25 -15\n",
       "Atlético-GO12            NaN  12  19   3  3  13  16  34 -18"
      ]
     },
     "execution_count": 118,
     "metadata": {},
     "output_type": "execute_result"
    }
   ],
   "source": [
    "# atribuindo um novo indice\n",
    "df.set_index('time_pontos')"
   ]
  },
  {
   "cell_type": "markdown",
   "metadata": {},
   "source": [
    "#### criando uma linha nova"
   ]
  },
  {
   "cell_type": "code",
   "execution_count": 119,
   "metadata": {
    "collapsed": true
   },
   "outputs": [],
   "source": [
    "indice = list(df.index) + ['TABAJARA']"
   ]
  },
  {
   "cell_type": "code",
   "execution_count": 124,
   "metadata": {
    "collapsed": false
   },
   "outputs": [],
   "source": [
    "df = df.reindex(indice)"
   ]
  },
  {
   "cell_type": "code",
   "execution_count": 125,
   "metadata": {
    "collapsed": false
   },
   "outputs": [
    {
     "data": {
      "text/html": [
       "<div>\n",
       "<style>\n",
       "    .dataframe thead tr:only-child th {\n",
       "        text-align: right;\n",
       "    }\n",
       "\n",
       "    .dataframe thead th {\n",
       "        text-align: left;\n",
       "    }\n",
       "\n",
       "    .dataframe tbody tr th {\n",
       "        vertical-align: top;\n",
       "    }\n",
       "</style>\n",
       "<table border=\"1\" class=\"dataframe\">\n",
       "  <thead>\n",
       "    <tr style=\"text-align: right;\">\n",
       "      <th></th>\n",
       "      <th>subiu_desceu</th>\n",
       "      <th>P</th>\n",
       "      <th>J</th>\n",
       "      <th>V</th>\n",
       "      <th>E</th>\n",
       "      <th>D</th>\n",
       "      <th>GP</th>\n",
       "      <th>GC</th>\n",
       "      <th>SG</th>\n",
       "      <th>time_pontos</th>\n",
       "    </tr>\n",
       "    <tr>\n",
       "      <th>TIMES</th>\n",
       "      <th></th>\n",
       "      <th></th>\n",
       "      <th></th>\n",
       "      <th></th>\n",
       "      <th></th>\n",
       "      <th></th>\n",
       "      <th></th>\n",
       "      <th></th>\n",
       "      <th></th>\n",
       "      <th></th>\n",
       "    </tr>\n",
       "  </thead>\n",
       "  <tbody>\n",
       "    <tr>\n",
       "      <th>Corinthians</th>\n",
       "      <td>NaN</td>\n",
       "      <td>47.0</td>\n",
       "      <td>19.0</td>\n",
       "      <td>14.0</td>\n",
       "      <td>5.0</td>\n",
       "      <td>0.0</td>\n",
       "      <td>32.0</td>\n",
       "      <td>9.0</td>\n",
       "      <td>23.0</td>\n",
       "      <td>Corinthians47</td>\n",
       "    </tr>\n",
       "    <tr>\n",
       "      <th>Grêmio</th>\n",
       "      <td>NaN</td>\n",
       "      <td>39.0</td>\n",
       "      <td>19.0</td>\n",
       "      <td>12.0</td>\n",
       "      <td>3.0</td>\n",
       "      <td>4.0</td>\n",
       "      <td>35.0</td>\n",
       "      <td>18.0</td>\n",
       "      <td>17.0</td>\n",
       "      <td>Grêmio39</td>\n",
       "    </tr>\n",
       "    <tr>\n",
       "      <th>Santos</th>\n",
       "      <td>NaN</td>\n",
       "      <td>35.0</td>\n",
       "      <td>19.0</td>\n",
       "      <td>10.0</td>\n",
       "      <td>5.0</td>\n",
       "      <td>4.0</td>\n",
       "      <td>22.0</td>\n",
       "      <td>13.0</td>\n",
       "      <td>9.0</td>\n",
       "      <td>Santos35</td>\n",
       "    </tr>\n",
       "    <tr>\n",
       "      <th>Palmeiras</th>\n",
       "      <td>NaN</td>\n",
       "      <td>32.0</td>\n",
       "      <td>19.0</td>\n",
       "      <td>10.0</td>\n",
       "      <td>2.0</td>\n",
       "      <td>7.0</td>\n",
       "      <td>28.0</td>\n",
       "      <td>20.0</td>\n",
       "      <td>8.0</td>\n",
       "      <td>Palmeiras32</td>\n",
       "    </tr>\n",
       "    <tr>\n",
       "      <th>Flamengo</th>\n",
       "      <td>NaN</td>\n",
       "      <td>29.0</td>\n",
       "      <td>19.0</td>\n",
       "      <td>7.0</td>\n",
       "      <td>8.0</td>\n",
       "      <td>4.0</td>\n",
       "      <td>27.0</td>\n",
       "      <td>19.0</td>\n",
       "      <td>8.0</td>\n",
       "      <td>Flamengo29</td>\n",
       "    </tr>\n",
       "    <tr>\n",
       "      <th>Sport</th>\n",
       "      <td>NaN</td>\n",
       "      <td>28.0</td>\n",
       "      <td>19.0</td>\n",
       "      <td>8.0</td>\n",
       "      <td>4.0</td>\n",
       "      <td>7.0</td>\n",
       "      <td>30.0</td>\n",
       "      <td>26.0</td>\n",
       "      <td>4.0</td>\n",
       "      <td>Sport28</td>\n",
       "    </tr>\n",
       "    <tr>\n",
       "      <th>Cruzeiro</th>\n",
       "      <td>NaN</td>\n",
       "      <td>27.0</td>\n",
       "      <td>19.0</td>\n",
       "      <td>7.0</td>\n",
       "      <td>6.0</td>\n",
       "      <td>6.0</td>\n",
       "      <td>21.0</td>\n",
       "      <td>16.0</td>\n",
       "      <td>5.0</td>\n",
       "      <td>Cruzeiro27</td>\n",
       "    </tr>\n",
       "    <tr>\n",
       "      <th>Atlético-PR</th>\n",
       "      <td>Subiu2</td>\n",
       "      <td>26.0</td>\n",
       "      <td>19.0</td>\n",
       "      <td>7.0</td>\n",
       "      <td>5.0</td>\n",
       "      <td>7.0</td>\n",
       "      <td>21.0</td>\n",
       "      <td>22.0</td>\n",
       "      <td>-1.0</td>\n",
       "      <td>Atlético-PR26</td>\n",
       "    </tr>\n",
       "    <tr>\n",
       "      <th>Fluminense</th>\n",
       "      <td>Subiu5</td>\n",
       "      <td>26.0</td>\n",
       "      <td>19.0</td>\n",
       "      <td>6.0</td>\n",
       "      <td>8.0</td>\n",
       "      <td>5.0</td>\n",
       "      <td>29.0</td>\n",
       "      <td>27.0</td>\n",
       "      <td>2.0</td>\n",
       "      <td>Fluminense26</td>\n",
       "    </tr>\n",
       "    <tr>\n",
       "      <th>Coritiba</th>\n",
       "      <td>Subiu2</td>\n",
       "      <td>25.0</td>\n",
       "      <td>19.0</td>\n",
       "      <td>7.0</td>\n",
       "      <td>4.0</td>\n",
       "      <td>8.0</td>\n",
       "      <td>21.0</td>\n",
       "      <td>25.0</td>\n",
       "      <td>-4.0</td>\n",
       "      <td>Coritiba25</td>\n",
       "    </tr>\n",
       "    <tr>\n",
       "      <th>Botafogo</th>\n",
       "      <td>Desceu3</td>\n",
       "      <td>25.0</td>\n",
       "      <td>19.0</td>\n",
       "      <td>6.0</td>\n",
       "      <td>7.0</td>\n",
       "      <td>6.0</td>\n",
       "      <td>21.0</td>\n",
       "      <td>20.0</td>\n",
       "      <td>1.0</td>\n",
       "      <td>Botafogo25</td>\n",
       "    </tr>\n",
       "    <tr>\n",
       "      <th>Vasco da Gama</th>\n",
       "      <td>Desceu3</td>\n",
       "      <td>24.0</td>\n",
       "      <td>19.0</td>\n",
       "      <td>7.0</td>\n",
       "      <td>3.0</td>\n",
       "      <td>9.0</td>\n",
       "      <td>21.0</td>\n",
       "      <td>30.0</td>\n",
       "      <td>-9.0</td>\n",
       "      <td>Vasco da Gama24</td>\n",
       "    </tr>\n",
       "    <tr>\n",
       "      <th>Bahia</th>\n",
       "      <td>Subiu3</td>\n",
       "      <td>23.0</td>\n",
       "      <td>19.0</td>\n",
       "      <td>6.0</td>\n",
       "      <td>5.0</td>\n",
       "      <td>8.0</td>\n",
       "      <td>24.0</td>\n",
       "      <td>24.0</td>\n",
       "      <td>0.0</td>\n",
       "      <td>Bahia23</td>\n",
       "    </tr>\n",
       "    <tr>\n",
       "      <th>Ponte Preta</th>\n",
       "      <td>Subiu1</td>\n",
       "      <td>23.0</td>\n",
       "      <td>19.0</td>\n",
       "      <td>6.0</td>\n",
       "      <td>5.0</td>\n",
       "      <td>8.0</td>\n",
       "      <td>20.0</td>\n",
       "      <td>24.0</td>\n",
       "      <td>-4.0</td>\n",
       "      <td>Ponte Preta23</td>\n",
       "    </tr>\n",
       "    <tr>\n",
       "      <th>Atlético-MG</th>\n",
       "      <td>Desceu4</td>\n",
       "      <td>23.0</td>\n",
       "      <td>19.0</td>\n",
       "      <td>6.0</td>\n",
       "      <td>5.0</td>\n",
       "      <td>8.0</td>\n",
       "      <td>19.0</td>\n",
       "      <td>23.0</td>\n",
       "      <td>-4.0</td>\n",
       "      <td>Atlético-MG23</td>\n",
       "    </tr>\n",
       "    <tr>\n",
       "      <th>Chapecoense</th>\n",
       "      <td>Desceu3</td>\n",
       "      <td>22.0</td>\n",
       "      <td>19.0</td>\n",
       "      <td>6.0</td>\n",
       "      <td>4.0</td>\n",
       "      <td>9.0</td>\n",
       "      <td>24.0</td>\n",
       "      <td>33.0</td>\n",
       "      <td>-9.0</td>\n",
       "      <td>Chapecoense22</td>\n",
       "    </tr>\n",
       "    <tr>\n",
       "      <th>São Paulo</th>\n",
       "      <td>NaN</td>\n",
       "      <td>19.0</td>\n",
       "      <td>19.0</td>\n",
       "      <td>5.0</td>\n",
       "      <td>4.0</td>\n",
       "      <td>10.0</td>\n",
       "      <td>22.0</td>\n",
       "      <td>26.0</td>\n",
       "      <td>-4.0</td>\n",
       "      <td>São Paulo19</td>\n",
       "    </tr>\n",
       "    <tr>\n",
       "      <th>Vitória</th>\n",
       "      <td>Subiu1</td>\n",
       "      <td>19.0</td>\n",
       "      <td>19.0</td>\n",
       "      <td>5.0</td>\n",
       "      <td>4.0</td>\n",
       "      <td>10.0</td>\n",
       "      <td>21.0</td>\n",
       "      <td>30.0</td>\n",
       "      <td>-9.0</td>\n",
       "      <td>Vitória19</td>\n",
       "    </tr>\n",
       "    <tr>\n",
       "      <th>Avaí</th>\n",
       "      <td>Desceu1</td>\n",
       "      <td>18.0</td>\n",
       "      <td>19.0</td>\n",
       "      <td>4.0</td>\n",
       "      <td>6.0</td>\n",
       "      <td>9.0</td>\n",
       "      <td>10.0</td>\n",
       "      <td>25.0</td>\n",
       "      <td>-15.0</td>\n",
       "      <td>Avaí18</td>\n",
       "    </tr>\n",
       "    <tr>\n",
       "      <th>Atlético-GO</th>\n",
       "      <td>NaN</td>\n",
       "      <td>12.0</td>\n",
       "      <td>19.0</td>\n",
       "      <td>3.0</td>\n",
       "      <td>3.0</td>\n",
       "      <td>13.0</td>\n",
       "      <td>16.0</td>\n",
       "      <td>34.0</td>\n",
       "      <td>-18.0</td>\n",
       "      <td>Atlético-GO12</td>\n",
       "    </tr>\n",
       "    <tr>\n",
       "      <th>TABAJARA</th>\n",
       "      <td>NaN</td>\n",
       "      <td>NaN</td>\n",
       "      <td>NaN</td>\n",
       "      <td>NaN</td>\n",
       "      <td>NaN</td>\n",
       "      <td>NaN</td>\n",
       "      <td>NaN</td>\n",
       "      <td>NaN</td>\n",
       "      <td>NaN</td>\n",
       "      <td>NaN</td>\n",
       "    </tr>\n",
       "  </tbody>\n",
       "</table>\n",
       "</div>"
      ],
      "text/plain": [
       "              subiu_desceu     P     J     V    E     D    GP    GC    SG  \\\n",
       "TIMES                                                                       \n",
       "Corinthians            NaN  47.0  19.0  14.0  5.0   0.0  32.0   9.0  23.0   \n",
       "Grêmio                 NaN  39.0  19.0  12.0  3.0   4.0  35.0  18.0  17.0   \n",
       "Santos                 NaN  35.0  19.0  10.0  5.0   4.0  22.0  13.0   9.0   \n",
       "Palmeiras              NaN  32.0  19.0  10.0  2.0   7.0  28.0  20.0   8.0   \n",
       "Flamengo               NaN  29.0  19.0   7.0  8.0   4.0  27.0  19.0   8.0   \n",
       "Sport                  NaN  28.0  19.0   8.0  4.0   7.0  30.0  26.0   4.0   \n",
       "Cruzeiro               NaN  27.0  19.0   7.0  6.0   6.0  21.0  16.0   5.0   \n",
       "Atlético-PR         Subiu2  26.0  19.0   7.0  5.0   7.0  21.0  22.0  -1.0   \n",
       "Fluminense          Subiu5  26.0  19.0   6.0  8.0   5.0  29.0  27.0   2.0   \n",
       "Coritiba            Subiu2  25.0  19.0   7.0  4.0   8.0  21.0  25.0  -4.0   \n",
       "Botafogo           Desceu3  25.0  19.0   6.0  7.0   6.0  21.0  20.0   1.0   \n",
       "Vasco da Gama      Desceu3  24.0  19.0   7.0  3.0   9.0  21.0  30.0  -9.0   \n",
       "Bahia               Subiu3  23.0  19.0   6.0  5.0   8.0  24.0  24.0   0.0   \n",
       "Ponte Preta         Subiu1  23.0  19.0   6.0  5.0   8.0  20.0  24.0  -4.0   \n",
       "Atlético-MG        Desceu4  23.0  19.0   6.0  5.0   8.0  19.0  23.0  -4.0   \n",
       "Chapecoense        Desceu3  22.0  19.0   6.0  4.0   9.0  24.0  33.0  -9.0   \n",
       "São Paulo              NaN  19.0  19.0   5.0  4.0  10.0  22.0  26.0  -4.0   \n",
       "Vitória             Subiu1  19.0  19.0   5.0  4.0  10.0  21.0  30.0  -9.0   \n",
       "Avaí               Desceu1  18.0  19.0   4.0  6.0   9.0  10.0  25.0 -15.0   \n",
       "Atlético-GO            NaN  12.0  19.0   3.0  3.0  13.0  16.0  34.0 -18.0   \n",
       "TABAJARA               NaN   NaN   NaN   NaN  NaN   NaN   NaN   NaN   NaN   \n",
       "\n",
       "                   time_pontos  \n",
       "TIMES                           \n",
       "Corinthians      Corinthians47  \n",
       "Grêmio                Grêmio39  \n",
       "Santos                Santos35  \n",
       "Palmeiras          Palmeiras32  \n",
       "Flamengo            Flamengo29  \n",
       "Sport                  Sport28  \n",
       "Cruzeiro            Cruzeiro27  \n",
       "Atlético-PR      Atlético-PR26  \n",
       "Fluminense        Fluminense26  \n",
       "Coritiba            Coritiba25  \n",
       "Botafogo            Botafogo25  \n",
       "Vasco da Gama  Vasco da Gama24  \n",
       "Bahia                  Bahia23  \n",
       "Ponte Preta      Ponte Preta23  \n",
       "Atlético-MG      Atlético-MG23  \n",
       "Chapecoense      Chapecoense22  \n",
       "São Paulo          São Paulo19  \n",
       "Vitória              Vitória19  \n",
       "Avaí                    Avaí18  \n",
       "Atlético-GO      Atlético-GO12  \n",
       "TABAJARA                   NaN  "
      ]
     },
     "execution_count": 125,
     "metadata": {},
     "output_type": "execute_result"
    }
   ],
   "source": [
    "df"
   ]
  },
  {
   "cell_type": "markdown",
   "metadata": {},
   "source": [
    "#### eliminando NaN"
   ]
  },
  {
   "cell_type": "code",
   "execution_count": 127,
   "metadata": {
    "collapsed": false
   },
   "outputs": [
    {
     "data": {
      "text/html": [
       "<div>\n",
       "<style>\n",
       "    .dataframe thead tr:only-child th {\n",
       "        text-align: right;\n",
       "    }\n",
       "\n",
       "    .dataframe thead th {\n",
       "        text-align: left;\n",
       "    }\n",
       "\n",
       "    .dataframe tbody tr th {\n",
       "        vertical-align: top;\n",
       "    }\n",
       "</style>\n",
       "<table border=\"1\" class=\"dataframe\">\n",
       "  <thead>\n",
       "    <tr style=\"text-align: right;\">\n",
       "      <th></th>\n",
       "      <th>subiu_desceu</th>\n",
       "      <th>P</th>\n",
       "      <th>J</th>\n",
       "      <th>V</th>\n",
       "      <th>E</th>\n",
       "      <th>D</th>\n",
       "      <th>GP</th>\n",
       "      <th>GC</th>\n",
       "      <th>SG</th>\n",
       "      <th>time_pontos</th>\n",
       "    </tr>\n",
       "    <tr>\n",
       "      <th>TIMES</th>\n",
       "      <th></th>\n",
       "      <th></th>\n",
       "      <th></th>\n",
       "      <th></th>\n",
       "      <th></th>\n",
       "      <th></th>\n",
       "      <th></th>\n",
       "      <th></th>\n",
       "      <th></th>\n",
       "      <th></th>\n",
       "    </tr>\n",
       "  </thead>\n",
       "  <tbody>\n",
       "    <tr>\n",
       "      <th>Atlético-PR</th>\n",
       "      <td>Subiu2</td>\n",
       "      <td>26.0</td>\n",
       "      <td>19.0</td>\n",
       "      <td>7.0</td>\n",
       "      <td>5.0</td>\n",
       "      <td>7.0</td>\n",
       "      <td>21.0</td>\n",
       "      <td>22.0</td>\n",
       "      <td>-1.0</td>\n",
       "      <td>Atlético-PR26</td>\n",
       "    </tr>\n",
       "    <tr>\n",
       "      <th>Fluminense</th>\n",
       "      <td>Subiu5</td>\n",
       "      <td>26.0</td>\n",
       "      <td>19.0</td>\n",
       "      <td>6.0</td>\n",
       "      <td>8.0</td>\n",
       "      <td>5.0</td>\n",
       "      <td>29.0</td>\n",
       "      <td>27.0</td>\n",
       "      <td>2.0</td>\n",
       "      <td>Fluminense26</td>\n",
       "    </tr>\n",
       "    <tr>\n",
       "      <th>Coritiba</th>\n",
       "      <td>Subiu2</td>\n",
       "      <td>25.0</td>\n",
       "      <td>19.0</td>\n",
       "      <td>7.0</td>\n",
       "      <td>4.0</td>\n",
       "      <td>8.0</td>\n",
       "      <td>21.0</td>\n",
       "      <td>25.0</td>\n",
       "      <td>-4.0</td>\n",
       "      <td>Coritiba25</td>\n",
       "    </tr>\n",
       "    <tr>\n",
       "      <th>Botafogo</th>\n",
       "      <td>Desceu3</td>\n",
       "      <td>25.0</td>\n",
       "      <td>19.0</td>\n",
       "      <td>6.0</td>\n",
       "      <td>7.0</td>\n",
       "      <td>6.0</td>\n",
       "      <td>21.0</td>\n",
       "      <td>20.0</td>\n",
       "      <td>1.0</td>\n",
       "      <td>Botafogo25</td>\n",
       "    </tr>\n",
       "    <tr>\n",
       "      <th>Vasco da Gama</th>\n",
       "      <td>Desceu3</td>\n",
       "      <td>24.0</td>\n",
       "      <td>19.0</td>\n",
       "      <td>7.0</td>\n",
       "      <td>3.0</td>\n",
       "      <td>9.0</td>\n",
       "      <td>21.0</td>\n",
       "      <td>30.0</td>\n",
       "      <td>-9.0</td>\n",
       "      <td>Vasco da Gama24</td>\n",
       "    </tr>\n",
       "    <tr>\n",
       "      <th>Bahia</th>\n",
       "      <td>Subiu3</td>\n",
       "      <td>23.0</td>\n",
       "      <td>19.0</td>\n",
       "      <td>6.0</td>\n",
       "      <td>5.0</td>\n",
       "      <td>8.0</td>\n",
       "      <td>24.0</td>\n",
       "      <td>24.0</td>\n",
       "      <td>0.0</td>\n",
       "      <td>Bahia23</td>\n",
       "    </tr>\n",
       "    <tr>\n",
       "      <th>Ponte Preta</th>\n",
       "      <td>Subiu1</td>\n",
       "      <td>23.0</td>\n",
       "      <td>19.0</td>\n",
       "      <td>6.0</td>\n",
       "      <td>5.0</td>\n",
       "      <td>8.0</td>\n",
       "      <td>20.0</td>\n",
       "      <td>24.0</td>\n",
       "      <td>-4.0</td>\n",
       "      <td>Ponte Preta23</td>\n",
       "    </tr>\n",
       "    <tr>\n",
       "      <th>Atlético-MG</th>\n",
       "      <td>Desceu4</td>\n",
       "      <td>23.0</td>\n",
       "      <td>19.0</td>\n",
       "      <td>6.0</td>\n",
       "      <td>5.0</td>\n",
       "      <td>8.0</td>\n",
       "      <td>19.0</td>\n",
       "      <td>23.0</td>\n",
       "      <td>-4.0</td>\n",
       "      <td>Atlético-MG23</td>\n",
       "    </tr>\n",
       "    <tr>\n",
       "      <th>Chapecoense</th>\n",
       "      <td>Desceu3</td>\n",
       "      <td>22.0</td>\n",
       "      <td>19.0</td>\n",
       "      <td>6.0</td>\n",
       "      <td>4.0</td>\n",
       "      <td>9.0</td>\n",
       "      <td>24.0</td>\n",
       "      <td>33.0</td>\n",
       "      <td>-9.0</td>\n",
       "      <td>Chapecoense22</td>\n",
       "    </tr>\n",
       "    <tr>\n",
       "      <th>Vitória</th>\n",
       "      <td>Subiu1</td>\n",
       "      <td>19.0</td>\n",
       "      <td>19.0</td>\n",
       "      <td>5.0</td>\n",
       "      <td>4.0</td>\n",
       "      <td>10.0</td>\n",
       "      <td>21.0</td>\n",
       "      <td>30.0</td>\n",
       "      <td>-9.0</td>\n",
       "      <td>Vitória19</td>\n",
       "    </tr>\n",
       "    <tr>\n",
       "      <th>Avaí</th>\n",
       "      <td>Desceu1</td>\n",
       "      <td>18.0</td>\n",
       "      <td>19.0</td>\n",
       "      <td>4.0</td>\n",
       "      <td>6.0</td>\n",
       "      <td>9.0</td>\n",
       "      <td>10.0</td>\n",
       "      <td>25.0</td>\n",
       "      <td>-15.0</td>\n",
       "      <td>Avaí18</td>\n",
       "    </tr>\n",
       "  </tbody>\n",
       "</table>\n",
       "</div>"
      ],
      "text/plain": [
       "              subiu_desceu     P     J    V    E     D    GP    GC    SG  \\\n",
       "TIMES                                                                      \n",
       "Atlético-PR         Subiu2  26.0  19.0  7.0  5.0   7.0  21.0  22.0  -1.0   \n",
       "Fluminense          Subiu5  26.0  19.0  6.0  8.0   5.0  29.0  27.0   2.0   \n",
       "Coritiba            Subiu2  25.0  19.0  7.0  4.0   8.0  21.0  25.0  -4.0   \n",
       "Botafogo           Desceu3  25.0  19.0  6.0  7.0   6.0  21.0  20.0   1.0   \n",
       "Vasco da Gama      Desceu3  24.0  19.0  7.0  3.0   9.0  21.0  30.0  -9.0   \n",
       "Bahia               Subiu3  23.0  19.0  6.0  5.0   8.0  24.0  24.0   0.0   \n",
       "Ponte Preta         Subiu1  23.0  19.0  6.0  5.0   8.0  20.0  24.0  -4.0   \n",
       "Atlético-MG        Desceu4  23.0  19.0  6.0  5.0   8.0  19.0  23.0  -4.0   \n",
       "Chapecoense        Desceu3  22.0  19.0  6.0  4.0   9.0  24.0  33.0  -9.0   \n",
       "Vitória             Subiu1  19.0  19.0  5.0  4.0  10.0  21.0  30.0  -9.0   \n",
       "Avaí               Desceu1  18.0  19.0  4.0  6.0   9.0  10.0  25.0 -15.0   \n",
       "\n",
       "                   time_pontos  \n",
       "TIMES                           \n",
       "Atlético-PR      Atlético-PR26  \n",
       "Fluminense        Fluminense26  \n",
       "Coritiba            Coritiba25  \n",
       "Botafogo            Botafogo25  \n",
       "Vasco da Gama  Vasco da Gama24  \n",
       "Bahia                  Bahia23  \n",
       "Ponte Preta      Ponte Preta23  \n",
       "Atlético-MG      Atlético-MG23  \n",
       "Chapecoense      Chapecoense22  \n",
       "Vitória              Vitória19  \n",
       "Avaí                    Avaí18  "
      ]
     },
     "execution_count": 127,
     "metadata": {},
     "output_type": "execute_result"
    }
   ],
   "source": [
    "# dropna() elimina todas as linhas que contem pelo menos um NaN, default: how = 'any'\n",
    "df.dropna()"
   ]
  },
  {
   "cell_type": "code",
   "execution_count": 129,
   "metadata": {
    "collapsed": false
   },
   "outputs": [],
   "source": [
    "df = df.dropna(how='all')"
   ]
  },
  {
   "cell_type": "code",
   "execution_count": 130,
   "metadata": {
    "collapsed": false
   },
   "outputs": [
    {
     "data": {
      "text/html": [
       "<div>\n",
       "<style>\n",
       "    .dataframe thead tr:only-child th {\n",
       "        text-align: right;\n",
       "    }\n",
       "\n",
       "    .dataframe thead th {\n",
       "        text-align: left;\n",
       "    }\n",
       "\n",
       "    .dataframe tbody tr th {\n",
       "        vertical-align: top;\n",
       "    }\n",
       "</style>\n",
       "<table border=\"1\" class=\"dataframe\">\n",
       "  <thead>\n",
       "    <tr style=\"text-align: right;\">\n",
       "      <th></th>\n",
       "      <th>subiu_desceu</th>\n",
       "      <th>P</th>\n",
       "      <th>J</th>\n",
       "      <th>V</th>\n",
       "      <th>E</th>\n",
       "      <th>D</th>\n",
       "      <th>GP</th>\n",
       "      <th>GC</th>\n",
       "      <th>SG</th>\n",
       "      <th>time_pontos</th>\n",
       "    </tr>\n",
       "    <tr>\n",
       "      <th>TIMES</th>\n",
       "      <th></th>\n",
       "      <th></th>\n",
       "      <th></th>\n",
       "      <th></th>\n",
       "      <th></th>\n",
       "      <th></th>\n",
       "      <th></th>\n",
       "      <th></th>\n",
       "      <th></th>\n",
       "      <th></th>\n",
       "    </tr>\n",
       "  </thead>\n",
       "  <tbody>\n",
       "    <tr>\n",
       "      <th>Corinthians</th>\n",
       "      <td>NaN</td>\n",
       "      <td>47.0</td>\n",
       "      <td>19.0</td>\n",
       "      <td>14.0</td>\n",
       "      <td>5.0</td>\n",
       "      <td>0.0</td>\n",
       "      <td>32.0</td>\n",
       "      <td>9.0</td>\n",
       "      <td>23.0</td>\n",
       "      <td>Corinthians47</td>\n",
       "    </tr>\n",
       "    <tr>\n",
       "      <th>Grêmio</th>\n",
       "      <td>NaN</td>\n",
       "      <td>39.0</td>\n",
       "      <td>19.0</td>\n",
       "      <td>12.0</td>\n",
       "      <td>3.0</td>\n",
       "      <td>4.0</td>\n",
       "      <td>35.0</td>\n",
       "      <td>18.0</td>\n",
       "      <td>17.0</td>\n",
       "      <td>Grêmio39</td>\n",
       "    </tr>\n",
       "    <tr>\n",
       "      <th>Santos</th>\n",
       "      <td>NaN</td>\n",
       "      <td>35.0</td>\n",
       "      <td>19.0</td>\n",
       "      <td>10.0</td>\n",
       "      <td>5.0</td>\n",
       "      <td>4.0</td>\n",
       "      <td>22.0</td>\n",
       "      <td>13.0</td>\n",
       "      <td>9.0</td>\n",
       "      <td>Santos35</td>\n",
       "    </tr>\n",
       "    <tr>\n",
       "      <th>Palmeiras</th>\n",
       "      <td>NaN</td>\n",
       "      <td>32.0</td>\n",
       "      <td>19.0</td>\n",
       "      <td>10.0</td>\n",
       "      <td>2.0</td>\n",
       "      <td>7.0</td>\n",
       "      <td>28.0</td>\n",
       "      <td>20.0</td>\n",
       "      <td>8.0</td>\n",
       "      <td>Palmeiras32</td>\n",
       "    </tr>\n",
       "    <tr>\n",
       "      <th>Flamengo</th>\n",
       "      <td>NaN</td>\n",
       "      <td>29.0</td>\n",
       "      <td>19.0</td>\n",
       "      <td>7.0</td>\n",
       "      <td>8.0</td>\n",
       "      <td>4.0</td>\n",
       "      <td>27.0</td>\n",
       "      <td>19.0</td>\n",
       "      <td>8.0</td>\n",
       "      <td>Flamengo29</td>\n",
       "    </tr>\n",
       "    <tr>\n",
       "      <th>Sport</th>\n",
       "      <td>NaN</td>\n",
       "      <td>28.0</td>\n",
       "      <td>19.0</td>\n",
       "      <td>8.0</td>\n",
       "      <td>4.0</td>\n",
       "      <td>7.0</td>\n",
       "      <td>30.0</td>\n",
       "      <td>26.0</td>\n",
       "      <td>4.0</td>\n",
       "      <td>Sport28</td>\n",
       "    </tr>\n",
       "    <tr>\n",
       "      <th>Cruzeiro</th>\n",
       "      <td>NaN</td>\n",
       "      <td>27.0</td>\n",
       "      <td>19.0</td>\n",
       "      <td>7.0</td>\n",
       "      <td>6.0</td>\n",
       "      <td>6.0</td>\n",
       "      <td>21.0</td>\n",
       "      <td>16.0</td>\n",
       "      <td>5.0</td>\n",
       "      <td>Cruzeiro27</td>\n",
       "    </tr>\n",
       "    <tr>\n",
       "      <th>Atlético-PR</th>\n",
       "      <td>Subiu2</td>\n",
       "      <td>26.0</td>\n",
       "      <td>19.0</td>\n",
       "      <td>7.0</td>\n",
       "      <td>5.0</td>\n",
       "      <td>7.0</td>\n",
       "      <td>21.0</td>\n",
       "      <td>22.0</td>\n",
       "      <td>-1.0</td>\n",
       "      <td>Atlético-PR26</td>\n",
       "    </tr>\n",
       "    <tr>\n",
       "      <th>Fluminense</th>\n",
       "      <td>Subiu5</td>\n",
       "      <td>26.0</td>\n",
       "      <td>19.0</td>\n",
       "      <td>6.0</td>\n",
       "      <td>8.0</td>\n",
       "      <td>5.0</td>\n",
       "      <td>29.0</td>\n",
       "      <td>27.0</td>\n",
       "      <td>2.0</td>\n",
       "      <td>Fluminense26</td>\n",
       "    </tr>\n",
       "    <tr>\n",
       "      <th>Coritiba</th>\n",
       "      <td>Subiu2</td>\n",
       "      <td>25.0</td>\n",
       "      <td>19.0</td>\n",
       "      <td>7.0</td>\n",
       "      <td>4.0</td>\n",
       "      <td>8.0</td>\n",
       "      <td>21.0</td>\n",
       "      <td>25.0</td>\n",
       "      <td>-4.0</td>\n",
       "      <td>Coritiba25</td>\n",
       "    </tr>\n",
       "    <tr>\n",
       "      <th>Botafogo</th>\n",
       "      <td>Desceu3</td>\n",
       "      <td>25.0</td>\n",
       "      <td>19.0</td>\n",
       "      <td>6.0</td>\n",
       "      <td>7.0</td>\n",
       "      <td>6.0</td>\n",
       "      <td>21.0</td>\n",
       "      <td>20.0</td>\n",
       "      <td>1.0</td>\n",
       "      <td>Botafogo25</td>\n",
       "    </tr>\n",
       "    <tr>\n",
       "      <th>Vasco da Gama</th>\n",
       "      <td>Desceu3</td>\n",
       "      <td>24.0</td>\n",
       "      <td>19.0</td>\n",
       "      <td>7.0</td>\n",
       "      <td>3.0</td>\n",
       "      <td>9.0</td>\n",
       "      <td>21.0</td>\n",
       "      <td>30.0</td>\n",
       "      <td>-9.0</td>\n",
       "      <td>Vasco da Gama24</td>\n",
       "    </tr>\n",
       "    <tr>\n",
       "      <th>Bahia</th>\n",
       "      <td>Subiu3</td>\n",
       "      <td>23.0</td>\n",
       "      <td>19.0</td>\n",
       "      <td>6.0</td>\n",
       "      <td>5.0</td>\n",
       "      <td>8.0</td>\n",
       "      <td>24.0</td>\n",
       "      <td>24.0</td>\n",
       "      <td>0.0</td>\n",
       "      <td>Bahia23</td>\n",
       "    </tr>\n",
       "    <tr>\n",
       "      <th>Ponte Preta</th>\n",
       "      <td>Subiu1</td>\n",
       "      <td>23.0</td>\n",
       "      <td>19.0</td>\n",
       "      <td>6.0</td>\n",
       "      <td>5.0</td>\n",
       "      <td>8.0</td>\n",
       "      <td>20.0</td>\n",
       "      <td>24.0</td>\n",
       "      <td>-4.0</td>\n",
       "      <td>Ponte Preta23</td>\n",
       "    </tr>\n",
       "    <tr>\n",
       "      <th>Atlético-MG</th>\n",
       "      <td>Desceu4</td>\n",
       "      <td>23.0</td>\n",
       "      <td>19.0</td>\n",
       "      <td>6.0</td>\n",
       "      <td>5.0</td>\n",
       "      <td>8.0</td>\n",
       "      <td>19.0</td>\n",
       "      <td>23.0</td>\n",
       "      <td>-4.0</td>\n",
       "      <td>Atlético-MG23</td>\n",
       "    </tr>\n",
       "    <tr>\n",
       "      <th>Chapecoense</th>\n",
       "      <td>Desceu3</td>\n",
       "      <td>22.0</td>\n",
       "      <td>19.0</td>\n",
       "      <td>6.0</td>\n",
       "      <td>4.0</td>\n",
       "      <td>9.0</td>\n",
       "      <td>24.0</td>\n",
       "      <td>33.0</td>\n",
       "      <td>-9.0</td>\n",
       "      <td>Chapecoense22</td>\n",
       "    </tr>\n",
       "    <tr>\n",
       "      <th>São Paulo</th>\n",
       "      <td>NaN</td>\n",
       "      <td>19.0</td>\n",
       "      <td>19.0</td>\n",
       "      <td>5.0</td>\n",
       "      <td>4.0</td>\n",
       "      <td>10.0</td>\n",
       "      <td>22.0</td>\n",
       "      <td>26.0</td>\n",
       "      <td>-4.0</td>\n",
       "      <td>São Paulo19</td>\n",
       "    </tr>\n",
       "    <tr>\n",
       "      <th>Vitória</th>\n",
       "      <td>Subiu1</td>\n",
       "      <td>19.0</td>\n",
       "      <td>19.0</td>\n",
       "      <td>5.0</td>\n",
       "      <td>4.0</td>\n",
       "      <td>10.0</td>\n",
       "      <td>21.0</td>\n",
       "      <td>30.0</td>\n",
       "      <td>-9.0</td>\n",
       "      <td>Vitória19</td>\n",
       "    </tr>\n",
       "    <tr>\n",
       "      <th>Avaí</th>\n",
       "      <td>Desceu1</td>\n",
       "      <td>18.0</td>\n",
       "      <td>19.0</td>\n",
       "      <td>4.0</td>\n",
       "      <td>6.0</td>\n",
       "      <td>9.0</td>\n",
       "      <td>10.0</td>\n",
       "      <td>25.0</td>\n",
       "      <td>-15.0</td>\n",
       "      <td>Avaí18</td>\n",
       "    </tr>\n",
       "    <tr>\n",
       "      <th>Atlético-GO</th>\n",
       "      <td>NaN</td>\n",
       "      <td>12.0</td>\n",
       "      <td>19.0</td>\n",
       "      <td>3.0</td>\n",
       "      <td>3.0</td>\n",
       "      <td>13.0</td>\n",
       "      <td>16.0</td>\n",
       "      <td>34.0</td>\n",
       "      <td>-18.0</td>\n",
       "      <td>Atlético-GO12</td>\n",
       "    </tr>\n",
       "  </tbody>\n",
       "</table>\n",
       "</div>"
      ],
      "text/plain": [
       "              subiu_desceu     P     J     V    E     D    GP    GC    SG  \\\n",
       "TIMES                                                                       \n",
       "Corinthians            NaN  47.0  19.0  14.0  5.0   0.0  32.0   9.0  23.0   \n",
       "Grêmio                 NaN  39.0  19.0  12.0  3.0   4.0  35.0  18.0  17.0   \n",
       "Santos                 NaN  35.0  19.0  10.0  5.0   4.0  22.0  13.0   9.0   \n",
       "Palmeiras              NaN  32.0  19.0  10.0  2.0   7.0  28.0  20.0   8.0   \n",
       "Flamengo               NaN  29.0  19.0   7.0  8.0   4.0  27.0  19.0   8.0   \n",
       "Sport                  NaN  28.0  19.0   8.0  4.0   7.0  30.0  26.0   4.0   \n",
       "Cruzeiro               NaN  27.0  19.0   7.0  6.0   6.0  21.0  16.0   5.0   \n",
       "Atlético-PR         Subiu2  26.0  19.0   7.0  5.0   7.0  21.0  22.0  -1.0   \n",
       "Fluminense          Subiu5  26.0  19.0   6.0  8.0   5.0  29.0  27.0   2.0   \n",
       "Coritiba            Subiu2  25.0  19.0   7.0  4.0   8.0  21.0  25.0  -4.0   \n",
       "Botafogo           Desceu3  25.0  19.0   6.0  7.0   6.0  21.0  20.0   1.0   \n",
       "Vasco da Gama      Desceu3  24.0  19.0   7.0  3.0   9.0  21.0  30.0  -9.0   \n",
       "Bahia               Subiu3  23.0  19.0   6.0  5.0   8.0  24.0  24.0   0.0   \n",
       "Ponte Preta         Subiu1  23.0  19.0   6.0  5.0   8.0  20.0  24.0  -4.0   \n",
       "Atlético-MG        Desceu4  23.0  19.0   6.0  5.0   8.0  19.0  23.0  -4.0   \n",
       "Chapecoense        Desceu3  22.0  19.0   6.0  4.0   9.0  24.0  33.0  -9.0   \n",
       "São Paulo              NaN  19.0  19.0   5.0  4.0  10.0  22.0  26.0  -4.0   \n",
       "Vitória             Subiu1  19.0  19.0   5.0  4.0  10.0  21.0  30.0  -9.0   \n",
       "Avaí               Desceu1  18.0  19.0   4.0  6.0   9.0  10.0  25.0 -15.0   \n",
       "Atlético-GO            NaN  12.0  19.0   3.0  3.0  13.0  16.0  34.0 -18.0   \n",
       "\n",
       "                   time_pontos  \n",
       "TIMES                           \n",
       "Corinthians      Corinthians47  \n",
       "Grêmio                Grêmio39  \n",
       "Santos                Santos35  \n",
       "Palmeiras          Palmeiras32  \n",
       "Flamengo            Flamengo29  \n",
       "Sport                  Sport28  \n",
       "Cruzeiro            Cruzeiro27  \n",
       "Atlético-PR      Atlético-PR26  \n",
       "Fluminense        Fluminense26  \n",
       "Coritiba            Coritiba25  \n",
       "Botafogo            Botafogo25  \n",
       "Vasco da Gama  Vasco da Gama24  \n",
       "Bahia                  Bahia23  \n",
       "Ponte Preta      Ponte Preta23  \n",
       "Atlético-MG      Atlético-MG23  \n",
       "Chapecoense      Chapecoense22  \n",
       "São Paulo          São Paulo19  \n",
       "Vitória              Vitória19  \n",
       "Avaí                    Avaí18  \n",
       "Atlético-GO      Atlético-GO12  "
      ]
     },
     "execution_count": 130,
     "metadata": {},
     "output_type": "execute_result"
    }
   ],
   "source": [
    "df"
   ]
  },
  {
   "cell_type": "markdown",
   "metadata": {},
   "source": [
    "#### selecionando linhas por valores"
   ]
  },
  {
   "cell_type": "code",
   "execution_count": 131,
   "metadata": {
    "collapsed": false
   },
   "outputs": [
    {
     "data": {
      "text/plain": [
       "P     47.0\n",
       "J     19.0\n",
       "V     14.0\n",
       "E      8.0\n",
       "D     13.0\n",
       "GP    35.0\n",
       "GC    34.0\n",
       "SG    23.0\n",
       "dtype: float64"
      ]
     },
     "execution_count": 131,
     "metadata": {},
     "output_type": "execute_result"
    }
   ],
   "source": [
    "df.max()"
   ]
  },
  {
   "cell_type": "code",
   "execution_count": 133,
   "metadata": {
    "collapsed": false
   },
   "outputs": [
    {
     "data": {
      "text/plain": [
       "'Corinthians'"
      ]
     },
     "execution_count": 133,
     "metadata": {},
     "output_type": "execute_result"
    }
   ],
   "source": [
    "df.P.idxmax()"
   ]
  },
  {
   "cell_type": "code",
   "execution_count": 134,
   "metadata": {
    "collapsed": false
   },
   "outputs": [
    {
     "data": {
      "text/plain": [
       "'Grêmio'"
      ]
     },
     "execution_count": 134,
     "metadata": {},
     "output_type": "execute_result"
    }
   ],
   "source": [
    "df.GP.idxmax()"
   ]
  },
  {
   "cell_type": "code",
   "execution_count": 137,
   "metadata": {
    "collapsed": false
   },
   "outputs": [
    {
     "data": {
      "text/plain": [
       "TIMES\n",
       "Grêmio         35.0\n",
       "Corinthians    32.0\n",
       "Sport          30.0\n",
       "Name: GP, dtype: float64"
      ]
     },
     "execution_count": 137,
     "metadata": {},
     "output_type": "execute_result"
    }
   ],
   "source": [
    "df.GP.nlargest(3)"
   ]
  },
  {
   "cell_type": "code",
   "execution_count": 139,
   "metadata": {
    "collapsed": false
   },
   "outputs": [
    {
     "data": {
      "text/html": [
       "<div>\n",
       "<style>\n",
       "    .dataframe thead tr:only-child th {\n",
       "        text-align: right;\n",
       "    }\n",
       "\n",
       "    .dataframe thead th {\n",
       "        text-align: left;\n",
       "    }\n",
       "\n",
       "    .dataframe tbody tr th {\n",
       "        vertical-align: top;\n",
       "    }\n",
       "</style>\n",
       "<table border=\"1\" class=\"dataframe\">\n",
       "  <thead>\n",
       "    <tr style=\"text-align: right;\">\n",
       "      <th></th>\n",
       "      <th>subiu_desceu</th>\n",
       "      <th>P</th>\n",
       "      <th>J</th>\n",
       "      <th>V</th>\n",
       "      <th>E</th>\n",
       "      <th>D</th>\n",
       "      <th>GP</th>\n",
       "      <th>GC</th>\n",
       "      <th>SG</th>\n",
       "      <th>time_pontos</th>\n",
       "    </tr>\n",
       "    <tr>\n",
       "      <th>TIMES</th>\n",
       "      <th></th>\n",
       "      <th></th>\n",
       "      <th></th>\n",
       "      <th></th>\n",
       "      <th></th>\n",
       "      <th></th>\n",
       "      <th></th>\n",
       "      <th></th>\n",
       "      <th></th>\n",
       "      <th></th>\n",
       "    </tr>\n",
       "  </thead>\n",
       "  <tbody>\n",
       "    <tr>\n",
       "      <th>Grêmio</th>\n",
       "      <td>NaN</td>\n",
       "      <td>39.0</td>\n",
       "      <td>19.0</td>\n",
       "      <td>12.0</td>\n",
       "      <td>3.0</td>\n",
       "      <td>4.0</td>\n",
       "      <td>35.0</td>\n",
       "      <td>18.0</td>\n",
       "      <td>17.0</td>\n",
       "      <td>Grêmio39</td>\n",
       "    </tr>\n",
       "    <tr>\n",
       "      <th>Corinthians</th>\n",
       "      <td>NaN</td>\n",
       "      <td>47.0</td>\n",
       "      <td>19.0</td>\n",
       "      <td>14.0</td>\n",
       "      <td>5.0</td>\n",
       "      <td>0.0</td>\n",
       "      <td>32.0</td>\n",
       "      <td>9.0</td>\n",
       "      <td>23.0</td>\n",
       "      <td>Corinthians47</td>\n",
       "    </tr>\n",
       "    <tr>\n",
       "      <th>Sport</th>\n",
       "      <td>NaN</td>\n",
       "      <td>28.0</td>\n",
       "      <td>19.0</td>\n",
       "      <td>8.0</td>\n",
       "      <td>4.0</td>\n",
       "      <td>7.0</td>\n",
       "      <td>30.0</td>\n",
       "      <td>26.0</td>\n",
       "      <td>4.0</td>\n",
       "      <td>Sport28</td>\n",
       "    </tr>\n",
       "    <tr>\n",
       "      <th>Fluminense</th>\n",
       "      <td>Subiu5</td>\n",
       "      <td>26.0</td>\n",
       "      <td>19.0</td>\n",
       "      <td>6.0</td>\n",
       "      <td>8.0</td>\n",
       "      <td>5.0</td>\n",
       "      <td>29.0</td>\n",
       "      <td>27.0</td>\n",
       "      <td>2.0</td>\n",
       "      <td>Fluminense26</td>\n",
       "    </tr>\n",
       "    <tr>\n",
       "      <th>Palmeiras</th>\n",
       "      <td>NaN</td>\n",
       "      <td>32.0</td>\n",
       "      <td>19.0</td>\n",
       "      <td>10.0</td>\n",
       "      <td>2.0</td>\n",
       "      <td>7.0</td>\n",
       "      <td>28.0</td>\n",
       "      <td>20.0</td>\n",
       "      <td>8.0</td>\n",
       "      <td>Palmeiras32</td>\n",
       "    </tr>\n",
       "    <tr>\n",
       "      <th>Flamengo</th>\n",
       "      <td>NaN</td>\n",
       "      <td>29.0</td>\n",
       "      <td>19.0</td>\n",
       "      <td>7.0</td>\n",
       "      <td>8.0</td>\n",
       "      <td>4.0</td>\n",
       "      <td>27.0</td>\n",
       "      <td>19.0</td>\n",
       "      <td>8.0</td>\n",
       "      <td>Flamengo29</td>\n",
       "    </tr>\n",
       "    <tr>\n",
       "      <th>Bahia</th>\n",
       "      <td>Subiu3</td>\n",
       "      <td>23.0</td>\n",
       "      <td>19.0</td>\n",
       "      <td>6.0</td>\n",
       "      <td>5.0</td>\n",
       "      <td>8.0</td>\n",
       "      <td>24.0</td>\n",
       "      <td>24.0</td>\n",
       "      <td>0.0</td>\n",
       "      <td>Bahia23</td>\n",
       "    </tr>\n",
       "    <tr>\n",
       "      <th>Chapecoense</th>\n",
       "      <td>Desceu3</td>\n",
       "      <td>22.0</td>\n",
       "      <td>19.0</td>\n",
       "      <td>6.0</td>\n",
       "      <td>4.0</td>\n",
       "      <td>9.0</td>\n",
       "      <td>24.0</td>\n",
       "      <td>33.0</td>\n",
       "      <td>-9.0</td>\n",
       "      <td>Chapecoense22</td>\n",
       "    </tr>\n",
       "    <tr>\n",
       "      <th>Santos</th>\n",
       "      <td>NaN</td>\n",
       "      <td>35.0</td>\n",
       "      <td>19.0</td>\n",
       "      <td>10.0</td>\n",
       "      <td>5.0</td>\n",
       "      <td>4.0</td>\n",
       "      <td>22.0</td>\n",
       "      <td>13.0</td>\n",
       "      <td>9.0</td>\n",
       "      <td>Santos35</td>\n",
       "    </tr>\n",
       "    <tr>\n",
       "      <th>São Paulo</th>\n",
       "      <td>NaN</td>\n",
       "      <td>19.0</td>\n",
       "      <td>19.0</td>\n",
       "      <td>5.0</td>\n",
       "      <td>4.0</td>\n",
       "      <td>10.0</td>\n",
       "      <td>22.0</td>\n",
       "      <td>26.0</td>\n",
       "      <td>-4.0</td>\n",
       "      <td>São Paulo19</td>\n",
       "    </tr>\n",
       "    <tr>\n",
       "      <th>Vitória</th>\n",
       "      <td>Subiu1</td>\n",
       "      <td>19.0</td>\n",
       "      <td>19.0</td>\n",
       "      <td>5.0</td>\n",
       "      <td>4.0</td>\n",
       "      <td>10.0</td>\n",
       "      <td>21.0</td>\n",
       "      <td>30.0</td>\n",
       "      <td>-9.0</td>\n",
       "      <td>Vitória19</td>\n",
       "    </tr>\n",
       "    <tr>\n",
       "      <th>Botafogo</th>\n",
       "      <td>Desceu3</td>\n",
       "      <td>25.0</td>\n",
       "      <td>19.0</td>\n",
       "      <td>6.0</td>\n",
       "      <td>7.0</td>\n",
       "      <td>6.0</td>\n",
       "      <td>21.0</td>\n",
       "      <td>20.0</td>\n",
       "      <td>1.0</td>\n",
       "      <td>Botafogo25</td>\n",
       "    </tr>\n",
       "    <tr>\n",
       "      <th>Vasco da Gama</th>\n",
       "      <td>Desceu3</td>\n",
       "      <td>24.0</td>\n",
       "      <td>19.0</td>\n",
       "      <td>7.0</td>\n",
       "      <td>3.0</td>\n",
       "      <td>9.0</td>\n",
       "      <td>21.0</td>\n",
       "      <td>30.0</td>\n",
       "      <td>-9.0</td>\n",
       "      <td>Vasco da Gama24</td>\n",
       "    </tr>\n",
       "    <tr>\n",
       "      <th>Coritiba</th>\n",
       "      <td>Subiu2</td>\n",
       "      <td>25.0</td>\n",
       "      <td>19.0</td>\n",
       "      <td>7.0</td>\n",
       "      <td>4.0</td>\n",
       "      <td>8.0</td>\n",
       "      <td>21.0</td>\n",
       "      <td>25.0</td>\n",
       "      <td>-4.0</td>\n",
       "      <td>Coritiba25</td>\n",
       "    </tr>\n",
       "    <tr>\n",
       "      <th>Atlético-PR</th>\n",
       "      <td>Subiu2</td>\n",
       "      <td>26.0</td>\n",
       "      <td>19.0</td>\n",
       "      <td>7.0</td>\n",
       "      <td>5.0</td>\n",
       "      <td>7.0</td>\n",
       "      <td>21.0</td>\n",
       "      <td>22.0</td>\n",
       "      <td>-1.0</td>\n",
       "      <td>Atlético-PR26</td>\n",
       "    </tr>\n",
       "    <tr>\n",
       "      <th>Cruzeiro</th>\n",
       "      <td>NaN</td>\n",
       "      <td>27.0</td>\n",
       "      <td>19.0</td>\n",
       "      <td>7.0</td>\n",
       "      <td>6.0</td>\n",
       "      <td>6.0</td>\n",
       "      <td>21.0</td>\n",
       "      <td>16.0</td>\n",
       "      <td>5.0</td>\n",
       "      <td>Cruzeiro27</td>\n",
       "    </tr>\n",
       "    <tr>\n",
       "      <th>Ponte Preta</th>\n",
       "      <td>Subiu1</td>\n",
       "      <td>23.0</td>\n",
       "      <td>19.0</td>\n",
       "      <td>6.0</td>\n",
       "      <td>5.0</td>\n",
       "      <td>8.0</td>\n",
       "      <td>20.0</td>\n",
       "      <td>24.0</td>\n",
       "      <td>-4.0</td>\n",
       "      <td>Ponte Preta23</td>\n",
       "    </tr>\n",
       "    <tr>\n",
       "      <th>Atlético-MG</th>\n",
       "      <td>Desceu4</td>\n",
       "      <td>23.0</td>\n",
       "      <td>19.0</td>\n",
       "      <td>6.0</td>\n",
       "      <td>5.0</td>\n",
       "      <td>8.0</td>\n",
       "      <td>19.0</td>\n",
       "      <td>23.0</td>\n",
       "      <td>-4.0</td>\n",
       "      <td>Atlético-MG23</td>\n",
       "    </tr>\n",
       "    <tr>\n",
       "      <th>Atlético-GO</th>\n",
       "      <td>NaN</td>\n",
       "      <td>12.0</td>\n",
       "      <td>19.0</td>\n",
       "      <td>3.0</td>\n",
       "      <td>3.0</td>\n",
       "      <td>13.0</td>\n",
       "      <td>16.0</td>\n",
       "      <td>34.0</td>\n",
       "      <td>-18.0</td>\n",
       "      <td>Atlético-GO12</td>\n",
       "    </tr>\n",
       "    <tr>\n",
       "      <th>Avaí</th>\n",
       "      <td>Desceu1</td>\n",
       "      <td>18.0</td>\n",
       "      <td>19.0</td>\n",
       "      <td>4.0</td>\n",
       "      <td>6.0</td>\n",
       "      <td>9.0</td>\n",
       "      <td>10.0</td>\n",
       "      <td>25.0</td>\n",
       "      <td>-15.0</td>\n",
       "      <td>Avaí18</td>\n",
       "    </tr>\n",
       "  </tbody>\n",
       "</table>\n",
       "</div>"
      ],
      "text/plain": [
       "              subiu_desceu     P     J     V    E     D    GP    GC    SG  \\\n",
       "TIMES                                                                       \n",
       "Grêmio                 NaN  39.0  19.0  12.0  3.0   4.0  35.0  18.0  17.0   \n",
       "Corinthians            NaN  47.0  19.0  14.0  5.0   0.0  32.0   9.0  23.0   \n",
       "Sport                  NaN  28.0  19.0   8.0  4.0   7.0  30.0  26.0   4.0   \n",
       "Fluminense          Subiu5  26.0  19.0   6.0  8.0   5.0  29.0  27.0   2.0   \n",
       "Palmeiras              NaN  32.0  19.0  10.0  2.0   7.0  28.0  20.0   8.0   \n",
       "Flamengo               NaN  29.0  19.0   7.0  8.0   4.0  27.0  19.0   8.0   \n",
       "Bahia               Subiu3  23.0  19.0   6.0  5.0   8.0  24.0  24.0   0.0   \n",
       "Chapecoense        Desceu3  22.0  19.0   6.0  4.0   9.0  24.0  33.0  -9.0   \n",
       "Santos                 NaN  35.0  19.0  10.0  5.0   4.0  22.0  13.0   9.0   \n",
       "São Paulo              NaN  19.0  19.0   5.0  4.0  10.0  22.0  26.0  -4.0   \n",
       "Vitória             Subiu1  19.0  19.0   5.0  4.0  10.0  21.0  30.0  -9.0   \n",
       "Botafogo           Desceu3  25.0  19.0   6.0  7.0   6.0  21.0  20.0   1.0   \n",
       "Vasco da Gama      Desceu3  24.0  19.0   7.0  3.0   9.0  21.0  30.0  -9.0   \n",
       "Coritiba            Subiu2  25.0  19.0   7.0  4.0   8.0  21.0  25.0  -4.0   \n",
       "Atlético-PR         Subiu2  26.0  19.0   7.0  5.0   7.0  21.0  22.0  -1.0   \n",
       "Cruzeiro               NaN  27.0  19.0   7.0  6.0   6.0  21.0  16.0   5.0   \n",
       "Ponte Preta         Subiu1  23.0  19.0   6.0  5.0   8.0  20.0  24.0  -4.0   \n",
       "Atlético-MG        Desceu4  23.0  19.0   6.0  5.0   8.0  19.0  23.0  -4.0   \n",
       "Atlético-GO            NaN  12.0  19.0   3.0  3.0  13.0  16.0  34.0 -18.0   \n",
       "Avaí               Desceu1  18.0  19.0   4.0  6.0   9.0  10.0  25.0 -15.0   \n",
       "\n",
       "                   time_pontos  \n",
       "TIMES                           \n",
       "Grêmio                Grêmio39  \n",
       "Corinthians      Corinthians47  \n",
       "Sport                  Sport28  \n",
       "Fluminense        Fluminense26  \n",
       "Palmeiras          Palmeiras32  \n",
       "Flamengo            Flamengo29  \n",
       "Bahia                  Bahia23  \n",
       "Chapecoense      Chapecoense22  \n",
       "Santos                Santos35  \n",
       "São Paulo          São Paulo19  \n",
       "Vitória              Vitória19  \n",
       "Botafogo            Botafogo25  \n",
       "Vasco da Gama  Vasco da Gama24  \n",
       "Coritiba            Coritiba25  \n",
       "Atlético-PR      Atlético-PR26  \n",
       "Cruzeiro            Cruzeiro27  \n",
       "Ponte Preta      Ponte Preta23  \n",
       "Atlético-MG      Atlético-MG23  \n",
       "Atlético-GO      Atlético-GO12  \n",
       "Avaí                    Avaí18  "
      ]
     },
     "execution_count": 139,
     "metadata": {},
     "output_type": "execute_result"
    }
   ],
   "source": [
    "df.sort_values('GP', ascending = False)"
   ]
  },
  {
   "cell_type": "markdown",
   "metadata": {},
   "source": [
    "#### visualizacões"
   ]
  },
  {
   "cell_type": "code",
   "execution_count": 148,
   "metadata": {
    "collapsed": false
   },
   "outputs": [
    {
     "data": {
      "text/plain": [
       "<matplotlib.axes._subplots.AxesSubplot at 0x10a2879b0>"
      ]
     },
     "execution_count": 148,
     "metadata": {},
     "output_type": "execute_result"
    },
    {
     "data": {
      "image/png": "[encoded data removed]",
      "text/plain": [
       "<matplotlib.figure.Figure at 0x10a2b8a90>"
      ]
     },
     "metadata": {},
     "output_type": "display_data"
    }
   ],
   "source": [
    "df.P.plot(kind = 'bar', figsize = (10,4))"
   ]
  },
  {
   "cell_type": "code",
   "execution_count": 151,
   "metadata": {
    "collapsed": false
   },
   "outputs": [
    {
     "data": {
      "text/plain": [
       "<matplotlib.axes._subplots.AxesSubplot at 0x10a8f91d0>"
      ]
     },
     "execution_count": 151,
     "metadata": {},
     "output_type": "execute_result"
    },
    {
     "data": {
      "image/png": "[encoded data removed]",
      "text/plain": [
       "<matplotlib.figure.Figure at 0x10a903240>"
      ]
     },
     "metadata": {},
     "output_type": "display_data"
    }
   ],
   "source": [
    "df.head().GC.plot(kind = 'pie')"
   ]
  },
  {
   "cell_type": "code",
   "execution_count": 156,
   "metadata": {
    "collapsed": false
   },
   "outputs": [
    {
     "data": {
      "text/plain": [
       "<matplotlib.axes._subplots.AxesSubplot at 0x10b39ccc0>"
      ]
     },
     "execution_count": 156,
     "metadata": {},
     "output_type": "execute_result"
    },
    {
     "data": {
      "image/png": "[encoded data removed]",
      "text/plain": [
       "<matplotlib.figure.Figure at 0x10b1c9ef0>"
      ]
     },
     "metadata": {},
     "output_type": "display_data"
    }
   ],
   "source": [
    "df[['V', 'E', 'D']].plot(kind = 'bar', figsize = (16, 4))"
   ]
  },
  {
   "cell_type": "code",
   "execution_count": null,
   "metadata": {
    "collapsed": true
   },
   "outputs": [],
   "source": []
  }
 ],
 "metadata": {
  "kernelspec": {
   "display_name": "Python 3",
   "language": "python",
   "name": "python3"
  },
  "language_info": {
   "codemirror_mode": {
    "name": "ipython",
    "version": 3
   },
   "file_extension": ".py",
   "mimetype": "text/x-python",
   "name": "python",
   "nbconvert_exporter": "python",
   "pygments_lexer": "ipython3",
   "version": "3.5.2"
  },
  "toc": {
   "colors": {
    "hover_highlight": "#DAA520",
    "navigate_num": "#000000",
    "navigate_text": "#333333",
    "running_highlight": "#FF0000",
    "selected_highlight": "#FFD700",
    "sidebar_border": "#EEEEEE",
    "wrapper_background": "#FFFFFF"
   },
   "moveMenuLeft": true,
   "nav_menu": {
    "height": "310px",
    "width": "253px"
   },
   "navigate_menu": true,
   "number_sections": false,
   "sideBar": true,
   "threshold": 4,
   "toc_cell": false,
   "toc_section_display": "block",
   "toc_window_display": false,
   "widenNotebook": false
  }
 },
 "nbformat": 4,
 "nbformat_minor": 1
}
